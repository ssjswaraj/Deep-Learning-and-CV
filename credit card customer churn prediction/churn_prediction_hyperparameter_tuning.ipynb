{
  "cells": [
    {
      "cell_type": "code",
      "execution_count": 1,
      "metadata": {
        "id": "iecl-cviDyCf"
      },
      "outputs": [],
      "source": [
        "import pandas as pd\n",
        "import numpy as np\n",
        "import matplotlib.pyplot as plt\n",
        "import seaborn as sns"
      ]
    },
    {
      "cell_type": "code",
      "execution_count": 2,
      "metadata": {
        "id": "_Ty6Osm8MaFC"
      },
      "outputs": [],
      "source": [
        "file_path=\"/content/drive/MyDrive/Colab Notebooks/deep learning/credit card customer churn prediction/Churn_Modelling.csv\"\n",
        "df1=pd.read_csv(file_path)"
      ]
    },
    {
      "cell_type": "code",
      "execution_count": 3,
      "metadata": {
        "colab": {
          "base_uri": "https://localhost:8080/",
          "height": 206
        },
        "id": "5S3QnCohMchq",
        "outputId": "c6c505b4-d077-4684-cc3d-35ff88da06cd"
      },
      "outputs": [
        {
          "output_type": "execute_result",
          "data": {
            "text/plain": [
              "   RowNumber  CustomerId   Surname  CreditScore Geography  Gender  Age  \\\n",
              "0          1    15634602  Hargrave          619    France  Female   42   \n",
              "1          2    15647311      Hill          608     Spain  Female   41   \n",
              "2          3    15619304      Onio          502    France  Female   42   \n",
              "3          4    15701354      Boni          699    France  Female   39   \n",
              "4          5    15737888  Mitchell          850     Spain  Female   43   \n",
              "\n",
              "   Tenure    Balance  NumOfProducts  HasCrCard  IsActiveMember  \\\n",
              "0       2       0.00              1          1               1   \n",
              "1       1   83807.86              1          0               1   \n",
              "2       8  159660.80              3          1               0   \n",
              "3       1       0.00              2          0               0   \n",
              "4       2  125510.82              1          1               1   \n",
              "\n",
              "   EstimatedSalary  Exited  \n",
              "0        101348.88       1  \n",
              "1        112542.58       0  \n",
              "2        113931.57       1  \n",
              "3         93826.63       0  \n",
              "4         79084.10       0  "
            ],
            "text/html": [
              "\n",
              "  <div id=\"df-0bc08a9f-9bba-4a3a-8a2a-e7a64ccad12c\" class=\"colab-df-container\">\n",
              "    <div>\n",
              "<style scoped>\n",
              "    .dataframe tbody tr th:only-of-type {\n",
              "        vertical-align: middle;\n",
              "    }\n",
              "\n",
              "    .dataframe tbody tr th {\n",
              "        vertical-align: top;\n",
              "    }\n",
              "\n",
              "    .dataframe thead th {\n",
              "        text-align: right;\n",
              "    }\n",
              "</style>\n",
              "<table border=\"1\" class=\"dataframe\">\n",
              "  <thead>\n",
              "    <tr style=\"text-align: right;\">\n",
              "      <th></th>\n",
              "      <th>RowNumber</th>\n",
              "      <th>CustomerId</th>\n",
              "      <th>Surname</th>\n",
              "      <th>CreditScore</th>\n",
              "      <th>Geography</th>\n",
              "      <th>Gender</th>\n",
              "      <th>Age</th>\n",
              "      <th>Tenure</th>\n",
              "      <th>Balance</th>\n",
              "      <th>NumOfProducts</th>\n",
              "      <th>HasCrCard</th>\n",
              "      <th>IsActiveMember</th>\n",
              "      <th>EstimatedSalary</th>\n",
              "      <th>Exited</th>\n",
              "    </tr>\n",
              "  </thead>\n",
              "  <tbody>\n",
              "    <tr>\n",
              "      <th>0</th>\n",
              "      <td>1</td>\n",
              "      <td>15634602</td>\n",
              "      <td>Hargrave</td>\n",
              "      <td>619</td>\n",
              "      <td>France</td>\n",
              "      <td>Female</td>\n",
              "      <td>42</td>\n",
              "      <td>2</td>\n",
              "      <td>0.00</td>\n",
              "      <td>1</td>\n",
              "      <td>1</td>\n",
              "      <td>1</td>\n",
              "      <td>101348.88</td>\n",
              "      <td>1</td>\n",
              "    </tr>\n",
              "    <tr>\n",
              "      <th>1</th>\n",
              "      <td>2</td>\n",
              "      <td>15647311</td>\n",
              "      <td>Hill</td>\n",
              "      <td>608</td>\n",
              "      <td>Spain</td>\n",
              "      <td>Female</td>\n",
              "      <td>41</td>\n",
              "      <td>1</td>\n",
              "      <td>83807.86</td>\n",
              "      <td>1</td>\n",
              "      <td>0</td>\n",
              "      <td>1</td>\n",
              "      <td>112542.58</td>\n",
              "      <td>0</td>\n",
              "    </tr>\n",
              "    <tr>\n",
              "      <th>2</th>\n",
              "      <td>3</td>\n",
              "      <td>15619304</td>\n",
              "      <td>Onio</td>\n",
              "      <td>502</td>\n",
              "      <td>France</td>\n",
              "      <td>Female</td>\n",
              "      <td>42</td>\n",
              "      <td>8</td>\n",
              "      <td>159660.80</td>\n",
              "      <td>3</td>\n",
              "      <td>1</td>\n",
              "      <td>0</td>\n",
              "      <td>113931.57</td>\n",
              "      <td>1</td>\n",
              "    </tr>\n",
              "    <tr>\n",
              "      <th>3</th>\n",
              "      <td>4</td>\n",
              "      <td>15701354</td>\n",
              "      <td>Boni</td>\n",
              "      <td>699</td>\n",
              "      <td>France</td>\n",
              "      <td>Female</td>\n",
              "      <td>39</td>\n",
              "      <td>1</td>\n",
              "      <td>0.00</td>\n",
              "      <td>2</td>\n",
              "      <td>0</td>\n",
              "      <td>0</td>\n",
              "      <td>93826.63</td>\n",
              "      <td>0</td>\n",
              "    </tr>\n",
              "    <tr>\n",
              "      <th>4</th>\n",
              "      <td>5</td>\n",
              "      <td>15737888</td>\n",
              "      <td>Mitchell</td>\n",
              "      <td>850</td>\n",
              "      <td>Spain</td>\n",
              "      <td>Female</td>\n",
              "      <td>43</td>\n",
              "      <td>2</td>\n",
              "      <td>125510.82</td>\n",
              "      <td>1</td>\n",
              "      <td>1</td>\n",
              "      <td>1</td>\n",
              "      <td>79084.10</td>\n",
              "      <td>0</td>\n",
              "    </tr>\n",
              "  </tbody>\n",
              "</table>\n",
              "</div>\n",
              "    <div class=\"colab-df-buttons\">\n",
              "\n",
              "  <div class=\"colab-df-container\">\n",
              "    <button class=\"colab-df-convert\" onclick=\"convertToInteractive('df-0bc08a9f-9bba-4a3a-8a2a-e7a64ccad12c')\"\n",
              "            title=\"Convert this dataframe to an interactive table.\"\n",
              "            style=\"display:none;\">\n",
              "\n",
              "  <svg xmlns=\"http://www.w3.org/2000/svg\" height=\"24px\" viewBox=\"0 -960 960 960\">\n",
              "    <path d=\"M120-120v-720h720v720H120Zm60-500h600v-160H180v160Zm220 220h160v-160H400v160Zm0 220h160v-160H400v160ZM180-400h160v-160H180v160Zm440 0h160v-160H620v160ZM180-180h160v-160H180v160Zm440 0h160v-160H620v160Z\"/>\n",
              "  </svg>\n",
              "    </button>\n",
              "\n",
              "  <style>\n",
              "    .colab-df-container {\n",
              "      display:flex;\n",
              "      gap: 12px;\n",
              "    }\n",
              "\n",
              "    .colab-df-convert {\n",
              "      background-color: #E8F0FE;\n",
              "      border: none;\n",
              "      border-radius: 50%;\n",
              "      cursor: pointer;\n",
              "      display: none;\n",
              "      fill: #1967D2;\n",
              "      height: 32px;\n",
              "      padding: 0 0 0 0;\n",
              "      width: 32px;\n",
              "    }\n",
              "\n",
              "    .colab-df-convert:hover {\n",
              "      background-color: #E2EBFA;\n",
              "      box-shadow: 0px 1px 2px rgba(60, 64, 67, 0.3), 0px 1px 3px 1px rgba(60, 64, 67, 0.15);\n",
              "      fill: #174EA6;\n",
              "    }\n",
              "\n",
              "    .colab-df-buttons div {\n",
              "      margin-bottom: 4px;\n",
              "    }\n",
              "\n",
              "    [theme=dark] .colab-df-convert {\n",
              "      background-color: #3B4455;\n",
              "      fill: #D2E3FC;\n",
              "    }\n",
              "\n",
              "    [theme=dark] .colab-df-convert:hover {\n",
              "      background-color: #434B5C;\n",
              "      box-shadow: 0px 1px 3px 1px rgba(0, 0, 0, 0.15);\n",
              "      filter: drop-shadow(0px 1px 2px rgba(0, 0, 0, 0.3));\n",
              "      fill: #FFFFFF;\n",
              "    }\n",
              "  </style>\n",
              "\n",
              "    <script>\n",
              "      const buttonEl =\n",
              "        document.querySelector('#df-0bc08a9f-9bba-4a3a-8a2a-e7a64ccad12c button.colab-df-convert');\n",
              "      buttonEl.style.display =\n",
              "        google.colab.kernel.accessAllowed ? 'block' : 'none';\n",
              "\n",
              "      async function convertToInteractive(key) {\n",
              "        const element = document.querySelector('#df-0bc08a9f-9bba-4a3a-8a2a-e7a64ccad12c');\n",
              "        const dataTable =\n",
              "          await google.colab.kernel.invokeFunction('convertToInteractive',\n",
              "                                                    [key], {});\n",
              "        if (!dataTable) return;\n",
              "\n",
              "        const docLinkHtml = 'Like what you see? Visit the ' +\n",
              "          '<a target=\"_blank\" href=https://colab.research.google.com/notebooks/data_table.ipynb>data table notebook</a>'\n",
              "          + ' to learn more about interactive tables.';\n",
              "        element.innerHTML = '';\n",
              "        dataTable['output_type'] = 'display_data';\n",
              "        await google.colab.output.renderOutput(dataTable, element);\n",
              "        const docLink = document.createElement('div');\n",
              "        docLink.innerHTML = docLinkHtml;\n",
              "        element.appendChild(docLink);\n",
              "      }\n",
              "    </script>\n",
              "  </div>\n",
              "\n",
              "\n",
              "<div id=\"df-aded543e-53e0-437c-8fb3-72f6e074c14e\">\n",
              "  <button class=\"colab-df-quickchart\" onclick=\"quickchart('df-aded543e-53e0-437c-8fb3-72f6e074c14e')\"\n",
              "            title=\"Suggest charts\"\n",
              "            style=\"display:none;\">\n",
              "\n",
              "<svg xmlns=\"http://www.w3.org/2000/svg\" height=\"24px\"viewBox=\"0 0 24 24\"\n",
              "     width=\"24px\">\n",
              "    <g>\n",
              "        <path d=\"M19 3H5c-1.1 0-2 .9-2 2v14c0 1.1.9 2 2 2h14c1.1 0 2-.9 2-2V5c0-1.1-.9-2-2-2zM9 17H7v-7h2v7zm4 0h-2V7h2v10zm4 0h-2v-4h2v4z\"/>\n",
              "    </g>\n",
              "</svg>\n",
              "  </button>\n",
              "\n",
              "<style>\n",
              "  .colab-df-quickchart {\n",
              "      --bg-color: #E8F0FE;\n",
              "      --fill-color: #1967D2;\n",
              "      --hover-bg-color: #E2EBFA;\n",
              "      --hover-fill-color: #174EA6;\n",
              "      --disabled-fill-color: #AAA;\n",
              "      --disabled-bg-color: #DDD;\n",
              "  }\n",
              "\n",
              "  [theme=dark] .colab-df-quickchart {\n",
              "      --bg-color: #3B4455;\n",
              "      --fill-color: #D2E3FC;\n",
              "      --hover-bg-color: #434B5C;\n",
              "      --hover-fill-color: #FFFFFF;\n",
              "      --disabled-bg-color: #3B4455;\n",
              "      --disabled-fill-color: #666;\n",
              "  }\n",
              "\n",
              "  .colab-df-quickchart {\n",
              "    background-color: var(--bg-color);\n",
              "    border: none;\n",
              "    border-radius: 50%;\n",
              "    cursor: pointer;\n",
              "    display: none;\n",
              "    fill: var(--fill-color);\n",
              "    height: 32px;\n",
              "    padding: 0;\n",
              "    width: 32px;\n",
              "  }\n",
              "\n",
              "  .colab-df-quickchart:hover {\n",
              "    background-color: var(--hover-bg-color);\n",
              "    box-shadow: 0 1px 2px rgba(60, 64, 67, 0.3), 0 1px 3px 1px rgba(60, 64, 67, 0.15);\n",
              "    fill: var(--button-hover-fill-color);\n",
              "  }\n",
              "\n",
              "  .colab-df-quickchart-complete:disabled,\n",
              "  .colab-df-quickchart-complete:disabled:hover {\n",
              "    background-color: var(--disabled-bg-color);\n",
              "    fill: var(--disabled-fill-color);\n",
              "    box-shadow: none;\n",
              "  }\n",
              "\n",
              "  .colab-df-spinner {\n",
              "    border: 2px solid var(--fill-color);\n",
              "    border-color: transparent;\n",
              "    border-bottom-color: var(--fill-color);\n",
              "    animation:\n",
              "      spin 1s steps(1) infinite;\n",
              "  }\n",
              "\n",
              "  @keyframes spin {\n",
              "    0% {\n",
              "      border-color: transparent;\n",
              "      border-bottom-color: var(--fill-color);\n",
              "      border-left-color: var(--fill-color);\n",
              "    }\n",
              "    20% {\n",
              "      border-color: transparent;\n",
              "      border-left-color: var(--fill-color);\n",
              "      border-top-color: var(--fill-color);\n",
              "    }\n",
              "    30% {\n",
              "      border-color: transparent;\n",
              "      border-left-color: var(--fill-color);\n",
              "      border-top-color: var(--fill-color);\n",
              "      border-right-color: var(--fill-color);\n",
              "    }\n",
              "    40% {\n",
              "      border-color: transparent;\n",
              "      border-right-color: var(--fill-color);\n",
              "      border-top-color: var(--fill-color);\n",
              "    }\n",
              "    60% {\n",
              "      border-color: transparent;\n",
              "      border-right-color: var(--fill-color);\n",
              "    }\n",
              "    80% {\n",
              "      border-color: transparent;\n",
              "      border-right-color: var(--fill-color);\n",
              "      border-bottom-color: var(--fill-color);\n",
              "    }\n",
              "    90% {\n",
              "      border-color: transparent;\n",
              "      border-bottom-color: var(--fill-color);\n",
              "    }\n",
              "  }\n",
              "</style>\n",
              "\n",
              "  <script>\n",
              "    async function quickchart(key) {\n",
              "      const quickchartButtonEl =\n",
              "        document.querySelector('#' + key + ' button');\n",
              "      quickchartButtonEl.disabled = true;  // To prevent multiple clicks.\n",
              "      quickchartButtonEl.classList.add('colab-df-spinner');\n",
              "      try {\n",
              "        const charts = await google.colab.kernel.invokeFunction(\n",
              "            'suggestCharts', [key], {});\n",
              "      } catch (error) {\n",
              "        console.error('Error during call to suggestCharts:', error);\n",
              "      }\n",
              "      quickchartButtonEl.classList.remove('colab-df-spinner');\n",
              "      quickchartButtonEl.classList.add('colab-df-quickchart-complete');\n",
              "    }\n",
              "    (() => {\n",
              "      let quickchartButtonEl =\n",
              "        document.querySelector('#df-aded543e-53e0-437c-8fb3-72f6e074c14e button');\n",
              "      quickchartButtonEl.style.display =\n",
              "        google.colab.kernel.accessAllowed ? 'block' : 'none';\n",
              "    })();\n",
              "  </script>\n",
              "</div>\n",
              "\n",
              "    </div>\n",
              "  </div>\n"
            ],
            "application/vnd.google.colaboratory.intrinsic+json": {
              "type": "dataframe",
              "variable_name": "df1",
              "summary": "{\n  \"name\": \"df1\",\n  \"rows\": 10000,\n  \"fields\": [\n    {\n      \"column\": \"RowNumber\",\n      \"properties\": {\n        \"dtype\": \"number\",\n        \"std\": 2886,\n        \"min\": 1,\n        \"max\": 10000,\n        \"num_unique_values\": 10000,\n        \"samples\": [\n          6253,\n          4685,\n          1732\n        ],\n        \"semantic_type\": \"\",\n        \"description\": \"\"\n      }\n    },\n    {\n      \"column\": \"CustomerId\",\n      \"properties\": {\n        \"dtype\": \"number\",\n        \"std\": 71936,\n        \"min\": 15565701,\n        \"max\": 15815690,\n        \"num_unique_values\": 10000,\n        \"samples\": [\n          15687492,\n          15736963,\n          15721730\n        ],\n        \"semantic_type\": \"\",\n        \"description\": \"\"\n      }\n    },\n    {\n      \"column\": \"Surname\",\n      \"properties\": {\n        \"dtype\": \"category\",\n        \"num_unique_values\": 2932,\n        \"samples\": [\n          \"McGuirk\",\n          \"Torkelson\",\n          \"Rapuluchukwu\"\n        ],\n        \"semantic_type\": \"\",\n        \"description\": \"\"\n      }\n    },\n    {\n      \"column\": \"CreditScore\",\n      \"properties\": {\n        \"dtype\": \"number\",\n        \"std\": 96,\n        \"min\": 350,\n        \"max\": 850,\n        \"num_unique_values\": 460,\n        \"samples\": [\n          754,\n          533,\n          744\n        ],\n        \"semantic_type\": \"\",\n        \"description\": \"\"\n      }\n    },\n    {\n      \"column\": \"Geography\",\n      \"properties\": {\n        \"dtype\": \"category\",\n        \"num_unique_values\": 3,\n        \"samples\": [\n          \"France\",\n          \"Spain\",\n          \"Germany\"\n        ],\n        \"semantic_type\": \"\",\n        \"description\": \"\"\n      }\n    },\n    {\n      \"column\": \"Gender\",\n      \"properties\": {\n        \"dtype\": \"category\",\n        \"num_unique_values\": 2,\n        \"samples\": [\n          \"Male\",\n          \"Female\"\n        ],\n        \"semantic_type\": \"\",\n        \"description\": \"\"\n      }\n    },\n    {\n      \"column\": \"Age\",\n      \"properties\": {\n        \"dtype\": \"number\",\n        \"std\": 10,\n        \"min\": 18,\n        \"max\": 92,\n        \"num_unique_values\": 70,\n        \"samples\": [\n          61,\n          42\n        ],\n        \"semantic_type\": \"\",\n        \"description\": \"\"\n      }\n    },\n    {\n      \"column\": \"Tenure\",\n      \"properties\": {\n        \"dtype\": \"number\",\n        \"std\": 2,\n        \"min\": 0,\n        \"max\": 10,\n        \"num_unique_values\": 11,\n        \"samples\": [\n          6,\n          2\n        ],\n        \"semantic_type\": \"\",\n        \"description\": \"\"\n      }\n    },\n    {\n      \"column\": \"Balance\",\n      \"properties\": {\n        \"dtype\": \"number\",\n        \"std\": 62397.405202385955,\n        \"min\": 0.0,\n        \"max\": 250898.09,\n        \"num_unique_values\": 6382,\n        \"samples\": [\n          117707.18,\n          133050.97\n        ],\n        \"semantic_type\": \"\",\n        \"description\": \"\"\n      }\n    },\n    {\n      \"column\": \"NumOfProducts\",\n      \"properties\": {\n        \"dtype\": \"number\",\n        \"std\": 0,\n        \"min\": 1,\n        \"max\": 4,\n        \"num_unique_values\": 4,\n        \"samples\": [\n          3,\n          4\n        ],\n        \"semantic_type\": \"\",\n        \"description\": \"\"\n      }\n    },\n    {\n      \"column\": \"HasCrCard\",\n      \"properties\": {\n        \"dtype\": \"number\",\n        \"std\": 0,\n        \"min\": 0,\n        \"max\": 1,\n        \"num_unique_values\": 2,\n        \"samples\": [\n          0,\n          1\n        ],\n        \"semantic_type\": \"\",\n        \"description\": \"\"\n      }\n    },\n    {\n      \"column\": \"IsActiveMember\",\n      \"properties\": {\n        \"dtype\": \"number\",\n        \"std\": 0,\n        \"min\": 0,\n        \"max\": 1,\n        \"num_unique_values\": 2,\n        \"samples\": [\n          0,\n          1\n        ],\n        \"semantic_type\": \"\",\n        \"description\": \"\"\n      }\n    },\n    {\n      \"column\": \"EstimatedSalary\",\n      \"properties\": {\n        \"dtype\": \"number\",\n        \"std\": 57510.49281769816,\n        \"min\": 11.58,\n        \"max\": 199992.48,\n        \"num_unique_values\": 9999,\n        \"samples\": [\n          100809.99,\n          95273.73\n        ],\n        \"semantic_type\": \"\",\n        \"description\": \"\"\n      }\n    },\n    {\n      \"column\": \"Exited\",\n      \"properties\": {\n        \"dtype\": \"number\",\n        \"std\": 0,\n        \"min\": 0,\n        \"max\": 1,\n        \"num_unique_values\": 2,\n        \"samples\": [\n          0,\n          1\n        ],\n        \"semantic_type\": \"\",\n        \"description\": \"\"\n      }\n    }\n  ]\n}"
            }
          },
          "metadata": {},
          "execution_count": 3
        }
      ],
      "source": [
        "df1.head()"
      ]
    },
    {
      "cell_type": "code",
      "execution_count": 4,
      "metadata": {
        "id": "cPCEYVMHMyuM"
      },
      "outputs": [],
      "source": [
        "df1.drop(columns=['RowNumber','CustomerId','Surname'],inplace=True)"
      ]
    },
    {
      "cell_type": "code",
      "execution_count": 5,
      "metadata": {
        "colab": {
          "base_uri": "https://localhost:8080/",
          "height": 206
        },
        "id": "6BKJp33ZO_Tw",
        "outputId": "e6f57f71-8c17-4a62-8b78-4f837be20710"
      },
      "outputs": [
        {
          "output_type": "execute_result",
          "data": {
            "text/plain": [
              "   CreditScore Geography  Gender  Age  Tenure    Balance  NumOfProducts  \\\n",
              "0          619    France  Female   42       2       0.00              1   \n",
              "1          608     Spain  Female   41       1   83807.86              1   \n",
              "2          502    France  Female   42       8  159660.80              3   \n",
              "3          699    France  Female   39       1       0.00              2   \n",
              "4          850     Spain  Female   43       2  125510.82              1   \n",
              "\n",
              "   HasCrCard  IsActiveMember  EstimatedSalary  Exited  \n",
              "0          1               1        101348.88       1  \n",
              "1          0               1        112542.58       0  \n",
              "2          1               0        113931.57       1  \n",
              "3          0               0         93826.63       0  \n",
              "4          1               1         79084.10       0  "
            ],
            "text/html": [
              "\n",
              "  <div id=\"df-85d43545-9a44-401e-9e2a-8ed6b0187b66\" class=\"colab-df-container\">\n",
              "    <div>\n",
              "<style scoped>\n",
              "    .dataframe tbody tr th:only-of-type {\n",
              "        vertical-align: middle;\n",
              "    }\n",
              "\n",
              "    .dataframe tbody tr th {\n",
              "        vertical-align: top;\n",
              "    }\n",
              "\n",
              "    .dataframe thead th {\n",
              "        text-align: right;\n",
              "    }\n",
              "</style>\n",
              "<table border=\"1\" class=\"dataframe\">\n",
              "  <thead>\n",
              "    <tr style=\"text-align: right;\">\n",
              "      <th></th>\n",
              "      <th>CreditScore</th>\n",
              "      <th>Geography</th>\n",
              "      <th>Gender</th>\n",
              "      <th>Age</th>\n",
              "      <th>Tenure</th>\n",
              "      <th>Balance</th>\n",
              "      <th>NumOfProducts</th>\n",
              "      <th>HasCrCard</th>\n",
              "      <th>IsActiveMember</th>\n",
              "      <th>EstimatedSalary</th>\n",
              "      <th>Exited</th>\n",
              "    </tr>\n",
              "  </thead>\n",
              "  <tbody>\n",
              "    <tr>\n",
              "      <th>0</th>\n",
              "      <td>619</td>\n",
              "      <td>France</td>\n",
              "      <td>Female</td>\n",
              "      <td>42</td>\n",
              "      <td>2</td>\n",
              "      <td>0.00</td>\n",
              "      <td>1</td>\n",
              "      <td>1</td>\n",
              "      <td>1</td>\n",
              "      <td>101348.88</td>\n",
              "      <td>1</td>\n",
              "    </tr>\n",
              "    <tr>\n",
              "      <th>1</th>\n",
              "      <td>608</td>\n",
              "      <td>Spain</td>\n",
              "      <td>Female</td>\n",
              "      <td>41</td>\n",
              "      <td>1</td>\n",
              "      <td>83807.86</td>\n",
              "      <td>1</td>\n",
              "      <td>0</td>\n",
              "      <td>1</td>\n",
              "      <td>112542.58</td>\n",
              "      <td>0</td>\n",
              "    </tr>\n",
              "    <tr>\n",
              "      <th>2</th>\n",
              "      <td>502</td>\n",
              "      <td>France</td>\n",
              "      <td>Female</td>\n",
              "      <td>42</td>\n",
              "      <td>8</td>\n",
              "      <td>159660.80</td>\n",
              "      <td>3</td>\n",
              "      <td>1</td>\n",
              "      <td>0</td>\n",
              "      <td>113931.57</td>\n",
              "      <td>1</td>\n",
              "    </tr>\n",
              "    <tr>\n",
              "      <th>3</th>\n",
              "      <td>699</td>\n",
              "      <td>France</td>\n",
              "      <td>Female</td>\n",
              "      <td>39</td>\n",
              "      <td>1</td>\n",
              "      <td>0.00</td>\n",
              "      <td>2</td>\n",
              "      <td>0</td>\n",
              "      <td>0</td>\n",
              "      <td>93826.63</td>\n",
              "      <td>0</td>\n",
              "    </tr>\n",
              "    <tr>\n",
              "      <th>4</th>\n",
              "      <td>850</td>\n",
              "      <td>Spain</td>\n",
              "      <td>Female</td>\n",
              "      <td>43</td>\n",
              "      <td>2</td>\n",
              "      <td>125510.82</td>\n",
              "      <td>1</td>\n",
              "      <td>1</td>\n",
              "      <td>1</td>\n",
              "      <td>79084.10</td>\n",
              "      <td>0</td>\n",
              "    </tr>\n",
              "  </tbody>\n",
              "</table>\n",
              "</div>\n",
              "    <div class=\"colab-df-buttons\">\n",
              "\n",
              "  <div class=\"colab-df-container\">\n",
              "    <button class=\"colab-df-convert\" onclick=\"convertToInteractive('df-85d43545-9a44-401e-9e2a-8ed6b0187b66')\"\n",
              "            title=\"Convert this dataframe to an interactive table.\"\n",
              "            style=\"display:none;\">\n",
              "\n",
              "  <svg xmlns=\"http://www.w3.org/2000/svg\" height=\"24px\" viewBox=\"0 -960 960 960\">\n",
              "    <path d=\"M120-120v-720h720v720H120Zm60-500h600v-160H180v160Zm220 220h160v-160H400v160Zm0 220h160v-160H400v160ZM180-400h160v-160H180v160Zm440 0h160v-160H620v160ZM180-180h160v-160H180v160Zm440 0h160v-160H620v160Z\"/>\n",
              "  </svg>\n",
              "    </button>\n",
              "\n",
              "  <style>\n",
              "    .colab-df-container {\n",
              "      display:flex;\n",
              "      gap: 12px;\n",
              "    }\n",
              "\n",
              "    .colab-df-convert {\n",
              "      background-color: #E8F0FE;\n",
              "      border: none;\n",
              "      border-radius: 50%;\n",
              "      cursor: pointer;\n",
              "      display: none;\n",
              "      fill: #1967D2;\n",
              "      height: 32px;\n",
              "      padding: 0 0 0 0;\n",
              "      width: 32px;\n",
              "    }\n",
              "\n",
              "    .colab-df-convert:hover {\n",
              "      background-color: #E2EBFA;\n",
              "      box-shadow: 0px 1px 2px rgba(60, 64, 67, 0.3), 0px 1px 3px 1px rgba(60, 64, 67, 0.15);\n",
              "      fill: #174EA6;\n",
              "    }\n",
              "\n",
              "    .colab-df-buttons div {\n",
              "      margin-bottom: 4px;\n",
              "    }\n",
              "\n",
              "    [theme=dark] .colab-df-convert {\n",
              "      background-color: #3B4455;\n",
              "      fill: #D2E3FC;\n",
              "    }\n",
              "\n",
              "    [theme=dark] .colab-df-convert:hover {\n",
              "      background-color: #434B5C;\n",
              "      box-shadow: 0px 1px 3px 1px rgba(0, 0, 0, 0.15);\n",
              "      filter: drop-shadow(0px 1px 2px rgba(0, 0, 0, 0.3));\n",
              "      fill: #FFFFFF;\n",
              "    }\n",
              "  </style>\n",
              "\n",
              "    <script>\n",
              "      const buttonEl =\n",
              "        document.querySelector('#df-85d43545-9a44-401e-9e2a-8ed6b0187b66 button.colab-df-convert');\n",
              "      buttonEl.style.display =\n",
              "        google.colab.kernel.accessAllowed ? 'block' : 'none';\n",
              "\n",
              "      async function convertToInteractive(key) {\n",
              "        const element = document.querySelector('#df-85d43545-9a44-401e-9e2a-8ed6b0187b66');\n",
              "        const dataTable =\n",
              "          await google.colab.kernel.invokeFunction('convertToInteractive',\n",
              "                                                    [key], {});\n",
              "        if (!dataTable) return;\n",
              "\n",
              "        const docLinkHtml = 'Like what you see? Visit the ' +\n",
              "          '<a target=\"_blank\" href=https://colab.research.google.com/notebooks/data_table.ipynb>data table notebook</a>'\n",
              "          + ' to learn more about interactive tables.';\n",
              "        element.innerHTML = '';\n",
              "        dataTable['output_type'] = 'display_data';\n",
              "        await google.colab.output.renderOutput(dataTable, element);\n",
              "        const docLink = document.createElement('div');\n",
              "        docLink.innerHTML = docLinkHtml;\n",
              "        element.appendChild(docLink);\n",
              "      }\n",
              "    </script>\n",
              "  </div>\n",
              "\n",
              "\n",
              "<div id=\"df-9b056fd1-b4f6-4539-a8e6-f961f90551cd\">\n",
              "  <button class=\"colab-df-quickchart\" onclick=\"quickchart('df-9b056fd1-b4f6-4539-a8e6-f961f90551cd')\"\n",
              "            title=\"Suggest charts\"\n",
              "            style=\"display:none;\">\n",
              "\n",
              "<svg xmlns=\"http://www.w3.org/2000/svg\" height=\"24px\"viewBox=\"0 0 24 24\"\n",
              "     width=\"24px\">\n",
              "    <g>\n",
              "        <path d=\"M19 3H5c-1.1 0-2 .9-2 2v14c0 1.1.9 2 2 2h14c1.1 0 2-.9 2-2V5c0-1.1-.9-2-2-2zM9 17H7v-7h2v7zm4 0h-2V7h2v10zm4 0h-2v-4h2v4z\"/>\n",
              "    </g>\n",
              "</svg>\n",
              "  </button>\n",
              "\n",
              "<style>\n",
              "  .colab-df-quickchart {\n",
              "      --bg-color: #E8F0FE;\n",
              "      --fill-color: #1967D2;\n",
              "      --hover-bg-color: #E2EBFA;\n",
              "      --hover-fill-color: #174EA6;\n",
              "      --disabled-fill-color: #AAA;\n",
              "      --disabled-bg-color: #DDD;\n",
              "  }\n",
              "\n",
              "  [theme=dark] .colab-df-quickchart {\n",
              "      --bg-color: #3B4455;\n",
              "      --fill-color: #D2E3FC;\n",
              "      --hover-bg-color: #434B5C;\n",
              "      --hover-fill-color: #FFFFFF;\n",
              "      --disabled-bg-color: #3B4455;\n",
              "      --disabled-fill-color: #666;\n",
              "  }\n",
              "\n",
              "  .colab-df-quickchart {\n",
              "    background-color: var(--bg-color);\n",
              "    border: none;\n",
              "    border-radius: 50%;\n",
              "    cursor: pointer;\n",
              "    display: none;\n",
              "    fill: var(--fill-color);\n",
              "    height: 32px;\n",
              "    padding: 0;\n",
              "    width: 32px;\n",
              "  }\n",
              "\n",
              "  .colab-df-quickchart:hover {\n",
              "    background-color: var(--hover-bg-color);\n",
              "    box-shadow: 0 1px 2px rgba(60, 64, 67, 0.3), 0 1px 3px 1px rgba(60, 64, 67, 0.15);\n",
              "    fill: var(--button-hover-fill-color);\n",
              "  }\n",
              "\n",
              "  .colab-df-quickchart-complete:disabled,\n",
              "  .colab-df-quickchart-complete:disabled:hover {\n",
              "    background-color: var(--disabled-bg-color);\n",
              "    fill: var(--disabled-fill-color);\n",
              "    box-shadow: none;\n",
              "  }\n",
              "\n",
              "  .colab-df-spinner {\n",
              "    border: 2px solid var(--fill-color);\n",
              "    border-color: transparent;\n",
              "    border-bottom-color: var(--fill-color);\n",
              "    animation:\n",
              "      spin 1s steps(1) infinite;\n",
              "  }\n",
              "\n",
              "  @keyframes spin {\n",
              "    0% {\n",
              "      border-color: transparent;\n",
              "      border-bottom-color: var(--fill-color);\n",
              "      border-left-color: var(--fill-color);\n",
              "    }\n",
              "    20% {\n",
              "      border-color: transparent;\n",
              "      border-left-color: var(--fill-color);\n",
              "      border-top-color: var(--fill-color);\n",
              "    }\n",
              "    30% {\n",
              "      border-color: transparent;\n",
              "      border-left-color: var(--fill-color);\n",
              "      border-top-color: var(--fill-color);\n",
              "      border-right-color: var(--fill-color);\n",
              "    }\n",
              "    40% {\n",
              "      border-color: transparent;\n",
              "      border-right-color: var(--fill-color);\n",
              "      border-top-color: var(--fill-color);\n",
              "    }\n",
              "    60% {\n",
              "      border-color: transparent;\n",
              "      border-right-color: var(--fill-color);\n",
              "    }\n",
              "    80% {\n",
              "      border-color: transparent;\n",
              "      border-right-color: var(--fill-color);\n",
              "      border-bottom-color: var(--fill-color);\n",
              "    }\n",
              "    90% {\n",
              "      border-color: transparent;\n",
              "      border-bottom-color: var(--fill-color);\n",
              "    }\n",
              "  }\n",
              "</style>\n",
              "\n",
              "  <script>\n",
              "    async function quickchart(key) {\n",
              "      const quickchartButtonEl =\n",
              "        document.querySelector('#' + key + ' button');\n",
              "      quickchartButtonEl.disabled = true;  // To prevent multiple clicks.\n",
              "      quickchartButtonEl.classList.add('colab-df-spinner');\n",
              "      try {\n",
              "        const charts = await google.colab.kernel.invokeFunction(\n",
              "            'suggestCharts', [key], {});\n",
              "      } catch (error) {\n",
              "        console.error('Error during call to suggestCharts:', error);\n",
              "      }\n",
              "      quickchartButtonEl.classList.remove('colab-df-spinner');\n",
              "      quickchartButtonEl.classList.add('colab-df-quickchart-complete');\n",
              "    }\n",
              "    (() => {\n",
              "      let quickchartButtonEl =\n",
              "        document.querySelector('#df-9b056fd1-b4f6-4539-a8e6-f961f90551cd button');\n",
              "      quickchartButtonEl.style.display =\n",
              "        google.colab.kernel.accessAllowed ? 'block' : 'none';\n",
              "    })();\n",
              "  </script>\n",
              "</div>\n",
              "\n",
              "    </div>\n",
              "  </div>\n"
            ],
            "application/vnd.google.colaboratory.intrinsic+json": {
              "type": "dataframe",
              "variable_name": "df1",
              "summary": "{\n  \"name\": \"df1\",\n  \"rows\": 10000,\n  \"fields\": [\n    {\n      \"column\": \"CreditScore\",\n      \"properties\": {\n        \"dtype\": \"number\",\n        \"std\": 96,\n        \"min\": 350,\n        \"max\": 850,\n        \"num_unique_values\": 460,\n        \"samples\": [\n          754,\n          533,\n          744\n        ],\n        \"semantic_type\": \"\",\n        \"description\": \"\"\n      }\n    },\n    {\n      \"column\": \"Geography\",\n      \"properties\": {\n        \"dtype\": \"category\",\n        \"num_unique_values\": 3,\n        \"samples\": [\n          \"France\",\n          \"Spain\",\n          \"Germany\"\n        ],\n        \"semantic_type\": \"\",\n        \"description\": \"\"\n      }\n    },\n    {\n      \"column\": \"Gender\",\n      \"properties\": {\n        \"dtype\": \"category\",\n        \"num_unique_values\": 2,\n        \"samples\": [\n          \"Male\",\n          \"Female\"\n        ],\n        \"semantic_type\": \"\",\n        \"description\": \"\"\n      }\n    },\n    {\n      \"column\": \"Age\",\n      \"properties\": {\n        \"dtype\": \"number\",\n        \"std\": 10,\n        \"min\": 18,\n        \"max\": 92,\n        \"num_unique_values\": 70,\n        \"samples\": [\n          61,\n          42\n        ],\n        \"semantic_type\": \"\",\n        \"description\": \"\"\n      }\n    },\n    {\n      \"column\": \"Tenure\",\n      \"properties\": {\n        \"dtype\": \"number\",\n        \"std\": 2,\n        \"min\": 0,\n        \"max\": 10,\n        \"num_unique_values\": 11,\n        \"samples\": [\n          6,\n          2\n        ],\n        \"semantic_type\": \"\",\n        \"description\": \"\"\n      }\n    },\n    {\n      \"column\": \"Balance\",\n      \"properties\": {\n        \"dtype\": \"number\",\n        \"std\": 62397.405202385955,\n        \"min\": 0.0,\n        \"max\": 250898.09,\n        \"num_unique_values\": 6382,\n        \"samples\": [\n          117707.18,\n          133050.97\n        ],\n        \"semantic_type\": \"\",\n        \"description\": \"\"\n      }\n    },\n    {\n      \"column\": \"NumOfProducts\",\n      \"properties\": {\n        \"dtype\": \"number\",\n        \"std\": 0,\n        \"min\": 1,\n        \"max\": 4,\n        \"num_unique_values\": 4,\n        \"samples\": [\n          3,\n          4\n        ],\n        \"semantic_type\": \"\",\n        \"description\": \"\"\n      }\n    },\n    {\n      \"column\": \"HasCrCard\",\n      \"properties\": {\n        \"dtype\": \"number\",\n        \"std\": 0,\n        \"min\": 0,\n        \"max\": 1,\n        \"num_unique_values\": 2,\n        \"samples\": [\n          0,\n          1\n        ],\n        \"semantic_type\": \"\",\n        \"description\": \"\"\n      }\n    },\n    {\n      \"column\": \"IsActiveMember\",\n      \"properties\": {\n        \"dtype\": \"number\",\n        \"std\": 0,\n        \"min\": 0,\n        \"max\": 1,\n        \"num_unique_values\": 2,\n        \"samples\": [\n          0,\n          1\n        ],\n        \"semantic_type\": \"\",\n        \"description\": \"\"\n      }\n    },\n    {\n      \"column\": \"EstimatedSalary\",\n      \"properties\": {\n        \"dtype\": \"number\",\n        \"std\": 57510.49281769816,\n        \"min\": 11.58,\n        \"max\": 199992.48,\n        \"num_unique_values\": 9999,\n        \"samples\": [\n          100809.99,\n          95273.73\n        ],\n        \"semantic_type\": \"\",\n        \"description\": \"\"\n      }\n    },\n    {\n      \"column\": \"Exited\",\n      \"properties\": {\n        \"dtype\": \"number\",\n        \"std\": 0,\n        \"min\": 0,\n        \"max\": 1,\n        \"num_unique_values\": 2,\n        \"samples\": [\n          0,\n          1\n        ],\n        \"semantic_type\": \"\",\n        \"description\": \"\"\n      }\n    }\n  ]\n}"
            }
          },
          "metadata": {},
          "execution_count": 5
        }
      ],
      "source": [
        "df1.head()"
      ]
    },
    {
      "cell_type": "code",
      "execution_count": 6,
      "metadata": {
        "colab": {
          "base_uri": "https://localhost:8080/"
        },
        "id": "izDdg1YBMwoB",
        "outputId": "67f1f9fb-51ca-4186-db0e-679a45455960"
      },
      "outputs": [
        {
          "output_type": "stream",
          "name": "stdout",
          "text": [
            "<class 'pandas.core.frame.DataFrame'>\n",
            "RangeIndex: 10000 entries, 0 to 9999\n",
            "Data columns (total 11 columns):\n",
            " #   Column           Non-Null Count  Dtype  \n",
            "---  ------           --------------  -----  \n",
            " 0   CreditScore      10000 non-null  int64  \n",
            " 1   Geography        10000 non-null  object \n",
            " 2   Gender           10000 non-null  object \n",
            " 3   Age              10000 non-null  int64  \n",
            " 4   Tenure           10000 non-null  int64  \n",
            " 5   Balance          10000 non-null  float64\n",
            " 6   NumOfProducts    10000 non-null  int64  \n",
            " 7   HasCrCard        10000 non-null  int64  \n",
            " 8   IsActiveMember   10000 non-null  int64  \n",
            " 9   EstimatedSalary  10000 non-null  float64\n",
            " 10  Exited           10000 non-null  int64  \n",
            "dtypes: float64(2), int64(7), object(2)\n",
            "memory usage: 859.5+ KB\n"
          ]
        }
      ],
      "source": [
        "df1.info()"
      ]
    },
    {
      "cell_type": "code",
      "execution_count": 7,
      "metadata": {
        "colab": {
          "base_uri": "https://localhost:8080/"
        },
        "id": "fTx25s1mO9Lm",
        "outputId": "15101d5c-7568-4ea9-e478-469f3cdd06a1"
      },
      "outputs": [
        {
          "output_type": "execute_result",
          "data": {
            "text/plain": [
              "Geography\n",
              "France     5014\n",
              "Germany    2509\n",
              "Spain      2477\n",
              "Name: count, dtype: int64"
            ]
          },
          "metadata": {},
          "execution_count": 7
        }
      ],
      "source": [
        "df1['Geography'].value_counts()"
      ]
    },
    {
      "cell_type": "code",
      "execution_count": 8,
      "metadata": {
        "colab": {
          "base_uri": "https://localhost:8080/"
        },
        "id": "BYVbacDMPJjZ",
        "outputId": "7c368277-abcc-4f7d-a81e-1478c7e3249a"
      },
      "outputs": [
        {
          "output_type": "execute_result",
          "data": {
            "text/plain": [
              "Gender\n",
              "Male      5457\n",
              "Female    4543\n",
              "Name: count, dtype: int64"
            ]
          },
          "metadata": {},
          "execution_count": 8
        }
      ],
      "source": [
        "df1['Gender'].value_counts()"
      ]
    },
    {
      "cell_type": "code",
      "execution_count": 9,
      "metadata": {
        "colab": {
          "base_uri": "https://localhost:8080/"
        },
        "id": "mhGYw0JeZoy3",
        "outputId": "c217c62d-e510-4cf0-90d3-d5d97092f291"
      },
      "outputs": [
        {
          "output_type": "stream",
          "name": "stdout",
          "text": [
            "[1 0]\n",
            "[1 0]\n",
            "[1 3 2 4]\n"
          ]
        }
      ],
      "source": [
        "print(df1['HasCrCard'].unique())\n",
        "print(df1['IsActiveMember'].unique())\n",
        "print(df1['NumOfProducts'].unique())"
      ]
    },
    {
      "cell_type": "code",
      "execution_count": 10,
      "metadata": {
        "id": "Fpul_lraPbVJ"
      },
      "outputs": [],
      "source": [
        "df=pd.get_dummies(df1,columns=['Geography','Gender'],dtype=int)"
      ]
    },
    {
      "cell_type": "code",
      "execution_count": 11,
      "metadata": {
        "colab": {
          "base_uri": "https://localhost:8080/",
          "height": 226
        },
        "id": "eBtKvflCQt_7",
        "outputId": "d92090c4-9f1e-4d6d-9593-1afc8d7ff1bd"
      },
      "outputs": [
        {
          "output_type": "execute_result",
          "data": {
            "text/plain": [
              "   CreditScore  Age  Tenure    Balance  NumOfProducts  HasCrCard  \\\n",
              "0          619   42       2       0.00              1          1   \n",
              "1          608   41       1   83807.86              1          0   \n",
              "2          502   42       8  159660.80              3          1   \n",
              "3          699   39       1       0.00              2          0   \n",
              "4          850   43       2  125510.82              1          1   \n",
              "\n",
              "   IsActiveMember  EstimatedSalary  Exited  Geography_France  \\\n",
              "0               1        101348.88       1                 1   \n",
              "1               1        112542.58       0                 0   \n",
              "2               0        113931.57       1                 1   \n",
              "3               0         93826.63       0                 1   \n",
              "4               1         79084.10       0                 0   \n",
              "\n",
              "   Geography_Germany  Geography_Spain  Gender_Female  Gender_Male  \n",
              "0                  0                0              1            0  \n",
              "1                  0                1              1            0  \n",
              "2                  0                0              1            0  \n",
              "3                  0                0              1            0  \n",
              "4                  0                1              1            0  "
            ],
            "text/html": [
              "\n",
              "  <div id=\"df-7a3b0d07-ebd0-4527-abb5-b9c306f4a042\" class=\"colab-df-container\">\n",
              "    <div>\n",
              "<style scoped>\n",
              "    .dataframe tbody tr th:only-of-type {\n",
              "        vertical-align: middle;\n",
              "    }\n",
              "\n",
              "    .dataframe tbody tr th {\n",
              "        vertical-align: top;\n",
              "    }\n",
              "\n",
              "    .dataframe thead th {\n",
              "        text-align: right;\n",
              "    }\n",
              "</style>\n",
              "<table border=\"1\" class=\"dataframe\">\n",
              "  <thead>\n",
              "    <tr style=\"text-align: right;\">\n",
              "      <th></th>\n",
              "      <th>CreditScore</th>\n",
              "      <th>Age</th>\n",
              "      <th>Tenure</th>\n",
              "      <th>Balance</th>\n",
              "      <th>NumOfProducts</th>\n",
              "      <th>HasCrCard</th>\n",
              "      <th>IsActiveMember</th>\n",
              "      <th>EstimatedSalary</th>\n",
              "      <th>Exited</th>\n",
              "      <th>Geography_France</th>\n",
              "      <th>Geography_Germany</th>\n",
              "      <th>Geography_Spain</th>\n",
              "      <th>Gender_Female</th>\n",
              "      <th>Gender_Male</th>\n",
              "    </tr>\n",
              "  </thead>\n",
              "  <tbody>\n",
              "    <tr>\n",
              "      <th>0</th>\n",
              "      <td>619</td>\n",
              "      <td>42</td>\n",
              "      <td>2</td>\n",
              "      <td>0.00</td>\n",
              "      <td>1</td>\n",
              "      <td>1</td>\n",
              "      <td>1</td>\n",
              "      <td>101348.88</td>\n",
              "      <td>1</td>\n",
              "      <td>1</td>\n",
              "      <td>0</td>\n",
              "      <td>0</td>\n",
              "      <td>1</td>\n",
              "      <td>0</td>\n",
              "    </tr>\n",
              "    <tr>\n",
              "      <th>1</th>\n",
              "      <td>608</td>\n",
              "      <td>41</td>\n",
              "      <td>1</td>\n",
              "      <td>83807.86</td>\n",
              "      <td>1</td>\n",
              "      <td>0</td>\n",
              "      <td>1</td>\n",
              "      <td>112542.58</td>\n",
              "      <td>0</td>\n",
              "      <td>0</td>\n",
              "      <td>0</td>\n",
              "      <td>1</td>\n",
              "      <td>1</td>\n",
              "      <td>0</td>\n",
              "    </tr>\n",
              "    <tr>\n",
              "      <th>2</th>\n",
              "      <td>502</td>\n",
              "      <td>42</td>\n",
              "      <td>8</td>\n",
              "      <td>159660.80</td>\n",
              "      <td>3</td>\n",
              "      <td>1</td>\n",
              "      <td>0</td>\n",
              "      <td>113931.57</td>\n",
              "      <td>1</td>\n",
              "      <td>1</td>\n",
              "      <td>0</td>\n",
              "      <td>0</td>\n",
              "      <td>1</td>\n",
              "      <td>0</td>\n",
              "    </tr>\n",
              "    <tr>\n",
              "      <th>3</th>\n",
              "      <td>699</td>\n",
              "      <td>39</td>\n",
              "      <td>1</td>\n",
              "      <td>0.00</td>\n",
              "      <td>2</td>\n",
              "      <td>0</td>\n",
              "      <td>0</td>\n",
              "      <td>93826.63</td>\n",
              "      <td>0</td>\n",
              "      <td>1</td>\n",
              "      <td>0</td>\n",
              "      <td>0</td>\n",
              "      <td>1</td>\n",
              "      <td>0</td>\n",
              "    </tr>\n",
              "    <tr>\n",
              "      <th>4</th>\n",
              "      <td>850</td>\n",
              "      <td>43</td>\n",
              "      <td>2</td>\n",
              "      <td>125510.82</td>\n",
              "      <td>1</td>\n",
              "      <td>1</td>\n",
              "      <td>1</td>\n",
              "      <td>79084.10</td>\n",
              "      <td>0</td>\n",
              "      <td>0</td>\n",
              "      <td>0</td>\n",
              "      <td>1</td>\n",
              "      <td>1</td>\n",
              "      <td>0</td>\n",
              "    </tr>\n",
              "  </tbody>\n",
              "</table>\n",
              "</div>\n",
              "    <div class=\"colab-df-buttons\">\n",
              "\n",
              "  <div class=\"colab-df-container\">\n",
              "    <button class=\"colab-df-convert\" onclick=\"convertToInteractive('df-7a3b0d07-ebd0-4527-abb5-b9c306f4a042')\"\n",
              "            title=\"Convert this dataframe to an interactive table.\"\n",
              "            style=\"display:none;\">\n",
              "\n",
              "  <svg xmlns=\"http://www.w3.org/2000/svg\" height=\"24px\" viewBox=\"0 -960 960 960\">\n",
              "    <path d=\"M120-120v-720h720v720H120Zm60-500h600v-160H180v160Zm220 220h160v-160H400v160Zm0 220h160v-160H400v160ZM180-400h160v-160H180v160Zm440 0h160v-160H620v160ZM180-180h160v-160H180v160Zm440 0h160v-160H620v160Z\"/>\n",
              "  </svg>\n",
              "    </button>\n",
              "\n",
              "  <style>\n",
              "    .colab-df-container {\n",
              "      display:flex;\n",
              "      gap: 12px;\n",
              "    }\n",
              "\n",
              "    .colab-df-convert {\n",
              "      background-color: #E8F0FE;\n",
              "      border: none;\n",
              "      border-radius: 50%;\n",
              "      cursor: pointer;\n",
              "      display: none;\n",
              "      fill: #1967D2;\n",
              "      height: 32px;\n",
              "      padding: 0 0 0 0;\n",
              "      width: 32px;\n",
              "    }\n",
              "\n",
              "    .colab-df-convert:hover {\n",
              "      background-color: #E2EBFA;\n",
              "      box-shadow: 0px 1px 2px rgba(60, 64, 67, 0.3), 0px 1px 3px 1px rgba(60, 64, 67, 0.15);\n",
              "      fill: #174EA6;\n",
              "    }\n",
              "\n",
              "    .colab-df-buttons div {\n",
              "      margin-bottom: 4px;\n",
              "    }\n",
              "\n",
              "    [theme=dark] .colab-df-convert {\n",
              "      background-color: #3B4455;\n",
              "      fill: #D2E3FC;\n",
              "    }\n",
              "\n",
              "    [theme=dark] .colab-df-convert:hover {\n",
              "      background-color: #434B5C;\n",
              "      box-shadow: 0px 1px 3px 1px rgba(0, 0, 0, 0.15);\n",
              "      filter: drop-shadow(0px 1px 2px rgba(0, 0, 0, 0.3));\n",
              "      fill: #FFFFFF;\n",
              "    }\n",
              "  </style>\n",
              "\n",
              "    <script>\n",
              "      const buttonEl =\n",
              "        document.querySelector('#df-7a3b0d07-ebd0-4527-abb5-b9c306f4a042 button.colab-df-convert');\n",
              "      buttonEl.style.display =\n",
              "        google.colab.kernel.accessAllowed ? 'block' : 'none';\n",
              "\n",
              "      async function convertToInteractive(key) {\n",
              "        const element = document.querySelector('#df-7a3b0d07-ebd0-4527-abb5-b9c306f4a042');\n",
              "        const dataTable =\n",
              "          await google.colab.kernel.invokeFunction('convertToInteractive',\n",
              "                                                    [key], {});\n",
              "        if (!dataTable) return;\n",
              "\n",
              "        const docLinkHtml = 'Like what you see? Visit the ' +\n",
              "          '<a target=\"_blank\" href=https://colab.research.google.com/notebooks/data_table.ipynb>data table notebook</a>'\n",
              "          + ' to learn more about interactive tables.';\n",
              "        element.innerHTML = '';\n",
              "        dataTable['output_type'] = 'display_data';\n",
              "        await google.colab.output.renderOutput(dataTable, element);\n",
              "        const docLink = document.createElement('div');\n",
              "        docLink.innerHTML = docLinkHtml;\n",
              "        element.appendChild(docLink);\n",
              "      }\n",
              "    </script>\n",
              "  </div>\n",
              "\n",
              "\n",
              "<div id=\"df-df9a8bf9-ee0a-4829-baff-3dd67f2c937d\">\n",
              "  <button class=\"colab-df-quickchart\" onclick=\"quickchart('df-df9a8bf9-ee0a-4829-baff-3dd67f2c937d')\"\n",
              "            title=\"Suggest charts\"\n",
              "            style=\"display:none;\">\n",
              "\n",
              "<svg xmlns=\"http://www.w3.org/2000/svg\" height=\"24px\"viewBox=\"0 0 24 24\"\n",
              "     width=\"24px\">\n",
              "    <g>\n",
              "        <path d=\"M19 3H5c-1.1 0-2 .9-2 2v14c0 1.1.9 2 2 2h14c1.1 0 2-.9 2-2V5c0-1.1-.9-2-2-2zM9 17H7v-7h2v7zm4 0h-2V7h2v10zm4 0h-2v-4h2v4z\"/>\n",
              "    </g>\n",
              "</svg>\n",
              "  </button>\n",
              "\n",
              "<style>\n",
              "  .colab-df-quickchart {\n",
              "      --bg-color: #E8F0FE;\n",
              "      --fill-color: #1967D2;\n",
              "      --hover-bg-color: #E2EBFA;\n",
              "      --hover-fill-color: #174EA6;\n",
              "      --disabled-fill-color: #AAA;\n",
              "      --disabled-bg-color: #DDD;\n",
              "  }\n",
              "\n",
              "  [theme=dark] .colab-df-quickchart {\n",
              "      --bg-color: #3B4455;\n",
              "      --fill-color: #D2E3FC;\n",
              "      --hover-bg-color: #434B5C;\n",
              "      --hover-fill-color: #FFFFFF;\n",
              "      --disabled-bg-color: #3B4455;\n",
              "      --disabled-fill-color: #666;\n",
              "  }\n",
              "\n",
              "  .colab-df-quickchart {\n",
              "    background-color: var(--bg-color);\n",
              "    border: none;\n",
              "    border-radius: 50%;\n",
              "    cursor: pointer;\n",
              "    display: none;\n",
              "    fill: var(--fill-color);\n",
              "    height: 32px;\n",
              "    padding: 0;\n",
              "    width: 32px;\n",
              "  }\n",
              "\n",
              "  .colab-df-quickchart:hover {\n",
              "    background-color: var(--hover-bg-color);\n",
              "    box-shadow: 0 1px 2px rgba(60, 64, 67, 0.3), 0 1px 3px 1px rgba(60, 64, 67, 0.15);\n",
              "    fill: var(--button-hover-fill-color);\n",
              "  }\n",
              "\n",
              "  .colab-df-quickchart-complete:disabled,\n",
              "  .colab-df-quickchart-complete:disabled:hover {\n",
              "    background-color: var(--disabled-bg-color);\n",
              "    fill: var(--disabled-fill-color);\n",
              "    box-shadow: none;\n",
              "  }\n",
              "\n",
              "  .colab-df-spinner {\n",
              "    border: 2px solid var(--fill-color);\n",
              "    border-color: transparent;\n",
              "    border-bottom-color: var(--fill-color);\n",
              "    animation:\n",
              "      spin 1s steps(1) infinite;\n",
              "  }\n",
              "\n",
              "  @keyframes spin {\n",
              "    0% {\n",
              "      border-color: transparent;\n",
              "      border-bottom-color: var(--fill-color);\n",
              "      border-left-color: var(--fill-color);\n",
              "    }\n",
              "    20% {\n",
              "      border-color: transparent;\n",
              "      border-left-color: var(--fill-color);\n",
              "      border-top-color: var(--fill-color);\n",
              "    }\n",
              "    30% {\n",
              "      border-color: transparent;\n",
              "      border-left-color: var(--fill-color);\n",
              "      border-top-color: var(--fill-color);\n",
              "      border-right-color: var(--fill-color);\n",
              "    }\n",
              "    40% {\n",
              "      border-color: transparent;\n",
              "      border-right-color: var(--fill-color);\n",
              "      border-top-color: var(--fill-color);\n",
              "    }\n",
              "    60% {\n",
              "      border-color: transparent;\n",
              "      border-right-color: var(--fill-color);\n",
              "    }\n",
              "    80% {\n",
              "      border-color: transparent;\n",
              "      border-right-color: var(--fill-color);\n",
              "      border-bottom-color: var(--fill-color);\n",
              "    }\n",
              "    90% {\n",
              "      border-color: transparent;\n",
              "      border-bottom-color: var(--fill-color);\n",
              "    }\n",
              "  }\n",
              "</style>\n",
              "\n",
              "  <script>\n",
              "    async function quickchart(key) {\n",
              "      const quickchartButtonEl =\n",
              "        document.querySelector('#' + key + ' button');\n",
              "      quickchartButtonEl.disabled = true;  // To prevent multiple clicks.\n",
              "      quickchartButtonEl.classList.add('colab-df-spinner');\n",
              "      try {\n",
              "        const charts = await google.colab.kernel.invokeFunction(\n",
              "            'suggestCharts', [key], {});\n",
              "      } catch (error) {\n",
              "        console.error('Error during call to suggestCharts:', error);\n",
              "      }\n",
              "      quickchartButtonEl.classList.remove('colab-df-spinner');\n",
              "      quickchartButtonEl.classList.add('colab-df-quickchart-complete');\n",
              "    }\n",
              "    (() => {\n",
              "      let quickchartButtonEl =\n",
              "        document.querySelector('#df-df9a8bf9-ee0a-4829-baff-3dd67f2c937d button');\n",
              "      quickchartButtonEl.style.display =\n",
              "        google.colab.kernel.accessAllowed ? 'block' : 'none';\n",
              "    })();\n",
              "  </script>\n",
              "</div>\n",
              "\n",
              "    </div>\n",
              "  </div>\n"
            ],
            "application/vnd.google.colaboratory.intrinsic+json": {
              "type": "dataframe",
              "variable_name": "df",
              "summary": "{\n  \"name\": \"df\",\n  \"rows\": 10000,\n  \"fields\": [\n    {\n      \"column\": \"CreditScore\",\n      \"properties\": {\n        \"dtype\": \"number\",\n        \"std\": 96,\n        \"min\": 350,\n        \"max\": 850,\n        \"num_unique_values\": 460,\n        \"samples\": [\n          754,\n          533,\n          744\n        ],\n        \"semantic_type\": \"\",\n        \"description\": \"\"\n      }\n    },\n    {\n      \"column\": \"Age\",\n      \"properties\": {\n        \"dtype\": \"number\",\n        \"std\": 10,\n        \"min\": 18,\n        \"max\": 92,\n        \"num_unique_values\": 70,\n        \"samples\": [\n          61,\n          42,\n          59\n        ],\n        \"semantic_type\": \"\",\n        \"description\": \"\"\n      }\n    },\n    {\n      \"column\": \"Tenure\",\n      \"properties\": {\n        \"dtype\": \"number\",\n        \"std\": 2,\n        \"min\": 0,\n        \"max\": 10,\n        \"num_unique_values\": 11,\n        \"samples\": [\n          6,\n          2,\n          9\n        ],\n        \"semantic_type\": \"\",\n        \"description\": \"\"\n      }\n    },\n    {\n      \"column\": \"Balance\",\n      \"properties\": {\n        \"dtype\": \"number\",\n        \"std\": 62397.405202385955,\n        \"min\": 0.0,\n        \"max\": 250898.09,\n        \"num_unique_values\": 6382,\n        \"samples\": [\n          117707.18,\n          133050.97,\n          124271.26\n        ],\n        \"semantic_type\": \"\",\n        \"description\": \"\"\n      }\n    },\n    {\n      \"column\": \"NumOfProducts\",\n      \"properties\": {\n        \"dtype\": \"number\",\n        \"std\": 0,\n        \"min\": 1,\n        \"max\": 4,\n        \"num_unique_values\": 4,\n        \"samples\": [\n          3,\n          4,\n          1\n        ],\n        \"semantic_type\": \"\",\n        \"description\": \"\"\n      }\n    },\n    {\n      \"column\": \"HasCrCard\",\n      \"properties\": {\n        \"dtype\": \"number\",\n        \"std\": 0,\n        \"min\": 0,\n        \"max\": 1,\n        \"num_unique_values\": 2,\n        \"samples\": [\n          0,\n          1\n        ],\n        \"semantic_type\": \"\",\n        \"description\": \"\"\n      }\n    },\n    {\n      \"column\": \"IsActiveMember\",\n      \"properties\": {\n        \"dtype\": \"number\",\n        \"std\": 0,\n        \"min\": 0,\n        \"max\": 1,\n        \"num_unique_values\": 2,\n        \"samples\": [\n          0,\n          1\n        ],\n        \"semantic_type\": \"\",\n        \"description\": \"\"\n      }\n    },\n    {\n      \"column\": \"EstimatedSalary\",\n      \"properties\": {\n        \"dtype\": \"number\",\n        \"std\": 57510.49281769816,\n        \"min\": 11.58,\n        \"max\": 199992.48,\n        \"num_unique_values\": 9999,\n        \"samples\": [\n          100809.99,\n          95273.73\n        ],\n        \"semantic_type\": \"\",\n        \"description\": \"\"\n      }\n    },\n    {\n      \"column\": \"Exited\",\n      \"properties\": {\n        \"dtype\": \"number\",\n        \"std\": 0,\n        \"min\": 0,\n        \"max\": 1,\n        \"num_unique_values\": 2,\n        \"samples\": [\n          0,\n          1\n        ],\n        \"semantic_type\": \"\",\n        \"description\": \"\"\n      }\n    },\n    {\n      \"column\": \"Geography_France\",\n      \"properties\": {\n        \"dtype\": \"number\",\n        \"std\": 0,\n        \"min\": 0,\n        \"max\": 1,\n        \"num_unique_values\": 2,\n        \"samples\": [\n          0,\n          1\n        ],\n        \"semantic_type\": \"\",\n        \"description\": \"\"\n      }\n    },\n    {\n      \"column\": \"Geography_Germany\",\n      \"properties\": {\n        \"dtype\": \"number\",\n        \"std\": 0,\n        \"min\": 0,\n        \"max\": 1,\n        \"num_unique_values\": 2,\n        \"samples\": [\n          1,\n          0\n        ],\n        \"semantic_type\": \"\",\n        \"description\": \"\"\n      }\n    },\n    {\n      \"column\": \"Geography_Spain\",\n      \"properties\": {\n        \"dtype\": \"number\",\n        \"std\": 0,\n        \"min\": 0,\n        \"max\": 1,\n        \"num_unique_values\": 2,\n        \"samples\": [\n          1,\n          0\n        ],\n        \"semantic_type\": \"\",\n        \"description\": \"\"\n      }\n    },\n    {\n      \"column\": \"Gender_Female\",\n      \"properties\": {\n        \"dtype\": \"number\",\n        \"std\": 0,\n        \"min\": 0,\n        \"max\": 1,\n        \"num_unique_values\": 2,\n        \"samples\": [\n          0,\n          1\n        ],\n        \"semantic_type\": \"\",\n        \"description\": \"\"\n      }\n    },\n    {\n      \"column\": \"Gender_Male\",\n      \"properties\": {\n        \"dtype\": \"number\",\n        \"std\": 0,\n        \"min\": 0,\n        \"max\": 1,\n        \"num_unique_values\": 2,\n        \"samples\": [\n          1,\n          0\n        ],\n        \"semantic_type\": \"\",\n        \"description\": \"\"\n      }\n    }\n  ]\n}"
            }
          },
          "metadata": {},
          "execution_count": 11
        }
      ],
      "source": [
        "df.head()"
      ]
    },
    {
      "cell_type": "code",
      "execution_count": 12,
      "metadata": {
        "id": "yRmGcmDvQ9y_"
      },
      "outputs": [],
      "source": [
        "X=df.drop(columns=['Exited'])\n",
        "y=df['Exited']"
      ]
    },
    {
      "cell_type": "code",
      "execution_count": 13,
      "metadata": {
        "id": "yBm7RsXZRQ-L"
      },
      "outputs": [],
      "source": [
        "from sklearn.model_selection import train_test_split\n",
        "X_train,X_test,y_train,y_test=train_test_split(X,y,test_size=0.2,random_state=7)"
      ]
    },
    {
      "cell_type": "code",
      "execution_count": 14,
      "metadata": {
        "colab": {
          "base_uri": "https://localhost:8080/",
          "height": 206
        },
        "id": "0Z0EqJ_IX_Bz",
        "outputId": "35a08e45-9867-45bc-c150-8ff726c183bc"
      },
      "outputs": [
        {
          "output_type": "execute_result",
          "data": {
            "text/plain": [
              "      CreditScore  Age  Tenure    Balance  NumOfProducts  EstimatedSalary\n",
              "4989          629   40       9       0.00              1           106.67\n",
              "4498          570   30       2  131406.56              1         47952.45\n",
              "8876          556   46       3  131764.96              1        108500.66\n",
              "670           624   48       3  122388.38              2         30020.09\n",
              "9552          664   41       5       0.00              1        152054.33"
            ],
            "text/html": [
              "\n",
              "  <div id=\"df-143b7b5f-9279-4775-9fe3-dd8b39cb2c2f\" class=\"colab-df-container\">\n",
              "    <div>\n",
              "<style scoped>\n",
              "    .dataframe tbody tr th:only-of-type {\n",
              "        vertical-align: middle;\n",
              "    }\n",
              "\n",
              "    .dataframe tbody tr th {\n",
              "        vertical-align: top;\n",
              "    }\n",
              "\n",
              "    .dataframe thead th {\n",
              "        text-align: right;\n",
              "    }\n",
              "</style>\n",
              "<table border=\"1\" class=\"dataframe\">\n",
              "  <thead>\n",
              "    <tr style=\"text-align: right;\">\n",
              "      <th></th>\n",
              "      <th>CreditScore</th>\n",
              "      <th>Age</th>\n",
              "      <th>Tenure</th>\n",
              "      <th>Balance</th>\n",
              "      <th>NumOfProducts</th>\n",
              "      <th>EstimatedSalary</th>\n",
              "    </tr>\n",
              "  </thead>\n",
              "  <tbody>\n",
              "    <tr>\n",
              "      <th>4989</th>\n",
              "      <td>629</td>\n",
              "      <td>40</td>\n",
              "      <td>9</td>\n",
              "      <td>0.00</td>\n",
              "      <td>1</td>\n",
              "      <td>106.67</td>\n",
              "    </tr>\n",
              "    <tr>\n",
              "      <th>4498</th>\n",
              "      <td>570</td>\n",
              "      <td>30</td>\n",
              "      <td>2</td>\n",
              "      <td>131406.56</td>\n",
              "      <td>1</td>\n",
              "      <td>47952.45</td>\n",
              "    </tr>\n",
              "    <tr>\n",
              "      <th>8876</th>\n",
              "      <td>556</td>\n",
              "      <td>46</td>\n",
              "      <td>3</td>\n",
              "      <td>131764.96</td>\n",
              "      <td>1</td>\n",
              "      <td>108500.66</td>\n",
              "    </tr>\n",
              "    <tr>\n",
              "      <th>670</th>\n",
              "      <td>624</td>\n",
              "      <td>48</td>\n",
              "      <td>3</td>\n",
              "      <td>122388.38</td>\n",
              "      <td>2</td>\n",
              "      <td>30020.09</td>\n",
              "    </tr>\n",
              "    <tr>\n",
              "      <th>9552</th>\n",
              "      <td>664</td>\n",
              "      <td>41</td>\n",
              "      <td>5</td>\n",
              "      <td>0.00</td>\n",
              "      <td>1</td>\n",
              "      <td>152054.33</td>\n",
              "    </tr>\n",
              "  </tbody>\n",
              "</table>\n",
              "</div>\n",
              "    <div class=\"colab-df-buttons\">\n",
              "\n",
              "  <div class=\"colab-df-container\">\n",
              "    <button class=\"colab-df-convert\" onclick=\"convertToInteractive('df-143b7b5f-9279-4775-9fe3-dd8b39cb2c2f')\"\n",
              "            title=\"Convert this dataframe to an interactive table.\"\n",
              "            style=\"display:none;\">\n",
              "\n",
              "  <svg xmlns=\"http://www.w3.org/2000/svg\" height=\"24px\" viewBox=\"0 -960 960 960\">\n",
              "    <path d=\"M120-120v-720h720v720H120Zm60-500h600v-160H180v160Zm220 220h160v-160H400v160Zm0 220h160v-160H400v160ZM180-400h160v-160H180v160Zm440 0h160v-160H620v160ZM180-180h160v-160H180v160Zm440 0h160v-160H620v160Z\"/>\n",
              "  </svg>\n",
              "    </button>\n",
              "\n",
              "  <style>\n",
              "    .colab-df-container {\n",
              "      display:flex;\n",
              "      gap: 12px;\n",
              "    }\n",
              "\n",
              "    .colab-df-convert {\n",
              "      background-color: #E8F0FE;\n",
              "      border: none;\n",
              "      border-radius: 50%;\n",
              "      cursor: pointer;\n",
              "      display: none;\n",
              "      fill: #1967D2;\n",
              "      height: 32px;\n",
              "      padding: 0 0 0 0;\n",
              "      width: 32px;\n",
              "    }\n",
              "\n",
              "    .colab-df-convert:hover {\n",
              "      background-color: #E2EBFA;\n",
              "      box-shadow: 0px 1px 2px rgba(60, 64, 67, 0.3), 0px 1px 3px 1px rgba(60, 64, 67, 0.15);\n",
              "      fill: #174EA6;\n",
              "    }\n",
              "\n",
              "    .colab-df-buttons div {\n",
              "      margin-bottom: 4px;\n",
              "    }\n",
              "\n",
              "    [theme=dark] .colab-df-convert {\n",
              "      background-color: #3B4455;\n",
              "      fill: #D2E3FC;\n",
              "    }\n",
              "\n",
              "    [theme=dark] .colab-df-convert:hover {\n",
              "      background-color: #434B5C;\n",
              "      box-shadow: 0px 1px 3px 1px rgba(0, 0, 0, 0.15);\n",
              "      filter: drop-shadow(0px 1px 2px rgba(0, 0, 0, 0.3));\n",
              "      fill: #FFFFFF;\n",
              "    }\n",
              "  </style>\n",
              "\n",
              "    <script>\n",
              "      const buttonEl =\n",
              "        document.querySelector('#df-143b7b5f-9279-4775-9fe3-dd8b39cb2c2f button.colab-df-convert');\n",
              "      buttonEl.style.display =\n",
              "        google.colab.kernel.accessAllowed ? 'block' : 'none';\n",
              "\n",
              "      async function convertToInteractive(key) {\n",
              "        const element = document.querySelector('#df-143b7b5f-9279-4775-9fe3-dd8b39cb2c2f');\n",
              "        const dataTable =\n",
              "          await google.colab.kernel.invokeFunction('convertToInteractive',\n",
              "                                                    [key], {});\n",
              "        if (!dataTable) return;\n",
              "\n",
              "        const docLinkHtml = 'Like what you see? Visit the ' +\n",
              "          '<a target=\"_blank\" href=https://colab.research.google.com/notebooks/data_table.ipynb>data table notebook</a>'\n",
              "          + ' to learn more about interactive tables.';\n",
              "        element.innerHTML = '';\n",
              "        dataTable['output_type'] = 'display_data';\n",
              "        await google.colab.output.renderOutput(dataTable, element);\n",
              "        const docLink = document.createElement('div');\n",
              "        docLink.innerHTML = docLinkHtml;\n",
              "        element.appendChild(docLink);\n",
              "      }\n",
              "    </script>\n",
              "  </div>\n",
              "\n",
              "\n",
              "<div id=\"df-1131c44f-43fe-4741-9424-b002716b906a\">\n",
              "  <button class=\"colab-df-quickchart\" onclick=\"quickchart('df-1131c44f-43fe-4741-9424-b002716b906a')\"\n",
              "            title=\"Suggest charts\"\n",
              "            style=\"display:none;\">\n",
              "\n",
              "<svg xmlns=\"http://www.w3.org/2000/svg\" height=\"24px\"viewBox=\"0 0 24 24\"\n",
              "     width=\"24px\">\n",
              "    <g>\n",
              "        <path d=\"M19 3H5c-1.1 0-2 .9-2 2v14c0 1.1.9 2 2 2h14c1.1 0 2-.9 2-2V5c0-1.1-.9-2-2-2zM9 17H7v-7h2v7zm4 0h-2V7h2v10zm4 0h-2v-4h2v4z\"/>\n",
              "    </g>\n",
              "</svg>\n",
              "  </button>\n",
              "\n",
              "<style>\n",
              "  .colab-df-quickchart {\n",
              "      --bg-color: #E8F0FE;\n",
              "      --fill-color: #1967D2;\n",
              "      --hover-bg-color: #E2EBFA;\n",
              "      --hover-fill-color: #174EA6;\n",
              "      --disabled-fill-color: #AAA;\n",
              "      --disabled-bg-color: #DDD;\n",
              "  }\n",
              "\n",
              "  [theme=dark] .colab-df-quickchart {\n",
              "      --bg-color: #3B4455;\n",
              "      --fill-color: #D2E3FC;\n",
              "      --hover-bg-color: #434B5C;\n",
              "      --hover-fill-color: #FFFFFF;\n",
              "      --disabled-bg-color: #3B4455;\n",
              "      --disabled-fill-color: #666;\n",
              "  }\n",
              "\n",
              "  .colab-df-quickchart {\n",
              "    background-color: var(--bg-color);\n",
              "    border: none;\n",
              "    border-radius: 50%;\n",
              "    cursor: pointer;\n",
              "    display: none;\n",
              "    fill: var(--fill-color);\n",
              "    height: 32px;\n",
              "    padding: 0;\n",
              "    width: 32px;\n",
              "  }\n",
              "\n",
              "  .colab-df-quickchart:hover {\n",
              "    background-color: var(--hover-bg-color);\n",
              "    box-shadow: 0 1px 2px rgba(60, 64, 67, 0.3), 0 1px 3px 1px rgba(60, 64, 67, 0.15);\n",
              "    fill: var(--button-hover-fill-color);\n",
              "  }\n",
              "\n",
              "  .colab-df-quickchart-complete:disabled,\n",
              "  .colab-df-quickchart-complete:disabled:hover {\n",
              "    background-color: var(--disabled-bg-color);\n",
              "    fill: var(--disabled-fill-color);\n",
              "    box-shadow: none;\n",
              "  }\n",
              "\n",
              "  .colab-df-spinner {\n",
              "    border: 2px solid var(--fill-color);\n",
              "    border-color: transparent;\n",
              "    border-bottom-color: var(--fill-color);\n",
              "    animation:\n",
              "      spin 1s steps(1) infinite;\n",
              "  }\n",
              "\n",
              "  @keyframes spin {\n",
              "    0% {\n",
              "      border-color: transparent;\n",
              "      border-bottom-color: var(--fill-color);\n",
              "      border-left-color: var(--fill-color);\n",
              "    }\n",
              "    20% {\n",
              "      border-color: transparent;\n",
              "      border-left-color: var(--fill-color);\n",
              "      border-top-color: var(--fill-color);\n",
              "    }\n",
              "    30% {\n",
              "      border-color: transparent;\n",
              "      border-left-color: var(--fill-color);\n",
              "      border-top-color: var(--fill-color);\n",
              "      border-right-color: var(--fill-color);\n",
              "    }\n",
              "    40% {\n",
              "      border-color: transparent;\n",
              "      border-right-color: var(--fill-color);\n",
              "      border-top-color: var(--fill-color);\n",
              "    }\n",
              "    60% {\n",
              "      border-color: transparent;\n",
              "      border-right-color: var(--fill-color);\n",
              "    }\n",
              "    80% {\n",
              "      border-color: transparent;\n",
              "      border-right-color: var(--fill-color);\n",
              "      border-bottom-color: var(--fill-color);\n",
              "    }\n",
              "    90% {\n",
              "      border-color: transparent;\n",
              "      border-bottom-color: var(--fill-color);\n",
              "    }\n",
              "  }\n",
              "</style>\n",
              "\n",
              "  <script>\n",
              "    async function quickchart(key) {\n",
              "      const quickchartButtonEl =\n",
              "        document.querySelector('#' + key + ' button');\n",
              "      quickchartButtonEl.disabled = true;  // To prevent multiple clicks.\n",
              "      quickchartButtonEl.classList.add('colab-df-spinner');\n",
              "      try {\n",
              "        const charts = await google.colab.kernel.invokeFunction(\n",
              "            'suggestCharts', [key], {});\n",
              "      } catch (error) {\n",
              "        console.error('Error during call to suggestCharts:', error);\n",
              "      }\n",
              "      quickchartButtonEl.classList.remove('colab-df-spinner');\n",
              "      quickchartButtonEl.classList.add('colab-df-quickchart-complete');\n",
              "    }\n",
              "    (() => {\n",
              "      let quickchartButtonEl =\n",
              "        document.querySelector('#df-1131c44f-43fe-4741-9424-b002716b906a button');\n",
              "      quickchartButtonEl.style.display =\n",
              "        google.colab.kernel.accessAllowed ? 'block' : 'none';\n",
              "    })();\n",
              "  </script>\n",
              "</div>\n",
              "\n",
              "    </div>\n",
              "  </div>\n"
            ],
            "application/vnd.google.colaboratory.intrinsic+json": {
              "type": "dataframe",
              "summary": "{\n  \"name\": \"X_train[numeric_columns]\",\n  \"rows\": 5,\n  \"fields\": [\n    {\n      \"column\": \"CreditScore\",\n      \"properties\": {\n        \"dtype\": \"number\",\n        \"std\": 44,\n        \"min\": 556,\n        \"max\": 664,\n        \"num_unique_values\": 5,\n        \"samples\": [\n          570,\n          664,\n          556\n        ],\n        \"semantic_type\": \"\",\n        \"description\": \"\"\n      }\n    },\n    {\n      \"column\": \"Age\",\n      \"properties\": {\n        \"dtype\": \"number\",\n        \"std\": 7,\n        \"min\": 30,\n        \"max\": 48,\n        \"num_unique_values\": 5,\n        \"samples\": [\n          30,\n          41,\n          46\n        ],\n        \"semantic_type\": \"\",\n        \"description\": \"\"\n      }\n    },\n    {\n      \"column\": \"Tenure\",\n      \"properties\": {\n        \"dtype\": \"number\",\n        \"std\": 2,\n        \"min\": 2,\n        \"max\": 9,\n        \"num_unique_values\": 4,\n        \"samples\": [\n          2,\n          5,\n          9\n        ],\n        \"semantic_type\": \"\",\n        \"description\": \"\"\n      }\n    },\n    {\n      \"column\": \"Balance\",\n      \"properties\": {\n        \"dtype\": \"number\",\n        \"std\": 70493.46947813251,\n        \"min\": 0.0,\n        \"max\": 131764.96,\n        \"num_unique_values\": 4,\n        \"samples\": [\n          131406.56,\n          122388.38,\n          0.0\n        ],\n        \"semantic_type\": \"\",\n        \"description\": \"\"\n      }\n    },\n    {\n      \"column\": \"NumOfProducts\",\n      \"properties\": {\n        \"dtype\": \"number\",\n        \"std\": 0,\n        \"min\": 1,\n        \"max\": 2,\n        \"num_unique_values\": 2,\n        \"samples\": [\n          2,\n          1\n        ],\n        \"semantic_type\": \"\",\n        \"description\": \"\"\n      }\n    },\n    {\n      \"column\": \"EstimatedSalary\",\n      \"properties\": {\n        \"dtype\": \"number\",\n        \"std\": 61560.829375009234,\n        \"min\": 106.67,\n        \"max\": 152054.33,\n        \"num_unique_values\": 5,\n        \"samples\": [\n          47952.45,\n          152054.33\n        ],\n        \"semantic_type\": \"\",\n        \"description\": \"\"\n      }\n    }\n  ]\n}"
            }
          },
          "metadata": {},
          "execution_count": 14
        }
      ],
      "source": [
        "numeric_columns=['CreditScore','Age','Tenure','Balance','NumOfProducts','EstimatedSalary']\n",
        "X_train[numeric_columns].head()"
      ]
    },
    {
      "cell_type": "code",
      "execution_count": 15,
      "metadata": {
        "id": "MSjbRVOISIse"
      },
      "outputs": [],
      "source": [
        "from sklearn.preprocessing import StandardScaler\n",
        "scaler=StandardScaler()\n",
        "\n",
        "scaler.fit(X_train[numeric_columns])\n",
        "X_train_trf=X_train.copy()\n",
        "X_test_trf=X_test.copy()\n",
        "X_train_trf[numeric_columns]=scaler.transform(X_train[numeric_columns])\n",
        "X_test_trf[numeric_columns]=scaler.transform(X_test[numeric_columns])"
      ]
    },
    {
      "cell_type": "code",
      "execution_count": 16,
      "metadata": {
        "colab": {
          "base_uri": "https://localhost:8080/",
          "height": 226
        },
        "id": "x5YGg6aBXGt2",
        "outputId": "27d40357-f430-4c86-99ee-27eb1c901dd9"
      },
      "outputs": [
        {
          "output_type": "execute_result",
          "data": {
            "text/plain": [
              "      CreditScore       Age    Tenure   Balance  NumOfProducts  HasCrCard  \\\n",
              "4989    -0.224828  0.099845  1.377789 -1.234331      -0.906787          1   \n",
              "4498    -0.835785 -0.848578 -1.037266  0.874085      -0.906787          1   \n",
              "8876    -0.980758  0.668899 -0.692259  0.879836      -0.906787          1   \n",
              "670     -0.276604  0.858584 -0.692259  0.729389       0.808987          0   \n",
              "9552     0.137604  0.194688 -0.002243 -1.234331      -0.906787          1   \n",
              "\n",
              "      IsActiveMember  EstimatedSalary  Geography_France  Geography_Germany  \\\n",
              "4989               0        -1.736747                 1                  0   \n",
              "4498               1        -0.905804                 1                  0   \n",
              "8876               1         0.145744                 0                  0   \n",
              "670                0        -1.217237                 0                  1   \n",
              "9552               1         0.902146                 1                  0   \n",
              "\n",
              "      Geography_Spain  Gender_Female  Gender_Male  \n",
              "4989                0              0            1  \n",
              "4498                0              0            1  \n",
              "8876                1              0            1  \n",
              "670                 0              1            0  \n",
              "9552                0              1            0  "
            ],
            "text/html": [
              "\n",
              "  <div id=\"df-36d9efba-9286-4acd-ae31-3c4a4bdd9b9d\" class=\"colab-df-container\">\n",
              "    <div>\n",
              "<style scoped>\n",
              "    .dataframe tbody tr th:only-of-type {\n",
              "        vertical-align: middle;\n",
              "    }\n",
              "\n",
              "    .dataframe tbody tr th {\n",
              "        vertical-align: top;\n",
              "    }\n",
              "\n",
              "    .dataframe thead th {\n",
              "        text-align: right;\n",
              "    }\n",
              "</style>\n",
              "<table border=\"1\" class=\"dataframe\">\n",
              "  <thead>\n",
              "    <tr style=\"text-align: right;\">\n",
              "      <th></th>\n",
              "      <th>CreditScore</th>\n",
              "      <th>Age</th>\n",
              "      <th>Tenure</th>\n",
              "      <th>Balance</th>\n",
              "      <th>NumOfProducts</th>\n",
              "      <th>HasCrCard</th>\n",
              "      <th>IsActiveMember</th>\n",
              "      <th>EstimatedSalary</th>\n",
              "      <th>Geography_France</th>\n",
              "      <th>Geography_Germany</th>\n",
              "      <th>Geography_Spain</th>\n",
              "      <th>Gender_Female</th>\n",
              "      <th>Gender_Male</th>\n",
              "    </tr>\n",
              "  </thead>\n",
              "  <tbody>\n",
              "    <tr>\n",
              "      <th>4989</th>\n",
              "      <td>-0.224828</td>\n",
              "      <td>0.099845</td>\n",
              "      <td>1.377789</td>\n",
              "      <td>-1.234331</td>\n",
              "      <td>-0.906787</td>\n",
              "      <td>1</td>\n",
              "      <td>0</td>\n",
              "      <td>-1.736747</td>\n",
              "      <td>1</td>\n",
              "      <td>0</td>\n",
              "      <td>0</td>\n",
              "      <td>0</td>\n",
              "      <td>1</td>\n",
              "    </tr>\n",
              "    <tr>\n",
              "      <th>4498</th>\n",
              "      <td>-0.835785</td>\n",
              "      <td>-0.848578</td>\n",
              "      <td>-1.037266</td>\n",
              "      <td>0.874085</td>\n",
              "      <td>-0.906787</td>\n",
              "      <td>1</td>\n",
              "      <td>1</td>\n",
              "      <td>-0.905804</td>\n",
              "      <td>1</td>\n",
              "      <td>0</td>\n",
              "      <td>0</td>\n",
              "      <td>0</td>\n",
              "      <td>1</td>\n",
              "    </tr>\n",
              "    <tr>\n",
              "      <th>8876</th>\n",
              "      <td>-0.980758</td>\n",
              "      <td>0.668899</td>\n",
              "      <td>-0.692259</td>\n",
              "      <td>0.879836</td>\n",
              "      <td>-0.906787</td>\n",
              "      <td>1</td>\n",
              "      <td>1</td>\n",
              "      <td>0.145744</td>\n",
              "      <td>0</td>\n",
              "      <td>0</td>\n",
              "      <td>1</td>\n",
              "      <td>0</td>\n",
              "      <td>1</td>\n",
              "    </tr>\n",
              "    <tr>\n",
              "      <th>670</th>\n",
              "      <td>-0.276604</td>\n",
              "      <td>0.858584</td>\n",
              "      <td>-0.692259</td>\n",
              "      <td>0.729389</td>\n",
              "      <td>0.808987</td>\n",
              "      <td>0</td>\n",
              "      <td>0</td>\n",
              "      <td>-1.217237</td>\n",
              "      <td>0</td>\n",
              "      <td>1</td>\n",
              "      <td>0</td>\n",
              "      <td>1</td>\n",
              "      <td>0</td>\n",
              "    </tr>\n",
              "    <tr>\n",
              "      <th>9552</th>\n",
              "      <td>0.137604</td>\n",
              "      <td>0.194688</td>\n",
              "      <td>-0.002243</td>\n",
              "      <td>-1.234331</td>\n",
              "      <td>-0.906787</td>\n",
              "      <td>1</td>\n",
              "      <td>1</td>\n",
              "      <td>0.902146</td>\n",
              "      <td>1</td>\n",
              "      <td>0</td>\n",
              "      <td>0</td>\n",
              "      <td>1</td>\n",
              "      <td>0</td>\n",
              "    </tr>\n",
              "  </tbody>\n",
              "</table>\n",
              "</div>\n",
              "    <div class=\"colab-df-buttons\">\n",
              "\n",
              "  <div class=\"colab-df-container\">\n",
              "    <button class=\"colab-df-convert\" onclick=\"convertToInteractive('df-36d9efba-9286-4acd-ae31-3c4a4bdd9b9d')\"\n",
              "            title=\"Convert this dataframe to an interactive table.\"\n",
              "            style=\"display:none;\">\n",
              "\n",
              "  <svg xmlns=\"http://www.w3.org/2000/svg\" height=\"24px\" viewBox=\"0 -960 960 960\">\n",
              "    <path d=\"M120-120v-720h720v720H120Zm60-500h600v-160H180v160Zm220 220h160v-160H400v160Zm0 220h160v-160H400v160ZM180-400h160v-160H180v160Zm440 0h160v-160H620v160ZM180-180h160v-160H180v160Zm440 0h160v-160H620v160Z\"/>\n",
              "  </svg>\n",
              "    </button>\n",
              "\n",
              "  <style>\n",
              "    .colab-df-container {\n",
              "      display:flex;\n",
              "      gap: 12px;\n",
              "    }\n",
              "\n",
              "    .colab-df-convert {\n",
              "      background-color: #E8F0FE;\n",
              "      border: none;\n",
              "      border-radius: 50%;\n",
              "      cursor: pointer;\n",
              "      display: none;\n",
              "      fill: #1967D2;\n",
              "      height: 32px;\n",
              "      padding: 0 0 0 0;\n",
              "      width: 32px;\n",
              "    }\n",
              "\n",
              "    .colab-df-convert:hover {\n",
              "      background-color: #E2EBFA;\n",
              "      box-shadow: 0px 1px 2px rgba(60, 64, 67, 0.3), 0px 1px 3px 1px rgba(60, 64, 67, 0.15);\n",
              "      fill: #174EA6;\n",
              "    }\n",
              "\n",
              "    .colab-df-buttons div {\n",
              "      margin-bottom: 4px;\n",
              "    }\n",
              "\n",
              "    [theme=dark] .colab-df-convert {\n",
              "      background-color: #3B4455;\n",
              "      fill: #D2E3FC;\n",
              "    }\n",
              "\n",
              "    [theme=dark] .colab-df-convert:hover {\n",
              "      background-color: #434B5C;\n",
              "      box-shadow: 0px 1px 3px 1px rgba(0, 0, 0, 0.15);\n",
              "      filter: drop-shadow(0px 1px 2px rgba(0, 0, 0, 0.3));\n",
              "      fill: #FFFFFF;\n",
              "    }\n",
              "  </style>\n",
              "\n",
              "    <script>\n",
              "      const buttonEl =\n",
              "        document.querySelector('#df-36d9efba-9286-4acd-ae31-3c4a4bdd9b9d button.colab-df-convert');\n",
              "      buttonEl.style.display =\n",
              "        google.colab.kernel.accessAllowed ? 'block' : 'none';\n",
              "\n",
              "      async function convertToInteractive(key) {\n",
              "        const element = document.querySelector('#df-36d9efba-9286-4acd-ae31-3c4a4bdd9b9d');\n",
              "        const dataTable =\n",
              "          await google.colab.kernel.invokeFunction('convertToInteractive',\n",
              "                                                    [key], {});\n",
              "        if (!dataTable) return;\n",
              "\n",
              "        const docLinkHtml = 'Like what you see? Visit the ' +\n",
              "          '<a target=\"_blank\" href=https://colab.research.google.com/notebooks/data_table.ipynb>data table notebook</a>'\n",
              "          + ' to learn more about interactive tables.';\n",
              "        element.innerHTML = '';\n",
              "        dataTable['output_type'] = 'display_data';\n",
              "        await google.colab.output.renderOutput(dataTable, element);\n",
              "        const docLink = document.createElement('div');\n",
              "        docLink.innerHTML = docLinkHtml;\n",
              "        element.appendChild(docLink);\n",
              "      }\n",
              "    </script>\n",
              "  </div>\n",
              "\n",
              "\n",
              "<div id=\"df-a39aaea7-c2ea-43df-9e50-f7579c983581\">\n",
              "  <button class=\"colab-df-quickchart\" onclick=\"quickchart('df-a39aaea7-c2ea-43df-9e50-f7579c983581')\"\n",
              "            title=\"Suggest charts\"\n",
              "            style=\"display:none;\">\n",
              "\n",
              "<svg xmlns=\"http://www.w3.org/2000/svg\" height=\"24px\"viewBox=\"0 0 24 24\"\n",
              "     width=\"24px\">\n",
              "    <g>\n",
              "        <path d=\"M19 3H5c-1.1 0-2 .9-2 2v14c0 1.1.9 2 2 2h14c1.1 0 2-.9 2-2V5c0-1.1-.9-2-2-2zM9 17H7v-7h2v7zm4 0h-2V7h2v10zm4 0h-2v-4h2v4z\"/>\n",
              "    </g>\n",
              "</svg>\n",
              "  </button>\n",
              "\n",
              "<style>\n",
              "  .colab-df-quickchart {\n",
              "      --bg-color: #E8F0FE;\n",
              "      --fill-color: #1967D2;\n",
              "      --hover-bg-color: #E2EBFA;\n",
              "      --hover-fill-color: #174EA6;\n",
              "      --disabled-fill-color: #AAA;\n",
              "      --disabled-bg-color: #DDD;\n",
              "  }\n",
              "\n",
              "  [theme=dark] .colab-df-quickchart {\n",
              "      --bg-color: #3B4455;\n",
              "      --fill-color: #D2E3FC;\n",
              "      --hover-bg-color: #434B5C;\n",
              "      --hover-fill-color: #FFFFFF;\n",
              "      --disabled-bg-color: #3B4455;\n",
              "      --disabled-fill-color: #666;\n",
              "  }\n",
              "\n",
              "  .colab-df-quickchart {\n",
              "    background-color: var(--bg-color);\n",
              "    border: none;\n",
              "    border-radius: 50%;\n",
              "    cursor: pointer;\n",
              "    display: none;\n",
              "    fill: var(--fill-color);\n",
              "    height: 32px;\n",
              "    padding: 0;\n",
              "    width: 32px;\n",
              "  }\n",
              "\n",
              "  .colab-df-quickchart:hover {\n",
              "    background-color: var(--hover-bg-color);\n",
              "    box-shadow: 0 1px 2px rgba(60, 64, 67, 0.3), 0 1px 3px 1px rgba(60, 64, 67, 0.15);\n",
              "    fill: var(--button-hover-fill-color);\n",
              "  }\n",
              "\n",
              "  .colab-df-quickchart-complete:disabled,\n",
              "  .colab-df-quickchart-complete:disabled:hover {\n",
              "    background-color: var(--disabled-bg-color);\n",
              "    fill: var(--disabled-fill-color);\n",
              "    box-shadow: none;\n",
              "  }\n",
              "\n",
              "  .colab-df-spinner {\n",
              "    border: 2px solid var(--fill-color);\n",
              "    border-color: transparent;\n",
              "    border-bottom-color: var(--fill-color);\n",
              "    animation:\n",
              "      spin 1s steps(1) infinite;\n",
              "  }\n",
              "\n",
              "  @keyframes spin {\n",
              "    0% {\n",
              "      border-color: transparent;\n",
              "      border-bottom-color: var(--fill-color);\n",
              "      border-left-color: var(--fill-color);\n",
              "    }\n",
              "    20% {\n",
              "      border-color: transparent;\n",
              "      border-left-color: var(--fill-color);\n",
              "      border-top-color: var(--fill-color);\n",
              "    }\n",
              "    30% {\n",
              "      border-color: transparent;\n",
              "      border-left-color: var(--fill-color);\n",
              "      border-top-color: var(--fill-color);\n",
              "      border-right-color: var(--fill-color);\n",
              "    }\n",
              "    40% {\n",
              "      border-color: transparent;\n",
              "      border-right-color: var(--fill-color);\n",
              "      border-top-color: var(--fill-color);\n",
              "    }\n",
              "    60% {\n",
              "      border-color: transparent;\n",
              "      border-right-color: var(--fill-color);\n",
              "    }\n",
              "    80% {\n",
              "      border-color: transparent;\n",
              "      border-right-color: var(--fill-color);\n",
              "      border-bottom-color: var(--fill-color);\n",
              "    }\n",
              "    90% {\n",
              "      border-color: transparent;\n",
              "      border-bottom-color: var(--fill-color);\n",
              "    }\n",
              "  }\n",
              "</style>\n",
              "\n",
              "  <script>\n",
              "    async function quickchart(key) {\n",
              "      const quickchartButtonEl =\n",
              "        document.querySelector('#' + key + ' button');\n",
              "      quickchartButtonEl.disabled = true;  // To prevent multiple clicks.\n",
              "      quickchartButtonEl.classList.add('colab-df-spinner');\n",
              "      try {\n",
              "        const charts = await google.colab.kernel.invokeFunction(\n",
              "            'suggestCharts', [key], {});\n",
              "      } catch (error) {\n",
              "        console.error('Error during call to suggestCharts:', error);\n",
              "      }\n",
              "      quickchartButtonEl.classList.remove('colab-df-spinner');\n",
              "      quickchartButtonEl.classList.add('colab-df-quickchart-complete');\n",
              "    }\n",
              "    (() => {\n",
              "      let quickchartButtonEl =\n",
              "        document.querySelector('#df-a39aaea7-c2ea-43df-9e50-f7579c983581 button');\n",
              "      quickchartButtonEl.style.display =\n",
              "        google.colab.kernel.accessAllowed ? 'block' : 'none';\n",
              "    })();\n",
              "  </script>\n",
              "</div>\n",
              "\n",
              "    </div>\n",
              "  </div>\n"
            ],
            "application/vnd.google.colaboratory.intrinsic+json": {
              "type": "dataframe",
              "variable_name": "X_train_trf",
              "summary": "{\n  \"name\": \"X_train_trf\",\n  \"rows\": 8000,\n  \"fields\": [\n    {\n      \"column\": \"CreditScore\",\n      \"properties\": {\n        \"dtype\": \"number\",\n        \"std\": 1.0000625058599855,\n        \"min\": -3.11393042145604,\n        \"max\": 2.0636719101066987,\n        \"num_unique_values\": 456,\n        \"samples\": [\n          -1.4778080846822148,\n          1.0799274671097783,\n          -0.3490907764015377\n        ],\n        \"semantic_type\": \"\",\n        \"description\": \"\"\n      }\n    },\n    {\n      \"column\": \"Age\",\n      \"properties\": {\n        \"dtype\": \"number\",\n        \"std\": 1.0000625058599852,\n        \"min\": -1.986686634958665,\n        \"max\": 5.031648038420477,\n        \"num_unique_values\": 69,\n        \"samples\": [\n          -0.9434206699969006,\n          0.0998452949648637,\n          3.134800829399087\n        ],\n        \"semantic_type\": \"\",\n        \"description\": \"\"\n      }\n    },\n    {\n      \"column\": \"Tenure\",\n      \"properties\": {\n        \"dtype\": \"number\",\n        \"std\": 1.0000625058599855,\n        \"min\": -1.72728244175775,\n        \"max\": 1.7227973380440076,\n        \"num_unique_values\": 11,\n        \"samples\": [\n          -1.72728244175775,\n          1.3777893600638318,\n          0.6877734041034804\n        ],\n        \"semantic_type\": \"\",\n        \"description\": \"\"\n      }\n    },\n    {\n      \"column\": \"Balance\",\n      \"properties\": {\n        \"dtype\": \"number\",\n        \"std\": 1.0000625058599855,\n        \"min\": -1.2343314456120456,\n        \"max\": 2.590593995541914,\n        \"num_unique_values\": 5129,\n        \"samples\": [\n          0.39367819387406366,\n          0.3634305041743386,\n          1.367370030554747\n        ],\n        \"semantic_type\": \"\",\n        \"description\": \"\"\n      }\n    },\n    {\n      \"column\": \"NumOfProducts\",\n      \"properties\": {\n        \"dtype\": \"number\",\n        \"std\": 1.0000625058599855,\n        \"min\": -0.9067865064857354,\n        \"max\": 4.240535195420048,\n        \"num_unique_values\": 4,\n        \"samples\": [\n          0.8089873941495256,\n          4.240535195420048,\n          -0.9067865064857354\n        ],\n        \"semantic_type\": \"\",\n        \"description\": \"\"\n      }\n    },\n    {\n      \"column\": \"HasCrCard\",\n      \"properties\": {\n        \"dtype\": \"number\",\n        \"std\": 0,\n        \"min\": 0,\n        \"max\": 1,\n        \"num_unique_values\": 2,\n        \"samples\": [\n          0,\n          1\n        ],\n        \"semantic_type\": \"\",\n        \"description\": \"\"\n      }\n    },\n    {\n      \"column\": \"IsActiveMember\",\n      \"properties\": {\n        \"dtype\": \"number\",\n        \"std\": 0,\n        \"min\": 0,\n        \"max\": 1,\n        \"num_unique_values\": 2,\n        \"samples\": [\n          1,\n          0\n        ],\n        \"semantic_type\": \"\",\n        \"description\": \"\"\n      }\n    },\n    {\n      \"column\": \"EstimatedSalary\",\n      \"properties\": {\n        \"dtype\": \"number\",\n        \"std\": 1.0000625058599855,\n        \"min\": -1.738398581809883,\n        \"max\": 1.7346929688857182,\n        \"num_unique_values\": 8000,\n        \"samples\": [\n          -0.6218972401663012,\n          -0.26895315053779734\n        ],\n        \"semantic_type\": \"\",\n        \"description\": \"\"\n      }\n    },\n    {\n      \"column\": \"Geography_France\",\n      \"properties\": {\n        \"dtype\": \"number\",\n        \"std\": 0,\n        \"min\": 0,\n        \"max\": 1,\n        \"num_unique_values\": 2,\n        \"samples\": [\n          0,\n          1\n        ],\n        \"semantic_type\": \"\",\n        \"description\": \"\"\n      }\n    },\n    {\n      \"column\": \"Geography_Germany\",\n      \"properties\": {\n        \"dtype\": \"number\",\n        \"std\": 0,\n        \"min\": 0,\n        \"max\": 1,\n        \"num_unique_values\": 2,\n        \"samples\": [\n          1,\n          0\n        ],\n        \"semantic_type\": \"\",\n        \"description\": \"\"\n      }\n    },\n    {\n      \"column\": \"Geography_Spain\",\n      \"properties\": {\n        \"dtype\": \"number\",\n        \"std\": 0,\n        \"min\": 0,\n        \"max\": 1,\n        \"num_unique_values\": 2,\n        \"samples\": [\n          1,\n          0\n        ],\n        \"semantic_type\": \"\",\n        \"description\": \"\"\n      }\n    },\n    {\n      \"column\": \"Gender_Female\",\n      \"properties\": {\n        \"dtype\": \"number\",\n        \"std\": 0,\n        \"min\": 0,\n        \"max\": 1,\n        \"num_unique_values\": 2,\n        \"samples\": [\n          1,\n          0\n        ],\n        \"semantic_type\": \"\",\n        \"description\": \"\"\n      }\n    },\n    {\n      \"column\": \"Gender_Male\",\n      \"properties\": {\n        \"dtype\": \"number\",\n        \"std\": 0,\n        \"min\": 0,\n        \"max\": 1,\n        \"num_unique_values\": 2,\n        \"samples\": [\n          0,\n          1\n        ],\n        \"semantic_type\": \"\",\n        \"description\": \"\"\n      }\n    }\n  ]\n}"
            }
          },
          "metadata": {},
          "execution_count": 16
        }
      ],
      "source": [
        "X_train_trf.head()"
      ]
    },
    {
      "cell_type": "markdown",
      "source": [
        "### model"
      ],
      "metadata": {
        "id": "hj1CrGPflgI6"
      }
    },
    {
      "cell_type": "code",
      "execution_count": 17,
      "metadata": {
        "id": "wzxrybFuS8j-"
      },
      "outputs": [],
      "source": [
        "import tensorflow\n",
        "from tensorflow import keras\n",
        "from keras import Sequential\n",
        "from keras.layers import Dense,Dropout\n"
      ]
    },
    {
      "cell_type": "code",
      "source": [
        "keras.utils.set_random_seed(7)"
      ],
      "metadata": {
        "id": "ZUDW32MaGVic"
      },
      "execution_count": 18,
      "outputs": []
    },
    {
      "cell_type": "code",
      "execution_count": 19,
      "metadata": {
        "id": "fvjUZW_XTArc"
      },
      "outputs": [],
      "source": [
        "model=Sequential()\n",
        "\n",
        "model.add(Dense(8,activation='relu',input_dim=X_train_trf.shape[1]))\n",
        "# model.add(Dense(3,activation='relu',input_dim=X_train_trf.shape[1]))\n",
        "model.add(Dense(1,activation='sigmoid'))"
      ]
    },
    {
      "cell_type": "code",
      "execution_count": 20,
      "metadata": {
        "colab": {
          "base_uri": "https://localhost:8080/"
        },
        "id": "czRVyYmjc_tn",
        "outputId": "b5be94e5-6fe9-4f77-d80f-aea3181367b5"
      },
      "outputs": [
        {
          "output_type": "stream",
          "name": "stdout",
          "text": [
            "Model: \"sequential\"\n",
            "_________________________________________________________________\n",
            " Layer (type)                Output Shape              Param #   \n",
            "=================================================================\n",
            " dense (Dense)               (None, 8)                 112       \n",
            "                                                                 \n",
            " dense_1 (Dense)             (None, 1)                 9         \n",
            "                                                                 \n",
            "=================================================================\n",
            "Total params: 121 (484.00 Byte)\n",
            "Trainable params: 121 (484.00 Byte)\n",
            "Non-trainable params: 0 (0.00 Byte)\n",
            "_________________________________________________________________\n"
          ]
        }
      ],
      "source": [
        "model.compile(optimizer='Adam',loss='binary_crossentropy',metrics=['accuracy'])\n",
        "model.summary()"
      ]
    },
    {
      "cell_type": "code",
      "execution_count": 21,
      "metadata": {
        "colab": {
          "base_uri": "https://localhost:8080/"
        },
        "id": "JcEd_fKCdCAp",
        "outputId": "e2cac8cf-2633-4250-f11f-018f2d72b8b5"
      },
      "outputs": [
        {
          "output_type": "stream",
          "name": "stdout",
          "text": [
            "Epoch 1/60\n",
            "200/200 [==============================] - 4s 5ms/step - loss: 0.5383 - accuracy: 0.7781 - val_loss: 0.4861 - val_accuracy: 0.7925\n",
            "Epoch 2/60\n",
            "200/200 [==============================] - 1s 4ms/step - loss: 0.4355 - accuracy: 0.8064 - val_loss: 0.4457 - val_accuracy: 0.7956\n",
            "Epoch 3/60\n",
            "200/200 [==============================] - 1s 4ms/step - loss: 0.4057 - accuracy: 0.8147 - val_loss: 0.4265 - val_accuracy: 0.8094\n",
            "Epoch 4/60\n",
            "200/200 [==============================] - 1s 4ms/step - loss: 0.3907 - accuracy: 0.8306 - val_loss: 0.4123 - val_accuracy: 0.8175\n",
            "Epoch 5/60\n",
            "200/200 [==============================] - 1s 4ms/step - loss: 0.3798 - accuracy: 0.8369 - val_loss: 0.4027 - val_accuracy: 0.8288\n",
            "Epoch 6/60\n",
            "200/200 [==============================] - 1s 4ms/step - loss: 0.3717 - accuracy: 0.8436 - val_loss: 0.3929 - val_accuracy: 0.8350\n",
            "Epoch 7/60\n",
            "200/200 [==============================] - 1s 4ms/step - loss: 0.3656 - accuracy: 0.8453 - val_loss: 0.3852 - val_accuracy: 0.8431\n",
            "Epoch 8/60\n",
            "200/200 [==============================] - 1s 4ms/step - loss: 0.3609 - accuracy: 0.8478 - val_loss: 0.3793 - val_accuracy: 0.8494\n",
            "Epoch 9/60\n",
            "200/200 [==============================] - 1s 4ms/step - loss: 0.3570 - accuracy: 0.8514 - val_loss: 0.3748 - val_accuracy: 0.8462\n",
            "Epoch 10/60\n",
            "200/200 [==============================] - 1s 4ms/step - loss: 0.3543 - accuracy: 0.8550 - val_loss: 0.3738 - val_accuracy: 0.8481\n",
            "Epoch 11/60\n",
            "200/200 [==============================] - 1s 4ms/step - loss: 0.3519 - accuracy: 0.8547 - val_loss: 0.3720 - val_accuracy: 0.8487\n",
            "Epoch 12/60\n",
            "200/200 [==============================] - 1s 4ms/step - loss: 0.3499 - accuracy: 0.8542 - val_loss: 0.3705 - val_accuracy: 0.8512\n",
            "Epoch 13/60\n",
            "200/200 [==============================] - 1s 5ms/step - loss: 0.3481 - accuracy: 0.8564 - val_loss: 0.3689 - val_accuracy: 0.8537\n",
            "Epoch 14/60\n",
            "200/200 [==============================] - 1s 4ms/step - loss: 0.3468 - accuracy: 0.8570 - val_loss: 0.3666 - val_accuracy: 0.8537\n",
            "Epoch 15/60\n",
            "200/200 [==============================] - 1s 5ms/step - loss: 0.3459 - accuracy: 0.8589 - val_loss: 0.3660 - val_accuracy: 0.8550\n",
            "Epoch 16/60\n",
            "200/200 [==============================] - 1s 5ms/step - loss: 0.3448 - accuracy: 0.8567 - val_loss: 0.3660 - val_accuracy: 0.8550\n",
            "Epoch 17/60\n",
            "200/200 [==============================] - 1s 4ms/step - loss: 0.3436 - accuracy: 0.8580 - val_loss: 0.3648 - val_accuracy: 0.8550\n",
            "Epoch 18/60\n",
            "200/200 [==============================] - 1s 4ms/step - loss: 0.3429 - accuracy: 0.8578 - val_loss: 0.3645 - val_accuracy: 0.8550\n",
            "Epoch 19/60\n",
            "200/200 [==============================] - 1s 3ms/step - loss: 0.3419 - accuracy: 0.8589 - val_loss: 0.3642 - val_accuracy: 0.8562\n",
            "Epoch 20/60\n",
            "200/200 [==============================] - 1s 3ms/step - loss: 0.3413 - accuracy: 0.8611 - val_loss: 0.3630 - val_accuracy: 0.8544\n",
            "Epoch 21/60\n",
            "200/200 [==============================] - 1s 3ms/step - loss: 0.3407 - accuracy: 0.8605 - val_loss: 0.3632 - val_accuracy: 0.8556\n",
            "Epoch 22/60\n",
            "200/200 [==============================] - 1s 3ms/step - loss: 0.3401 - accuracy: 0.8595 - val_loss: 0.3631 - val_accuracy: 0.8556\n",
            "Epoch 23/60\n",
            "200/200 [==============================] - 1s 3ms/step - loss: 0.3395 - accuracy: 0.8597 - val_loss: 0.3636 - val_accuracy: 0.8550\n",
            "Epoch 24/60\n",
            "200/200 [==============================] - 1s 4ms/step - loss: 0.3389 - accuracy: 0.8620 - val_loss: 0.3619 - val_accuracy: 0.8550\n",
            "Epoch 25/60\n",
            "200/200 [==============================] - 1s 3ms/step - loss: 0.3384 - accuracy: 0.8609 - val_loss: 0.3615 - val_accuracy: 0.8544\n",
            "Epoch 26/60\n",
            "200/200 [==============================] - 1s 3ms/step - loss: 0.3381 - accuracy: 0.8623 - val_loss: 0.3618 - val_accuracy: 0.8525\n",
            "Epoch 27/60\n",
            "200/200 [==============================] - 1s 3ms/step - loss: 0.3376 - accuracy: 0.8625 - val_loss: 0.3613 - val_accuracy: 0.8544\n",
            "Epoch 28/60\n",
            "200/200 [==============================] - 1s 3ms/step - loss: 0.3367 - accuracy: 0.8617 - val_loss: 0.3603 - val_accuracy: 0.8512\n",
            "Epoch 29/60\n",
            "200/200 [==============================] - 1s 3ms/step - loss: 0.3366 - accuracy: 0.8616 - val_loss: 0.3614 - val_accuracy: 0.8544\n",
            "Epoch 30/60\n",
            "200/200 [==============================] - 1s 3ms/step - loss: 0.3360 - accuracy: 0.8623 - val_loss: 0.3618 - val_accuracy: 0.8544\n",
            "Epoch 31/60\n",
            "200/200 [==============================] - 1s 3ms/step - loss: 0.3359 - accuracy: 0.8609 - val_loss: 0.3638 - val_accuracy: 0.8537\n",
            "Epoch 32/60\n",
            "200/200 [==============================] - 1s 3ms/step - loss: 0.3355 - accuracy: 0.8622 - val_loss: 0.3619 - val_accuracy: 0.8531\n",
            "Epoch 33/60\n",
            "200/200 [==============================] - 1s 4ms/step - loss: 0.3352 - accuracy: 0.8617 - val_loss: 0.3584 - val_accuracy: 0.8531\n",
            "Epoch 34/60\n",
            "200/200 [==============================] - 1s 4ms/step - loss: 0.3350 - accuracy: 0.8605 - val_loss: 0.3606 - val_accuracy: 0.8506\n",
            "Epoch 35/60\n",
            "200/200 [==============================] - 1s 4ms/step - loss: 0.3348 - accuracy: 0.8631 - val_loss: 0.3597 - val_accuracy: 0.8494\n",
            "Epoch 36/60\n",
            "200/200 [==============================] - 1s 5ms/step - loss: 0.3343 - accuracy: 0.8636 - val_loss: 0.3600 - val_accuracy: 0.8487\n",
            "Epoch 37/60\n",
            "200/200 [==============================] - 1s 4ms/step - loss: 0.3340 - accuracy: 0.8625 - val_loss: 0.3598 - val_accuracy: 0.8500\n",
            "Epoch 38/60\n",
            "200/200 [==============================] - 1s 4ms/step - loss: 0.3339 - accuracy: 0.8628 - val_loss: 0.3607 - val_accuracy: 0.8506\n",
            "Epoch 39/60\n",
            "200/200 [==============================] - 1s 3ms/step - loss: 0.3336 - accuracy: 0.8628 - val_loss: 0.3594 - val_accuracy: 0.8500\n",
            "Epoch 40/60\n",
            "200/200 [==============================] - 1s 3ms/step - loss: 0.3335 - accuracy: 0.8623 - val_loss: 0.3598 - val_accuracy: 0.8500\n",
            "Epoch 41/60\n",
            "200/200 [==============================] - 1s 3ms/step - loss: 0.3332 - accuracy: 0.8627 - val_loss: 0.3597 - val_accuracy: 0.8512\n",
            "Epoch 42/60\n",
            "200/200 [==============================] - 1s 3ms/step - loss: 0.3327 - accuracy: 0.8633 - val_loss: 0.3577 - val_accuracy: 0.8519\n",
            "Epoch 43/60\n",
            "200/200 [==============================] - 1s 3ms/step - loss: 0.3323 - accuracy: 0.8644 - val_loss: 0.3604 - val_accuracy: 0.8537\n",
            "Epoch 44/60\n",
            "200/200 [==============================] - 1s 3ms/step - loss: 0.3322 - accuracy: 0.8625 - val_loss: 0.3584 - val_accuracy: 0.8525\n",
            "Epoch 45/60\n",
            "200/200 [==============================] - 1s 3ms/step - loss: 0.3318 - accuracy: 0.8641 - val_loss: 0.3607 - val_accuracy: 0.8519\n",
            "Epoch 46/60\n",
            "200/200 [==============================] - 1s 3ms/step - loss: 0.3318 - accuracy: 0.8656 - val_loss: 0.3622 - val_accuracy: 0.8512\n",
            "Epoch 47/60\n",
            "200/200 [==============================] - 1s 3ms/step - loss: 0.3316 - accuracy: 0.8636 - val_loss: 0.3600 - val_accuracy: 0.8512\n",
            "Epoch 48/60\n",
            "200/200 [==============================] - 1s 3ms/step - loss: 0.3312 - accuracy: 0.8630 - val_loss: 0.3583 - val_accuracy: 0.8500\n",
            "Epoch 49/60\n",
            "200/200 [==============================] - 1s 3ms/step - loss: 0.3315 - accuracy: 0.8656 - val_loss: 0.3593 - val_accuracy: 0.8512\n",
            "Epoch 50/60\n",
            "200/200 [==============================] - 1s 3ms/step - loss: 0.3312 - accuracy: 0.8642 - val_loss: 0.3591 - val_accuracy: 0.8506\n",
            "Epoch 51/60\n",
            "200/200 [==============================] - 1s 3ms/step - loss: 0.3311 - accuracy: 0.8636 - val_loss: 0.3579 - val_accuracy: 0.8506\n",
            "Epoch 52/60\n",
            "200/200 [==============================] - 1s 3ms/step - loss: 0.3308 - accuracy: 0.8637 - val_loss: 0.3573 - val_accuracy: 0.8512\n",
            "Epoch 53/60\n",
            "200/200 [==============================] - 1s 3ms/step - loss: 0.3308 - accuracy: 0.8636 - val_loss: 0.3578 - val_accuracy: 0.8506\n",
            "Epoch 54/60\n",
            "200/200 [==============================] - 1s 4ms/step - loss: 0.3308 - accuracy: 0.8639 - val_loss: 0.3580 - val_accuracy: 0.8512\n",
            "Epoch 55/60\n",
            "200/200 [==============================] - 1s 5ms/step - loss: 0.3305 - accuracy: 0.8655 - val_loss: 0.3583 - val_accuracy: 0.8519\n",
            "Epoch 56/60\n",
            "200/200 [==============================] - 1s 4ms/step - loss: 0.3304 - accuracy: 0.8634 - val_loss: 0.3575 - val_accuracy: 0.8512\n",
            "Epoch 57/60\n",
            "200/200 [==============================] - 1s 5ms/step - loss: 0.3300 - accuracy: 0.8645 - val_loss: 0.3578 - val_accuracy: 0.8544\n",
            "Epoch 58/60\n",
            "200/200 [==============================] - 1s 4ms/step - loss: 0.3299 - accuracy: 0.8650 - val_loss: 0.3597 - val_accuracy: 0.8512\n",
            "Epoch 59/60\n",
            "200/200 [==============================] - 1s 3ms/step - loss: 0.3302 - accuracy: 0.8641 - val_loss: 0.3581 - val_accuracy: 0.8525\n",
            "Epoch 60/60\n",
            "200/200 [==============================] - 1s 3ms/step - loss: 0.3298 - accuracy: 0.8655 - val_loss: 0.3565 - val_accuracy: 0.8512\n"
          ]
        }
      ],
      "source": [
        "history = model.fit(X_train_trf,y_train,batch_size=32,epochs=60,verbose=1,validation_split=0.2)"
      ]
    },
    {
      "cell_type": "code",
      "execution_count": 22,
      "metadata": {
        "id": "ctvbYxHfgAbG",
        "colab": {
          "base_uri": "https://localhost:8080/"
        },
        "outputId": "1d27ac27-3d7e-46c6-cae3-0e081548f32a"
      },
      "outputs": [
        {
          "output_type": "stream",
          "name": "stdout",
          "text": [
            "63/63 [==============================] - 0s 2ms/step\n"
          ]
        },
        {
          "output_type": "execute_result",
          "data": {
            "text/plain": [
              "array([1, 0, 0, ..., 0, 0, 0])"
            ]
          },
          "metadata": {},
          "execution_count": 22
        }
      ],
      "source": [
        "y_pred=model.predict(X_test_trf)\n",
        "\n",
        "y_pred1=np.where(y_pred > 0.50, 1, 0)[:, 0]\n",
        "y_pred1"
      ]
    },
    {
      "cell_type": "code",
      "execution_count": 23,
      "metadata": {
        "id": "3ZP3EJe4g-MB",
        "colab": {
          "base_uri": "https://localhost:8080/"
        },
        "outputId": "667a9a5d-ae99-4457-9fb2-54f0178302ee"
      },
      "outputs": [
        {
          "output_type": "stream",
          "name": "stdout",
          "text": [
            "accuracy is 85.65%\n",
            "recall is 47.20%\n"
          ]
        }
      ],
      "source": [
        "from sklearn.metrics import accuracy_score, recall_score\n",
        "\n",
        "acc=accuracy_score(y_test,y_pred1)\n",
        "recall=recall_score(y_test,y_pred1)\n",
        "print(f\"accuracy is {acc * 100:.2f}%\")\n",
        "print(f\"recall is {recall * 100:.2f}%\")"
      ]
    },
    {
      "cell_type": "code",
      "execution_count": 24,
      "metadata": {
        "id": "x6WoX_KChPdh"
      },
      "outputs": [],
      "source": [
        "import matplotlib.pyplot as plt\n"
      ]
    },
    {
      "cell_type": "code",
      "execution_count": 25,
      "metadata": {
        "id": "jlS6b5Wxs3ek",
        "colab": {
          "base_uri": "https://localhost:8080/",
          "height": 447
        },
        "outputId": "30d75698-3297-4c28-ea2e-8190f585b48f"
      },
      "outputs": [
        {
          "output_type": "execute_result",
          "data": {
            "text/plain": [
              "[<matplotlib.lines.Line2D at 0x7fa34398b3d0>]"
            ]
          },
          "metadata": {},
          "execution_count": 25
        },
        {
          "output_type": "display_data",
          "data": {
            "text/plain": [
              "<Figure size 640x480 with 1 Axes>"
            ],
            "image/png": "[encoded data removed]"
          },
          "metadata": {}
        }
      ],
      "source": [
        "plt.plot(history.history['loss'])\n",
        "plt.plot(history.history['val_loss'])"
      ]
    },
    {
      "cell_type": "code",
      "source": [
        "plt.plot(history.history['accuracy'])\n",
        "plt.plot(history.history['val_accuracy'])"
      ],
      "metadata": {
        "colab": {
          "base_uri": "https://localhost:8080/",
          "height": 447
        },
        "id": "r5PyHkU_kgh4",
        "outputId": "15e6e0c8-e9a0-432d-f269-e11cc5cc947d"
      },
      "execution_count": 26,
      "outputs": [
        {
          "output_type": "execute_result",
          "data": {
            "text/plain": [
              "[<matplotlib.lines.Line2D at 0x7fa32c1d9570>]"
            ]
          },
          "metadata": {},
          "execution_count": 26
        },
        {
          "output_type": "display_data",
          "data": {
            "text/plain": [
              "<Figure size 640x480 with 1 Axes>"
            ],
            "image/png": "[encoded data removed]"
          },
          "metadata": {}
        }
      ]
    },
    {
      "cell_type": "markdown",
      "source": [
        "### changing class_weights and threshold"
      ],
      "metadata": {
        "id": "dfRbYx3XhamX"
      }
    },
    {
      "cell_type": "code",
      "source": [
        "from sklearn.utils.class_weight import compute_class_weight\n",
        "class_weights = compute_class_weight(class_weight='balanced', classes=np.unique(y_train), y=y_train)\n",
        "class_weights = dict(enumerate(class_weights))\n",
        "\n",
        "print(\"Class weights:\", class_weights)"
      ],
      "metadata": {
        "colab": {
          "base_uri": "https://localhost:8080/"
        },
        "id": "8-JrFwXziOZ3",
        "outputId": "73b7ce9a-f50a-4471-8301-ecabe6adc90d"
      },
      "execution_count": 27,
      "outputs": [
        {
          "output_type": "stream",
          "name": "stdout",
          "text": [
            "Class weights: {0: 0.627549419516787, 1: 2.4600246002460024}\n"
          ]
        }
      ]
    },
    {
      "cell_type": "code",
      "source": [
        "model=Sequential()\n",
        "\n",
        "model.add(Dense(8,activation='relu',input_dim=X_train_trf.shape[1]))\n",
        "# model.add(Dense(3,activation='relu'))\n",
        "model.add(Dense(1,activation='sigmoid'))\n",
        "\n",
        "model.compile(optimizer='Adam',loss='binary_crossentropy',metrics=['accuracy'])"
      ],
      "metadata": {
        "id": "cIjs89rCqbDL"
      },
      "execution_count": 28,
      "outputs": []
    },
    {
      "cell_type": "code",
      "execution_count": 29,
      "metadata": {
        "colab": {
          "base_uri": "https://localhost:8080/"
        },
        "outputId": "2235c327-b28b-4a00-c028-8ec6278e22ab",
        "id": "HNYJvsDqhho5"
      },
      "outputs": [
        {
          "output_type": "stream",
          "name": "stdout",
          "text": [
            "Epoch 1/60\n",
            "200/200 [==============================] - 1s 4ms/step - loss: 0.6445 - accuracy: 0.6217 - val_loss: 0.6389 - val_accuracy: 0.6594\n",
            "Epoch 2/60\n",
            "200/200 [==============================] - 1s 3ms/step - loss: 0.5905 - accuracy: 0.7063 - val_loss: 0.5820 - val_accuracy: 0.7250\n",
            "Epoch 3/60\n",
            "200/200 [==============================] - 1s 3ms/step - loss: 0.5616 - accuracy: 0.7458 - val_loss: 0.5666 - val_accuracy: 0.7356\n",
            "Epoch 4/60\n",
            "200/200 [==============================] - 1s 4ms/step - loss: 0.5428 - accuracy: 0.7472 - val_loss: 0.5485 - val_accuracy: 0.7400\n",
            "Epoch 5/60\n",
            "200/200 [==============================] - 1s 3ms/step - loss: 0.5270 - accuracy: 0.7533 - val_loss: 0.5171 - val_accuracy: 0.7588\n",
            "Epoch 6/60\n",
            "200/200 [==============================] - 1s 3ms/step - loss: 0.5139 - accuracy: 0.7617 - val_loss: 0.5143 - val_accuracy: 0.7563\n",
            "Epoch 7/60\n",
            "200/200 [==============================] - 1s 3ms/step - loss: 0.5028 - accuracy: 0.7634 - val_loss: 0.5044 - val_accuracy: 0.7581\n",
            "Epoch 8/60\n",
            "200/200 [==============================] - 1s 3ms/step - loss: 0.4937 - accuracy: 0.7659 - val_loss: 0.4976 - val_accuracy: 0.7600\n",
            "Epoch 9/60\n",
            "200/200 [==============================] - 1s 3ms/step - loss: 0.4861 - accuracy: 0.7659 - val_loss: 0.5065 - val_accuracy: 0.7538\n",
            "Epoch 10/60\n",
            "200/200 [==============================] - 1s 3ms/step - loss: 0.4806 - accuracy: 0.7688 - val_loss: 0.4789 - val_accuracy: 0.7694\n",
            "Epoch 11/60\n",
            "200/200 [==============================] - 1s 4ms/step - loss: 0.4763 - accuracy: 0.7684 - val_loss: 0.4743 - val_accuracy: 0.7700\n",
            "Epoch 12/60\n",
            "200/200 [==============================] - 1s 5ms/step - loss: 0.4731 - accuracy: 0.7728 - val_loss: 0.4718 - val_accuracy: 0.7719\n",
            "Epoch 13/60\n",
            "200/200 [==============================] - 1s 5ms/step - loss: 0.4705 - accuracy: 0.7744 - val_loss: 0.4711 - val_accuracy: 0.7775\n",
            "Epoch 14/60\n",
            "200/200 [==============================] - 1s 5ms/step - loss: 0.4690 - accuracy: 0.7763 - val_loss: 0.4801 - val_accuracy: 0.7669\n",
            "Epoch 15/60\n",
            "200/200 [==============================] - 1s 5ms/step - loss: 0.4672 - accuracy: 0.7756 - val_loss: 0.4731 - val_accuracy: 0.7719\n",
            "Epoch 16/60\n",
            "200/200 [==============================] - 1s 3ms/step - loss: 0.4661 - accuracy: 0.7756 - val_loss: 0.4658 - val_accuracy: 0.7775\n",
            "Epoch 17/60\n",
            "200/200 [==============================] - 1s 3ms/step - loss: 0.4645 - accuracy: 0.7773 - val_loss: 0.4728 - val_accuracy: 0.7744\n",
            "Epoch 18/60\n",
            "200/200 [==============================] - 1s 3ms/step - loss: 0.4637 - accuracy: 0.7808 - val_loss: 0.4639 - val_accuracy: 0.7806\n",
            "Epoch 19/60\n",
            "200/200 [==============================] - 1s 3ms/step - loss: 0.4627 - accuracy: 0.7789 - val_loss: 0.4603 - val_accuracy: 0.7831\n",
            "Epoch 20/60\n",
            "200/200 [==============================] - 1s 3ms/step - loss: 0.4621 - accuracy: 0.7831 - val_loss: 0.4695 - val_accuracy: 0.7775\n",
            "Epoch 21/60\n",
            "200/200 [==============================] - 1s 3ms/step - loss: 0.4612 - accuracy: 0.7817 - val_loss: 0.4582 - val_accuracy: 0.7819\n",
            "Epoch 22/60\n",
            "200/200 [==============================] - 1s 3ms/step - loss: 0.4607 - accuracy: 0.7817 - val_loss: 0.4598 - val_accuracy: 0.7812\n",
            "Epoch 23/60\n",
            "200/200 [==============================] - 1s 3ms/step - loss: 0.4599 - accuracy: 0.7823 - val_loss: 0.4551 - val_accuracy: 0.7825\n",
            "Epoch 24/60\n",
            "200/200 [==============================] - 1s 3ms/step - loss: 0.4590 - accuracy: 0.7847 - val_loss: 0.4637 - val_accuracy: 0.7800\n",
            "Epoch 25/60\n",
            "200/200 [==============================] - 1s 3ms/step - loss: 0.4588 - accuracy: 0.7834 - val_loss: 0.4566 - val_accuracy: 0.7862\n",
            "Epoch 26/60\n",
            "200/200 [==============================] - 1s 3ms/step - loss: 0.4582 - accuracy: 0.7852 - val_loss: 0.4592 - val_accuracy: 0.7812\n",
            "Epoch 27/60\n",
            "200/200 [==============================] - 1s 3ms/step - loss: 0.4575 - accuracy: 0.7842 - val_loss: 0.4594 - val_accuracy: 0.7850\n",
            "Epoch 28/60\n",
            "200/200 [==============================] - 1s 3ms/step - loss: 0.4567 - accuracy: 0.7859 - val_loss: 0.4679 - val_accuracy: 0.7781\n",
            "Epoch 29/60\n",
            "200/200 [==============================] - 1s 3ms/step - loss: 0.4569 - accuracy: 0.7855 - val_loss: 0.4527 - val_accuracy: 0.7856\n",
            "Epoch 30/60\n",
            "200/200 [==============================] - 1s 6ms/step - loss: 0.4561 - accuracy: 0.7820 - val_loss: 0.4514 - val_accuracy: 0.7887\n",
            "Epoch 31/60\n",
            "200/200 [==============================] - 3s 13ms/step - loss: 0.4559 - accuracy: 0.7855 - val_loss: 0.4393 - val_accuracy: 0.7919\n",
            "Epoch 32/60\n",
            "200/200 [==============================] - 3s 13ms/step - loss: 0.4556 - accuracy: 0.7875 - val_loss: 0.4440 - val_accuracy: 0.7900\n",
            "Epoch 33/60\n",
            "200/200 [==============================] - 1s 5ms/step - loss: 0.4553 - accuracy: 0.7898 - val_loss: 0.4770 - val_accuracy: 0.7663\n",
            "Epoch 34/60\n",
            "200/200 [==============================] - 1s 6ms/step - loss: 0.4549 - accuracy: 0.7809 - val_loss: 0.4504 - val_accuracy: 0.7900\n",
            "Epoch 35/60\n",
            "200/200 [==============================] - 1s 6ms/step - loss: 0.4549 - accuracy: 0.7880 - val_loss: 0.4642 - val_accuracy: 0.7763\n",
            "Epoch 36/60\n",
            "200/200 [==============================] - 1s 6ms/step - loss: 0.4541 - accuracy: 0.7822 - val_loss: 0.4597 - val_accuracy: 0.7837\n",
            "Epoch 37/60\n",
            "200/200 [==============================] - 1s 6ms/step - loss: 0.4538 - accuracy: 0.7873 - val_loss: 0.4557 - val_accuracy: 0.7856\n",
            "Epoch 38/60\n",
            "200/200 [==============================] - 1s 6ms/step - loss: 0.4536 - accuracy: 0.7825 - val_loss: 0.4502 - val_accuracy: 0.7875\n",
            "Epoch 39/60\n",
            "200/200 [==============================] - 1s 7ms/step - loss: 0.4532 - accuracy: 0.7883 - val_loss: 0.4572 - val_accuracy: 0.7825\n",
            "Epoch 40/60\n",
            "200/200 [==============================] - 2s 8ms/step - loss: 0.4528 - accuracy: 0.7834 - val_loss: 0.4555 - val_accuracy: 0.7856\n",
            "Epoch 41/60\n",
            "200/200 [==============================] - 2s 9ms/step - loss: 0.4527 - accuracy: 0.7884 - val_loss: 0.4490 - val_accuracy: 0.7900\n",
            "Epoch 42/60\n",
            "200/200 [==============================] - 2s 10ms/step - loss: 0.4519 - accuracy: 0.7911 - val_loss: 0.4718 - val_accuracy: 0.7719\n",
            "Epoch 43/60\n",
            "200/200 [==============================] - 1s 6ms/step - loss: 0.4517 - accuracy: 0.7806 - val_loss: 0.4449 - val_accuracy: 0.7906\n",
            "Epoch 44/60\n",
            "200/200 [==============================] - 1s 5ms/step - loss: 0.4516 - accuracy: 0.7922 - val_loss: 0.4589 - val_accuracy: 0.7819\n",
            "Epoch 45/60\n",
            "200/200 [==============================] - 1s 7ms/step - loss: 0.4509 - accuracy: 0.7839 - val_loss: 0.4405 - val_accuracy: 0.7944\n",
            "Epoch 46/60\n",
            "200/200 [==============================] - 1s 6ms/step - loss: 0.4512 - accuracy: 0.7891 - val_loss: 0.4364 - val_accuracy: 0.7950\n",
            "Epoch 47/60\n",
            "200/200 [==============================] - 1s 6ms/step - loss: 0.4509 - accuracy: 0.7889 - val_loss: 0.4544 - val_accuracy: 0.7844\n",
            "Epoch 48/60\n",
            "200/200 [==============================] - 1s 6ms/step - loss: 0.4504 - accuracy: 0.7861 - val_loss: 0.4560 - val_accuracy: 0.7825\n",
            "Epoch 49/60\n",
            "200/200 [==============================] - 1s 6ms/step - loss: 0.4507 - accuracy: 0.7866 - val_loss: 0.4485 - val_accuracy: 0.7881\n",
            "Epoch 50/60\n",
            "200/200 [==============================] - 1s 6ms/step - loss: 0.4504 - accuracy: 0.7858 - val_loss: 0.4410 - val_accuracy: 0.7944\n",
            "Epoch 51/60\n",
            "200/200 [==============================] - 1s 6ms/step - loss: 0.4501 - accuracy: 0.7892 - val_loss: 0.4557 - val_accuracy: 0.7800\n",
            "Epoch 52/60\n",
            "200/200 [==============================] - 1s 5ms/step - loss: 0.4497 - accuracy: 0.7897 - val_loss: 0.4677 - val_accuracy: 0.7725\n",
            "Epoch 53/60\n",
            "200/200 [==============================] - 1s 5ms/step - loss: 0.4499 - accuracy: 0.7852 - val_loss: 0.4538 - val_accuracy: 0.7812\n",
            "Epoch 54/60\n",
            "200/200 [==============================] - 1s 5ms/step - loss: 0.4498 - accuracy: 0.7884 - val_loss: 0.4534 - val_accuracy: 0.7825\n",
            "Epoch 55/60\n",
            "200/200 [==============================] - 1s 4ms/step - loss: 0.4495 - accuracy: 0.7862 - val_loss: 0.4453 - val_accuracy: 0.7912\n",
            "Epoch 56/60\n",
            "200/200 [==============================] - 1s 3ms/step - loss: 0.4494 - accuracy: 0.7900 - val_loss: 0.4525 - val_accuracy: 0.7837\n",
            "Epoch 57/60\n",
            "200/200 [==============================] - 1s 3ms/step - loss: 0.4490 - accuracy: 0.7886 - val_loss: 0.4502 - val_accuracy: 0.7850\n",
            "Epoch 58/60\n",
            "200/200 [==============================] - 1s 4ms/step - loss: 0.4489 - accuracy: 0.7870 - val_loss: 0.4411 - val_accuracy: 0.7981\n",
            "Epoch 59/60\n",
            "200/200 [==============================] - 1s 3ms/step - loss: 0.4490 - accuracy: 0.7883 - val_loss: 0.4455 - val_accuracy: 0.7937\n",
            "Epoch 60/60\n",
            "200/200 [==============================] - 1s 3ms/step - loss: 0.4484 - accuracy: 0.7903 - val_loss: 0.4574 - val_accuracy: 0.7831\n"
          ]
        }
      ],
      "source": [
        "history = model.fit(X_train_trf,y_train,batch_size=32,epochs=60,verbose=1,validation_split=0.2,class_weight=class_weights)"
      ]
    },
    {
      "cell_type": "code",
      "execution_count": 30,
      "metadata": {
        "colab": {
          "base_uri": "https://localhost:8080/"
        },
        "outputId": "8bfd1f7b-e67c-423e-a457-b2a91d0bbc43",
        "id": "OGvF4mtqhho6"
      },
      "outputs": [
        {
          "output_type": "stream",
          "name": "stdout",
          "text": [
            "63/63 [==============================] - 0s 1ms/step\n"
          ]
        },
        {
          "output_type": "execute_result",
          "data": {
            "text/plain": [
              "array([[0.92044276],\n",
              "       [0.2746294 ],\n",
              "       [0.06414492],\n",
              "       ...,\n",
              "       [0.38549772],\n",
              "       [0.56419206],\n",
              "       [0.2518766 ]], dtype=float32)"
            ]
          },
          "metadata": {},
          "execution_count": 30
        }
      ],
      "source": [
        "y_pred_cw=model.predict(X_test_trf)\n",
        "y_pred_cw"
      ]
    },
    {
      "cell_type": "code",
      "execution_count": 31,
      "metadata": {
        "colab": {
          "base_uri": "https://localhost:8080/"
        },
        "outputId": "ccdc9bce-54ca-43c2-9908-f38c2af5603a",
        "id": "K95Sj_Qvhho6"
      },
      "outputs": [
        {
          "output_type": "execute_result",
          "data": {
            "text/plain": [
              "array([1, 0, 0, ..., 0, 1, 0])"
            ]
          },
          "metadata": {},
          "execution_count": 31
        }
      ],
      "source": [
        "y_pred_cw1=np.where(y_pred_cw > 0.50, 1, 0)[:, 0]\n",
        "y_pred_cw1"
      ]
    },
    {
      "cell_type": "code",
      "execution_count": 32,
      "metadata": {
        "colab": {
          "base_uri": "https://localhost:8080/"
        },
        "outputId": "7d31e975-e0b5-4458-88b7-20d504f4721e",
        "id": "ZDIh72kUhho6"
      },
      "outputs": [
        {
          "output_type": "stream",
          "name": "stdout",
          "text": [
            "====changing weights====\n",
            "accuracy is 77.15%\n",
            "recall is 76.89%\n"
          ]
        }
      ],
      "source": [
        "from sklearn.metrics import accuracy_score, recall_score\n",
        "\n",
        "acc=accuracy_score(y_test,y_pred_cw1)\n",
        "recall=recall_score(y_test,y_pred_cw1)\n",
        "\n",
        "print(\"====changing weights====\")\n",
        "print(f\"accuracy is {acc * 100:.2f}%\")\n",
        "print(f\"recall is {recall * 100:.2f}%\")\n",
        "\n"
      ]
    },
    {
      "cell_type": "code",
      "execution_count": 33,
      "metadata": {
        "colab": {
          "base_uri": "https://localhost:8080/",
          "height": 447
        },
        "outputId": "f9aea5da-64ea-45ca-8110-b931807bdc86",
        "id": "cDrg-KmtJGyD"
      },
      "outputs": [
        {
          "output_type": "execute_result",
          "data": {
            "text/plain": [
              "[<matplotlib.lines.Line2D at 0x7fa3226c0460>]"
            ]
          },
          "metadata": {},
          "execution_count": 33
        },
        {
          "output_type": "display_data",
          "data": {
            "text/plain": [
              "<Figure size 640x480 with 1 Axes>"
            ],
            "image/png": "[encoded data removed]"
          },
          "metadata": {}
        }
      ],
      "source": [
        "plt.plot(history.history['loss'])\n",
        "plt.plot(history.history['val_loss'])"
      ]
    },
    {
      "cell_type": "code",
      "source": [
        "plt.plot(history.history['accuracy'])\n",
        "plt.plot(history.history['val_accuracy'])"
      ],
      "metadata": {
        "colab": {
          "base_uri": "https://localhost:8080/",
          "height": 447
        },
        "outputId": "93d6efc2-5516-4b2b-9ed3-0d652f7f4400",
        "id": "Cz1h40pAJGyH"
      },
      "execution_count": 34,
      "outputs": [
        {
          "output_type": "execute_result",
          "data": {
            "text/plain": [
              "[<matplotlib.lines.Line2D at 0x7fa32374c070>]"
            ]
          },
          "metadata": {},
          "execution_count": 34
        },
        {
          "output_type": "display_data",
          "data": {
            "text/plain": [
              "<Figure size 640x480 with 1 Axes>"
            ],
            "image/png": "[encoded data removed]"
          },
          "metadata": {}
        }
      ]
    },
    {
      "cell_type": "markdown",
      "source": [
        "### hypertuning"
      ],
      "metadata": {
        "id": "Ese-Y5p7pn_x"
      }
    },
    {
      "cell_type": "code",
      "source": [
        "pip install -U -q keras-tuner"
      ],
      "metadata": {
        "id": "RtxIeZpWp0HQ",
        "colab": {
          "base_uri": "https://localhost:8080/"
        },
        "outputId": "2309ee26-e5ff-408f-88d5-381951196917"
      },
      "execution_count": 35,
      "outputs": [
        {
          "output_type": "stream",
          "name": "stdout",
          "text": [
            "\u001b[?25l     \u001b[90m━━━━━━━━━━━━━━━━━━━━━━━━━━━━━━━━━━━━━━━━\u001b[0m \u001b[32m0.0/129.1 kB\u001b[0m \u001b[31m?\u001b[0m eta \u001b[36m-:--:--\u001b[0m\r\u001b[2K     \u001b[90m━━━━━━━━━━━━━━━━━━━━━━━━━━━━━━━━━━━━━━━━\u001b[0m \u001b[32m129.1/129.1 kB\u001b[0m \u001b[31m4.0 MB/s\u001b[0m eta \u001b[36m0:00:00\u001b[0m\n",
            "\u001b[?25h"
          ]
        }
      ]
    },
    {
      "cell_type": "code",
      "source": [
        "import kerastuner as kt"
      ],
      "metadata": {
        "id": "ycw-iZDKJKJy",
        "colab": {
          "base_uri": "https://localhost:8080/"
        },
        "outputId": "98d72fc6-f3f4-4843-f586-305c00244ebb"
      },
      "execution_count": 36,
      "outputs": [
        {
          "output_type": "stream",
          "name": "stderr",
          "text": [
            "<ipython-input-36-5fd8096cdee5>:1: DeprecationWarning: `import kerastuner` is deprecated, please use `import keras_tuner`.\n",
            "  import kerastuner as kt\n"
          ]
        }
      ]
    },
    {
      "cell_type": "markdown",
      "source": [
        "1. selecting appropriate optimizer\n",
        "2. no of nodes in a layer\n",
        "3. how to select no of layer\n",
        "4. all in one model"
      ],
      "metadata": {
        "id": "7EXbAvM8rZO9"
      }
    },
    {
      "cell_type": "markdown",
      "source": [
        "#### finding best optimizier"
      ],
      "metadata": {
        "id": "r7KljC_dtl_g"
      }
    },
    {
      "cell_type": "code",
      "source": [
        "def build_model(hp):\n",
        "  model = Sequential()\n",
        "\n",
        "  model.add(Dense(8,activation='relu',input_dim=X_train_trf.shape[1]))\n",
        "  model.add(Dense(3,activation='relu'))\n",
        "  model.add(Dense(1,activation='sigmoid'))\n",
        "  optimizer = hp.Choice('optimizer', values=['adam', 'rmsprop', 'sgd','adadelta'])\n",
        "  model.compile(optimizer=optimizer, loss='binary_crossentropy', metrics=['accuracy'])\n",
        "  return model\n",
        "\n",
        "tuner=kt.RandomSearch(\n",
        "    build_model,\n",
        "    objective='val_accuracy',\n",
        "    max_trials=5,\n",
        "    directory=\"mydir\",\n",
        "    project_name='optimizer')\n",
        "tuner.search(X_train_trf,y_train,epochs=5,validation_data=(X_test_trf,y_test),class_weight=class_weights)"
      ],
      "metadata": {
        "colab": {
          "base_uri": "https://localhost:8080/"
        },
        "id": "Y0wAY2HvpsyA",
        "outputId": "572aac43-a85a-4981-ab75-71a37b47d4fc"
      },
      "execution_count": 37,
      "outputs": [
        {
          "output_type": "stream",
          "name": "stdout",
          "text": [
            "Trial 4 Complete [00h 00m 07s]\n",
            "val_accuracy: 0.6464999914169312\n",
            "\n",
            "Best val_accuracy So Far: 0.7574999928474426\n",
            "Total elapsed time: 00h 00m 45s\n"
          ]
        }
      ]
    },
    {
      "cell_type": "code",
      "source": [
        "tuner.get_best_hyperparameters()[0].values"
      ],
      "metadata": {
        "colab": {
          "base_uri": "https://localhost:8080/"
        },
        "id": "lOBoGs_fte7U",
        "outputId": "4c98731b-e70a-472c-898c-baf96026277d"
      },
      "execution_count": 38,
      "outputs": [
        {
          "output_type": "execute_result",
          "data": {
            "text/plain": [
              "{'optimizer': 'adam'}"
            ]
          },
          "metadata": {},
          "execution_count": 38
        }
      ]
    },
    {
      "cell_type": "markdown",
      "source": [
        "extracing model from tuner\n",
        "\n",
        "we dont have to make model again we can extract model with the best hyperparameter from tune"
      ],
      "metadata": {
        "id": "y_3C6ga3lqws"
      }
    },
    {
      "cell_type": "code",
      "source": [
        "model=tuner.get_best_models(num_models=1)[0]\n",
        "model.summary()"
      ],
      "metadata": {
        "colab": {
          "base_uri": "https://localhost:8080/"
        },
        "id": "dYKL6CIbuAIT",
        "outputId": "299c3cd5-155c-4015-f843-9a8fb126bbc8"
      },
      "execution_count": 39,
      "outputs": [
        {
          "output_type": "stream",
          "name": "stdout",
          "text": [
            "Model: \"sequential\"\n",
            "_________________________________________________________________\n",
            " Layer (type)                Output Shape              Param #   \n",
            "=================================================================\n",
            " dense (Dense)               (None, 8)                 112       \n",
            "                                                                 \n",
            " dense_1 (Dense)             (None, 3)                 27        \n",
            "                                                                 \n",
            " dense_2 (Dense)             (None, 1)                 4         \n",
            "                                                                 \n",
            "=================================================================\n",
            "Total params: 143 (572.00 Byte)\n",
            "Trainable params: 143 (572.00 Byte)\n",
            "Non-trainable params: 0 (0.00 Byte)\n",
            "_________________________________________________________________\n"
          ]
        }
      ]
    },
    {
      "cell_type": "code",
      "source": [
        "# history = model.fit(X_train_trf,y_train,batch_size=32,epochs=60,verbose=1,validation_data=(X_test_trf,y_test),class_weight=class_weights)"
      ],
      "metadata": {
        "id": "9BWPyw9mg_5M"
      },
      "execution_count": null,
      "outputs": []
    },
    {
      "cell_type": "markdown",
      "source": [
        "#### no of neurons"
      ],
      "metadata": {
        "id": "hVuAWaP2vMB2"
      }
    },
    {
      "cell_type": "code",
      "source": [
        "# !rm -r mydir/"
      ],
      "metadata": {
        "id": "W6XZ4PaaqTCh"
      },
      "execution_count": 40,
      "outputs": []
    },
    {
      "cell_type": "code",
      "source": [
        "def build_model_neurons(hp):\n",
        "  model = Sequential()\n",
        "\n",
        "  units=hp.Int('units',min_value=32,max_value=512,step=32)\n",
        "  model.add(Dense(units=units,activation='relu',input_dim=X_train_trf.shape[1]))\n",
        "  model.add(Dense(1,activation='sigmoid'))\n",
        "\n",
        "  model.compile(optimizer='adam', loss='binary_crossentropy', metrics=['accuracy'])\n",
        "  return model\n",
        "\n",
        "tuner_neurons=kt.RandomSearch(\n",
        "    build_model_neurons,\n",
        "    objective='val_accuracy',\n",
        "    max_trials=5,\n",
        "    directory=\"mydir\",\n",
        "    project_name='neurons')\n",
        "tuner_neurons.search(X_train_trf,y_train,epochs=5,validation_data=(X_test_trf,y_test),class_weight=class_weights)"
      ],
      "metadata": {
        "id": "dGrfa0w4vckV",
        "colab": {
          "base_uri": "https://localhost:8080/"
        },
        "outputId": "1acddca2-3388-400e-a259-8fcd56412f7c"
      },
      "execution_count": 41,
      "outputs": [
        {
          "output_type": "stream",
          "name": "stdout",
          "text": [
            "Trial 5 Complete [00h 00m 11s]\n",
            "val_accuracy: 0.7745000123977661\n",
            "\n",
            "Best val_accuracy So Far: 0.7754999995231628\n",
            "Total elapsed time: 00h 00m 58s\n"
          ]
        }
      ]
    },
    {
      "cell_type": "code",
      "source": [
        "tuner_neurons.get_best_hyperparameters()[0].values"
      ],
      "metadata": {
        "colab": {
          "base_uri": "https://localhost:8080/"
        },
        "id": "HIzxfKS_n_3-",
        "outputId": "2828efd3-af24-43bb-928c-60656b5c5ddb"
      },
      "execution_count": 42,
      "outputs": [
        {
          "output_type": "execute_result",
          "data": {
            "text/plain": [
              "{'units': 224}"
            ]
          },
          "metadata": {},
          "execution_count": 42
        }
      ]
    },
    {
      "cell_type": "code",
      "source": [
        "model=tuner_neurons.get_best_models(num_models=1)[0]\n",
        "model.summary()"
      ],
      "metadata": {
        "colab": {
          "base_uri": "https://localhost:8080/"
        },
        "id": "Au3MJXjCtLXK",
        "outputId": "f8a25c56-8bdc-4b78-c18f-d0a1513e96ef"
      },
      "execution_count": 43,
      "outputs": [
        {
          "output_type": "stream",
          "name": "stdout",
          "text": [
            "Model: \"sequential\"\n",
            "_________________________________________________________________\n",
            " Layer (type)                Output Shape              Param #   \n",
            "=================================================================\n",
            " dense (Dense)               (None, 224)               3136      \n",
            "                                                                 \n",
            " dense_1 (Dense)             (None, 1)                 225       \n",
            "                                                                 \n",
            "=================================================================\n",
            "Total params: 3361 (13.13 KB)\n",
            "Trainable params: 3361 (13.13 KB)\n",
            "Non-trainable params: 0 (0.00 Byte)\n",
            "_________________________________________________________________\n"
          ]
        }
      ]
    },
    {
      "cell_type": "code",
      "source": [
        "# history = model.fit(X_train_trf,y_train,batch_size=32,epochs=60,verbose=1,validation_data=(X_test_trf,y_test),class_weight=class_weights)"
      ],
      "metadata": {
        "id": "FRezKqB1gs-r"
      },
      "execution_count": null,
      "outputs": []
    },
    {
      "cell_type": "markdown",
      "source": [
        "#### no of nodes"
      ],
      "metadata": {
        "id": "LM8tVZjHvAwY"
      }
    },
    {
      "cell_type": "code",
      "source": [
        "# !rm -r mydir/"
      ],
      "metadata": {
        "id": "N_Oph_pwphuY"
      },
      "execution_count": 44,
      "outputs": []
    },
    {
      "cell_type": "code",
      "source": [
        "def build_model_nodes(hp):\n",
        "  model=Sequential()\n",
        "  model.add(Dense(512,activation='relu',input_dim=X_train_trf.shape[1]))\n",
        "\n",
        "  for i in range(hp.Int('num_layers',min_value=1,max_value=5)):\n",
        "    model.add(Dense(512,activation='relu'))\n",
        "\n",
        "  model.add(Dense(1,activation='sigmoid'))\n",
        "\n",
        "  model.compile(optimizer='adam', loss='binary_crossentropy', metrics=['accuracy'])\n",
        "  return model\n",
        "\n",
        "tuner_nodes=kt.RandomSearch(\n",
        "    build_model_nodes,\n",
        "    objective='val_accuracy',\n",
        "    max_trials=5,\n",
        "    directory=\"mydir\",\n",
        "    project_name='nodes')\n",
        "tuner_nodes.search(X_train_trf,y_train,epochs=5,validation_data=(X_test_trf,y_test),class_weight=class_weights)"
      ],
      "metadata": {
        "colab": {
          "base_uri": "https://localhost:8080/"
        },
        "id": "g5adJWasvqIa",
        "outputId": "e45d71af-227e-46e6-9d89-ded0f33c680a"
      },
      "execution_count": 45,
      "outputs": [
        {
          "output_type": "stream",
          "name": "stdout",
          "text": [
            "Trial 5 Complete [00h 00m 14s]\n",
            "val_accuracy: 0.8080000281333923\n",
            "\n",
            "Best val_accuracy So Far: 0.8080000281333923\n",
            "Total elapsed time: 00h 00m 56s\n"
          ]
        }
      ]
    },
    {
      "cell_type": "code",
      "source": [
        "print(tuner_nodes.get_best_hyperparameters()[0].values)\n",
        "model=tuner_nodes.get_best_models(num_models=1)[0]\n",
        "model.summary()"
      ],
      "metadata": {
        "colab": {
          "base_uri": "https://localhost:8080/"
        },
        "id": "X1X66Uarx111",
        "outputId": "1e94a020-a205-4f4a-fe14-c85112b4f6cf"
      },
      "execution_count": 46,
      "outputs": [
        {
          "output_type": "stream",
          "name": "stdout",
          "text": [
            "{'num_layers': 1}\n",
            "Model: \"sequential\"\n",
            "_________________________________________________________________\n",
            " Layer (type)                Output Shape              Param #   \n",
            "=================================================================\n",
            " dense (Dense)               (None, 512)               7168      \n",
            "                                                                 \n",
            " dense_1 (Dense)             (None, 512)               262656    \n",
            "                                                                 \n",
            " dense_2 (Dense)             (None, 1)                 513       \n",
            "                                                                 \n",
            "=================================================================\n",
            "Total params: 270337 (1.03 MB)\n",
            "Trainable params: 270337 (1.03 MB)\n",
            "Non-trainable params: 0 (0.00 Byte)\n",
            "_________________________________________________________________\n"
          ]
        }
      ]
    },
    {
      "cell_type": "code",
      "source": [
        "# history = model.fit(X_train_trf,y_train,batch_size=32,epochs=60,verbose=1,validation_data=(X_test_trf,y_test),class_weight=class_weights)"
      ],
      "metadata": {
        "id": "Hox6s7Xvg8kc"
      },
      "execution_count": null,
      "outputs": []
    },
    {
      "cell_type": "markdown",
      "source": [
        "#### finding all hyperparameters"
      ],
      "metadata": {
        "id": "aa3S0k0a0_Bu"
      }
    },
    {
      "cell_type": "code",
      "source": [
        "ls"
      ],
      "metadata": {
        "colab": {
          "base_uri": "https://localhost:8080/"
        },
        "id": "XW3VXx0HNM0I",
        "outputId": "e028f413-28e7-44d7-a0e2-3ce106628ee9"
      },
      "execution_count": 90,
      "outputs": [
        {
          "output_type": "stream",
          "name": "stdout",
          "text": [
            "\u001b[0m\u001b[01;34mdrive\u001b[0m/  \u001b[01;34msample_data\u001b[0m/\n"
          ]
        }
      ]
    },
    {
      "cell_type": "code",
      "source": [
        "# !rm -r mydir/"
      ],
      "metadata": {
        "id": "00XgBCvxEGML"
      },
      "execution_count": 91,
      "outputs": []
    },
    {
      "cell_type": "code",
      "source": [
        "def build_model_all(hp):\n",
        "  model=Sequential()\n",
        "\n",
        "  counter=0\n",
        "  for i in range(hp.Int('num_layers',min_value=1,max_value=10)):\n",
        "\n",
        "    if counter==0:\n",
        "      model.add(Dense(\n",
        "          hp.Int('units'+str(i),min_value=32,max_value=512,step=32),\n",
        "          activation=hp.Choice('activation'+str(i),values=['relu','tanh','sigmoid']),\n",
        "          input_dim=X_train_trf.shape[1]\n",
        "      ))\n",
        "      # model.add(Dropout(hp.Choice('dropout'+str(i),values=[0.0,0.1,0.2,0.3,0.4,0.5])))\n",
        "\n",
        "    else:\n",
        "      model.add(Dense(\n",
        "          hp.Int('units'+str(i),min_value=32,max_value=512,step=32),\n",
        "          activation=hp.Choice('activation'+str(i),values=['relu','tanh','sigmoid']),\n",
        "      ))\n",
        "      model.add(Dropout(hp.Choice('dropout'+str(i),values=[0.0,0.1,0.2,0.3,0.4,0.5])))\n",
        "\n",
        "    counter+=1\n",
        "  model.add(Dense(1,activation='sigmoid'))\n",
        "\n",
        "  model.compile(\n",
        "      optimizer=hp.Choice('optimizer',values=['adam','rmsprop','sgd','adadelta']),\n",
        "      loss='binary_crossentropy', metrics=['accuracy']\n",
        "      )\n",
        "  return model\n",
        "\n",
        "tuner_all=kt.RandomSearch(\n",
        "    build_model_all,\n",
        "    objective='val_accuracy',\n",
        "    max_trials=5,\n",
        "    directory=\"mydir\",\n",
        "    project_name='all')\n",
        "tuner_all.search(X_train_trf,y_train,epochs=5,validation_data=(X_test_trf,y_test),class_weight=class_weights)"
      ],
      "metadata": {
        "colab": {
          "base_uri": "https://localhost:8080/"
        },
        "id": "u7vfEUHj1CbU",
        "outputId": "5e68b22c-9b2b-4784-e65c-132736283c29"
      },
      "execution_count": 92,
      "outputs": [
        {
          "output_type": "stream",
          "name": "stdout",
          "text": [
            "Trial 5 Complete [00h 00m 08s]\n",
            "val_accuracy: 0.7944999933242798\n",
            "\n",
            "Best val_accuracy So Far: 0.7944999933242798\n",
            "Total elapsed time: 00h 01m 01s\n"
          ]
        }
      ]
    },
    {
      "cell_type": "code",
      "source": [
        "print(tuner_all.get_best_hyperparameters()[0].values)\n",
        "model=tuner_all.get_best_models(num_models=1)[0]\n",
        "model.summary()"
      ],
      "metadata": {
        "colab": {
          "base_uri": "https://localhost:8080/"
        },
        "id": "SLbqgRXxEk_o",
        "outputId": "8144cfa3-1d67-4201-a7aa-1e641ac0f53f"
      },
      "execution_count": 93,
      "outputs": [
        {
          "output_type": "stream",
          "name": "stdout",
          "text": [
            "{'num_layers': 6, 'units0': 448, 'activation0': 'sigmoid', 'optimizer': 'rmsprop', 'units1': 224, 'activation1': 'sigmoid', 'dropout1': 0.1, 'units2': 224, 'activation2': 'relu', 'dropout2': 0.3, 'units3': 480, 'activation3': 'tanh', 'dropout3': 0.5, 'units4': 288, 'activation4': 'tanh', 'dropout4': 0.2, 'units5': 32, 'activation5': 'relu', 'dropout5': 0.0}\n",
            "Model: \"sequential\"\n",
            "_________________________________________________________________\n",
            " Layer (type)                Output Shape              Param #   \n",
            "=================================================================\n",
            " dense (Dense)               (None, 448)               6272      \n",
            "                                                                 \n",
            " dense_1 (Dense)             (None, 224)               100576    \n",
            "                                                                 \n",
            " dropout (Dropout)           (None, 224)               0         \n",
            "                                                                 \n",
            " dense_2 (Dense)             (None, 224)               50400     \n",
            "                                                                 \n",
            " dropout_1 (Dropout)         (None, 224)               0         \n",
            "                                                                 \n",
            " dense_3 (Dense)             (None, 480)               108000    \n",
            "                                                                 \n",
            " dropout_2 (Dropout)         (None, 480)               0         \n",
            "                                                                 \n",
            " dense_4 (Dense)             (None, 288)               138528    \n",
            "                                                                 \n",
            " dropout_3 (Dropout)         (None, 288)               0         \n",
            "                                                                 \n",
            " dense_5 (Dense)             (None, 32)                9248      \n",
            "                                                                 \n",
            " dropout_4 (Dropout)         (None, 32)                0         \n",
            "                                                                 \n",
            " dense_6 (Dense)             (None, 1)                 33        \n",
            "                                                                 \n",
            "=================================================================\n",
            "Total params: 413057 (1.58 MB)\n",
            "Trainable params: 413057 (1.58 MB)\n",
            "Non-trainable params: 0 (0.00 Byte)\n",
            "_________________________________________________________________\n"
          ]
        }
      ]
    },
    {
      "cell_type": "code",
      "source": [
        "history = model.fit(X_train_trf,y_train,batch_size=32,epochs=60,verbose=1,validation_data=(X_test_trf,y_test),class_weight=class_weights)"
      ],
      "metadata": {
        "colab": {
          "base_uri": "https://localhost:8080/"
        },
        "collapsed": true,
        "id": "Ayorr_iaMZ01",
        "outputId": "0538320a-05c2-4f6f-f002-2e9d664b27ca"
      },
      "execution_count": 94,
      "outputs": [
        {
          "output_type": "stream",
          "name": "stdout",
          "text": [
            "Epoch 1/60\n",
            "250/250 [==============================] - 3s 7ms/step - loss: 0.6963 - accuracy: 0.5341 - val_loss: 0.6554 - val_accuracy: 0.7945\n",
            "Epoch 2/60\n",
            "250/250 [==============================] - 2s 7ms/step - loss: 0.6973 - accuracy: 0.3775 - val_loss: 0.7105 - val_accuracy: 0.2055\n",
            "Epoch 3/60\n",
            "250/250 [==============================] - 1s 6ms/step - loss: 0.6948 - accuracy: 0.3173 - val_loss: 0.7094 - val_accuracy: 0.2055\n",
            "Epoch 4/60\n",
            "250/250 [==============================] - 1s 5ms/step - loss: 0.6959 - accuracy: 0.3740 - val_loss: 0.7104 - val_accuracy: 0.2055\n",
            "Epoch 5/60\n",
            "250/250 [==============================] - 1s 5ms/step - loss: 0.6974 - accuracy: 0.4893 - val_loss: 0.7194 - val_accuracy: 0.2055\n",
            "Epoch 6/60\n",
            "250/250 [==============================] - 1s 5ms/step - loss: 0.6965 - accuracy: 0.4404 - val_loss: 0.7240 - val_accuracy: 0.2055\n",
            "Epoch 7/60\n",
            "250/250 [==============================] - 1s 5ms/step - loss: 0.6961 - accuracy: 0.3983 - val_loss: 0.7202 - val_accuracy: 0.2055\n",
            "Epoch 8/60\n",
            "250/250 [==============================] - 1s 5ms/step - loss: 0.6941 - accuracy: 0.3869 - val_loss: 0.6788 - val_accuracy: 0.7945\n",
            "Epoch 9/60\n",
            "250/250 [==============================] - 1s 5ms/step - loss: 0.6945 - accuracy: 0.5042 - val_loss: 0.6717 - val_accuracy: 0.7945\n",
            "Epoch 10/60\n",
            "250/250 [==============================] - 1s 5ms/step - loss: 0.6945 - accuracy: 0.4647 - val_loss: 0.6940 - val_accuracy: 0.2055\n",
            "Epoch 11/60\n",
            "250/250 [==============================] - 1s 5ms/step - loss: 0.6965 - accuracy: 0.3854 - val_loss: 0.7223 - val_accuracy: 0.2055\n",
            "Epoch 12/60\n",
            "250/250 [==============================] - 2s 6ms/step - loss: 0.6958 - accuracy: 0.4437 - val_loss: 0.7106 - val_accuracy: 0.2055\n",
            "Epoch 13/60\n",
            "250/250 [==============================] - 2s 7ms/step - loss: 0.6957 - accuracy: 0.3507 - val_loss: 0.6957 - val_accuracy: 0.2055\n",
            "Epoch 14/60\n",
            "250/250 [==============================] - 1s 5ms/step - loss: 0.6946 - accuracy: 0.3618 - val_loss: 0.7059 - val_accuracy: 0.2055\n",
            "Epoch 15/60\n",
            "250/250 [==============================] - 1s 5ms/step - loss: 0.6960 - accuracy: 0.4286 - val_loss: 0.7008 - val_accuracy: 0.2055\n",
            "Epoch 16/60\n",
            "250/250 [==============================] - 1s 5ms/step - loss: 0.6968 - accuracy: 0.4735 - val_loss: 0.7261 - val_accuracy: 0.2055\n",
            "Epoch 17/60\n",
            "250/250 [==============================] - 1s 5ms/step - loss: 0.6972 - accuracy: 0.3915 - val_loss: 0.7158 - val_accuracy: 0.2055\n",
            "Epoch 18/60\n",
            "250/250 [==============================] - 1s 5ms/step - loss: 0.6956 - accuracy: 0.4551 - val_loss: 0.7214 - val_accuracy: 0.2055\n",
            "Epoch 19/60\n",
            "250/250 [==============================] - 1s 5ms/step - loss: 0.6948 - accuracy: 0.4086 - val_loss: 0.7263 - val_accuracy: 0.2055\n",
            "Epoch 20/60\n",
            "250/250 [==============================] - 1s 5ms/step - loss: 0.6966 - accuracy: 0.3340 - val_loss: 0.7212 - val_accuracy: 0.2055\n",
            "Epoch 21/60\n",
            "250/250 [==============================] - 1s 5ms/step - loss: 0.6954 - accuracy: 0.3638 - val_loss: 0.6933 - val_accuracy: 0.4050\n",
            "Epoch 22/60\n",
            "250/250 [==============================] - 1s 6ms/step - loss: 0.6710 - accuracy: 0.5851 - val_loss: 0.6761 - val_accuracy: 0.6415\n",
            "Epoch 23/60\n",
            "250/250 [==============================] - 2s 7ms/step - loss: 0.6103 - accuracy: 0.6834 - val_loss: 0.5696 - val_accuracy: 0.6975\n",
            "Epoch 24/60\n",
            "250/250 [==============================] - 2s 7ms/step - loss: 0.6000 - accuracy: 0.6984 - val_loss: 0.5079 - val_accuracy: 0.7345\n",
            "Epoch 25/60\n",
            "250/250 [==============================] - 1s 5ms/step - loss: 0.5960 - accuracy: 0.6996 - val_loss: 0.4600 - val_accuracy: 0.7810\n",
            "Epoch 26/60\n",
            "250/250 [==============================] - 1s 5ms/step - loss: 0.5936 - accuracy: 0.7134 - val_loss: 0.5939 - val_accuracy: 0.7380\n",
            "Epoch 27/60\n",
            "250/250 [==============================] - 1s 5ms/step - loss: 0.5897 - accuracy: 0.7103 - val_loss: 0.5956 - val_accuracy: 0.6640\n",
            "Epoch 28/60\n",
            "250/250 [==============================] - 1s 5ms/step - loss: 0.5945 - accuracy: 0.7138 - val_loss: 0.4996 - val_accuracy: 0.7585\n",
            "Epoch 29/60\n",
            "250/250 [==============================] - 1s 5ms/step - loss: 0.5893 - accuracy: 0.7090 - val_loss: 0.5221 - val_accuracy: 0.7630\n",
            "Epoch 30/60\n",
            "250/250 [==============================] - 1s 5ms/step - loss: 0.5922 - accuracy: 0.7113 - val_loss: 0.5366 - val_accuracy: 0.7580\n",
            "Epoch 31/60\n",
            "250/250 [==============================] - 1s 5ms/step - loss: 0.5911 - accuracy: 0.7050 - val_loss: 0.6048 - val_accuracy: 0.7015\n",
            "Epoch 32/60\n",
            "250/250 [==============================] - 1s 5ms/step - loss: 0.5852 - accuracy: 0.7157 - val_loss: 0.6554 - val_accuracy: 0.6505\n",
            "Epoch 33/60\n",
            "250/250 [==============================] - 2s 6ms/step - loss: 0.5697 - accuracy: 0.7241 - val_loss: 0.4951 - val_accuracy: 0.7440\n",
            "Epoch 34/60\n",
            "250/250 [==============================] - 2s 7ms/step - loss: 0.5434 - accuracy: 0.7394 - val_loss: 0.4366 - val_accuracy: 0.8040\n",
            "Epoch 35/60\n",
            "250/250 [==============================] - 1s 6ms/step - loss: 0.5259 - accuracy: 0.7616 - val_loss: 0.5828 - val_accuracy: 0.6865\n",
            "Epoch 36/60\n",
            "250/250 [==============================] - 1s 5ms/step - loss: 0.5176 - accuracy: 0.7511 - val_loss: 0.5099 - val_accuracy: 0.7780\n",
            "Epoch 37/60\n",
            "250/250 [==============================] - 1s 5ms/step - loss: 0.5148 - accuracy: 0.7570 - val_loss: 0.5035 - val_accuracy: 0.7450\n",
            "Epoch 38/60\n",
            "250/250 [==============================] - 1s 5ms/step - loss: 0.5098 - accuracy: 0.7595 - val_loss: 0.5383 - val_accuracy: 0.7010\n",
            "Epoch 39/60\n",
            "250/250 [==============================] - 1s 5ms/step - loss: 0.5147 - accuracy: 0.7617 - val_loss: 0.4458 - val_accuracy: 0.8035\n",
            "Epoch 40/60\n",
            "250/250 [==============================] - 1s 5ms/step - loss: 0.5045 - accuracy: 0.7646 - val_loss: 0.4436 - val_accuracy: 0.7715\n",
            "Epoch 41/60\n",
            "250/250 [==============================] - 1s 5ms/step - loss: 0.5094 - accuracy: 0.7650 - val_loss: 0.5411 - val_accuracy: 0.7430\n",
            "Epoch 42/60\n",
            "250/250 [==============================] - 1s 5ms/step - loss: 0.5045 - accuracy: 0.7670 - val_loss: 0.4217 - val_accuracy: 0.8040\n",
            "Epoch 43/60\n",
            "250/250 [==============================] - 1s 5ms/step - loss: 0.5001 - accuracy: 0.7669 - val_loss: 0.4735 - val_accuracy: 0.7570\n",
            "Epoch 44/60\n",
            "250/250 [==============================] - 2s 7ms/step - loss: 0.5014 - accuracy: 0.7688 - val_loss: 0.4607 - val_accuracy: 0.7555\n",
            "Epoch 45/60\n",
            "250/250 [==============================] - 2s 7ms/step - loss: 0.5058 - accuracy: 0.7592 - val_loss: 0.4471 - val_accuracy: 0.8175\n",
            "Epoch 46/60\n",
            "250/250 [==============================] - 1s 6ms/step - loss: 0.4958 - accuracy: 0.7845 - val_loss: 0.5710 - val_accuracy: 0.7145\n",
            "Epoch 47/60\n",
            "250/250 [==============================] - 1s 5ms/step - loss: 0.4946 - accuracy: 0.7764 - val_loss: 0.6542 - val_accuracy: 0.6880\n",
            "Epoch 48/60\n",
            "250/250 [==============================] - 1s 5ms/step - loss: 0.4948 - accuracy: 0.7811 - val_loss: 0.5719 - val_accuracy: 0.7215\n",
            "Epoch 49/60\n",
            "250/250 [==============================] - 1s 5ms/step - loss: 0.4987 - accuracy: 0.7763 - val_loss: 0.5227 - val_accuracy: 0.7675\n",
            "Epoch 50/60\n",
            "250/250 [==============================] - 1s 5ms/step - loss: 0.4924 - accuracy: 0.7691 - val_loss: 0.4145 - val_accuracy: 0.8015\n",
            "Epoch 51/60\n",
            "250/250 [==============================] - 1s 5ms/step - loss: 0.4961 - accuracy: 0.7791 - val_loss: 0.4856 - val_accuracy: 0.8145\n",
            "Epoch 52/60\n",
            "250/250 [==============================] - 1s 5ms/step - loss: 0.4894 - accuracy: 0.7883 - val_loss: 0.4157 - val_accuracy: 0.8370\n",
            "Epoch 53/60\n",
            "250/250 [==============================] - 1s 5ms/step - loss: 0.4879 - accuracy: 0.7845 - val_loss: 0.4105 - val_accuracy: 0.8140\n",
            "Epoch 54/60\n",
            "250/250 [==============================] - 1s 6ms/step - loss: 0.4892 - accuracy: 0.7807 - val_loss: 0.4616 - val_accuracy: 0.7965\n",
            "Epoch 55/60\n",
            "250/250 [==============================] - 2s 6ms/step - loss: 0.4867 - accuracy: 0.7814 - val_loss: 0.5117 - val_accuracy: 0.7430\n",
            "Epoch 56/60\n",
            "250/250 [==============================] - 2s 7ms/step - loss: 0.4865 - accuracy: 0.7778 - val_loss: 0.4037 - val_accuracy: 0.8230\n",
            "Epoch 57/60\n",
            "250/250 [==============================] - 1s 5ms/step - loss: 0.4864 - accuracy: 0.7795 - val_loss: 0.4848 - val_accuracy: 0.7590\n",
            "Epoch 58/60\n",
            "250/250 [==============================] - 1s 5ms/step - loss: 0.4877 - accuracy: 0.7899 - val_loss: 0.5280 - val_accuracy: 0.7385\n",
            "Epoch 59/60\n",
            "250/250 [==============================] - 1s 5ms/step - loss: 0.4867 - accuracy: 0.7746 - val_loss: 0.4562 - val_accuracy: 0.7915\n",
            "Epoch 60/60\n",
            "250/250 [==============================] - 1s 5ms/step - loss: 0.4821 - accuracy: 0.7796 - val_loss: 0.4724 - val_accuracy: 0.7660\n"
          ]
        }
      ]
    },
    {
      "cell_type": "code",
      "execution_count": 95,
      "metadata": {
        "colab": {
          "base_uri": "https://localhost:8080/"
        },
        "outputId": "9e2f5768-e3c8-44cc-b94a-76f8d7363247",
        "id": "2z3TZ69sLRq7"
      },
      "outputs": [
        {
          "output_type": "stream",
          "name": "stdout",
          "text": [
            "63/63 [==============================] - 0s 2ms/step\n"
          ]
        },
        {
          "output_type": "execute_result",
          "data": {
            "text/plain": [
              "array([1, 0, 0, ..., 0, 1, 0])"
            ]
          },
          "metadata": {},
          "execution_count": 95
        }
      ],
      "source": [
        "y_pred=model.predict(X_test_trf)\n",
        "\n",
        "y_pred1=np.where(y_pred > 0.50, 1, 0)[:, 0]\n",
        "y_pred1"
      ]
    },
    {
      "cell_type": "code",
      "execution_count": 96,
      "metadata": {
        "colab": {
          "base_uri": "https://localhost:8080/"
        },
        "outputId": "2c5fe635-7f59-4e75-a850-7758682ed3b5",
        "id": "TOREDzFdLRq9"
      },
      "outputs": [
        {
          "output_type": "stream",
          "name": "stdout",
          "text": [
            "accuracy is 76.60%\n",
            "recall is 75.43%\n"
          ]
        }
      ],
      "source": [
        "from sklearn.metrics import accuracy_score, recall_score\n",
        "\n",
        "acc=accuracy_score(y_test,y_pred1)\n",
        "recall=recall_score(y_test,y_pred1)\n",
        "print(f\"accuracy is {acc * 100:.2f}%\")\n",
        "print(f\"recall is {recall * 100:.2f}%\")"
      ]
    },
    {
      "cell_type": "code",
      "execution_count": 97,
      "metadata": {
        "id": "DnjWvAb5LRq-"
      },
      "outputs": [],
      "source": [
        "import matplotlib.pyplot as plt\n"
      ]
    },
    {
      "cell_type": "code",
      "execution_count": 98,
      "metadata": {
        "colab": {
          "base_uri": "https://localhost:8080/",
          "height": 447
        },
        "outputId": "0cb84d90-af48-4206-f3d4-51c3ea521d8a",
        "id": "hlOQZYctLRq_"
      },
      "outputs": [
        {
          "output_type": "execute_result",
          "data": {
            "text/plain": [
              "[<matplotlib.lines.Line2D at 0x7fa311962f80>]"
            ]
          },
          "metadata": {},
          "execution_count": 98
        },
        {
          "output_type": "display_data",
          "data": {
            "text/plain": [
              "<Figure size 640x480 with 1 Axes>"
            ],
            "image/png": "[encoded data removed]"
          },
          "metadata": {}
        }
      ],
      "source": [
        "plt.plot(history.history['loss'])\n",
        "plt.plot(history.history['val_loss'])"
      ]
    },
    {
      "cell_type": "code",
      "source": [
        "plt.plot(history.history['accuracy'])\n",
        "plt.plot(history.history['val_accuracy'])"
      ],
      "metadata": {
        "colab": {
          "base_uri": "https://localhost:8080/",
          "height": 447
        },
        "outputId": "7ec6d5d3-7182-41a3-8ae7-378e89dc2425",
        "id": "NfSoCMbFLRrB"
      },
      "execution_count": 99,
      "outputs": [
        {
          "output_type": "execute_result",
          "data": {
            "text/plain": [
              "[<matplotlib.lines.Line2D at 0x7fa3119b3580>]"
            ]
          },
          "metadata": {},
          "execution_count": 99
        },
        {
          "output_type": "display_data",
          "data": {
            "text/plain": [
              "<Figure size 640x480 with 1 Axes>"
            ],
            "image/png": "[encoded data removed]"
          },
          "metadata": {}
        }
      ]
    },
    {
      "cell_type": "code",
      "source": [
        "!rm -r mydir/"
      ],
      "metadata": {
        "id": "ti3oPWstSNfV"
      },
      "execution_count": 100,
      "outputs": []
    },
    {
      "cell_type": "code",
      "source": [],
      "metadata": {
        "id": "8gfzMPvySO3Y"
      },
      "execution_count": 100,
      "outputs": []
    }
  ],
  "metadata": {
    "colab": {
      "provenance": [],
      "collapsed_sections": [
        "hj1CrGPflgI6",
        "dfRbYx3XhamX"
      ],
      "gpuType": "T4"
    },
    "kernelspec": {
      "display_name": "Python 3",
      "name": "python3"
    },
    "language_info": {
      "name": "python"
    },
    "accelerator": "GPU"
  },
  "nbformat": 4,
  "nbformat_minor": 0
}