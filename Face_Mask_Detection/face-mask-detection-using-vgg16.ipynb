{
 "cells": [
  {
   "cell_type": "markdown",
   "id": "b3aa03f3",
   "metadata": {
    "papermill": {
     "duration": 0.008663,
     "end_time": "2024-06-01T15:28:45.944653",
     "exception": false,
     "start_time": "2024-06-01T15:28:45.935990",
     "status": "completed"
    },
    "tags": []
   },
   "source": [
    "**dataset : https://www.kaggle.com/datasets/omkargurav/face-mask-dataset**"
   ]
  },
  {
   "cell_type": "code",
   "execution_count": 1,
   "id": "a65a62d9",
   "metadata": {
    "_cell_guid": "b1076dfc-b9ad-4769-8c92-a6c4dae69d19",
    "_uuid": "8f2839f25d086af736a60e9eeb907d3b93b6e0e5",
    "execution": {
     "iopub.execute_input": "2024-06-01T15:28:45.962858Z",
     "iopub.status.busy": "2024-06-01T15:28:45.962140Z",
     "iopub.status.idle": "2024-06-01T15:28:53.561104Z",
     "shell.execute_reply": "2024-06-01T15:28:53.559826Z"
    },
    "papermill": {
     "duration": 7.610629,
     "end_time": "2024-06-01T15:28:53.563464",
     "exception": false,
     "start_time": "2024-06-01T15:28:45.952835",
     "status": "completed"
    },
    "tags": []
   },
   "outputs": [
    {
     "name": "stdout",
     "output_type": "stream",
     "text": [
      "/kaggle/input/face-mask-dataset/data/without_mask/without_mask_3248.jpg\n",
      "/kaggle/input/face-mask-dataset/data/with_mask/with_mask_3326.jpg\n"
     ]
    }
   ],
   "source": [
    "# This Python 3 environment comes with many helpful analytics libraries installed\n",
    "# It is defined by the kaggle/python Docker image: https://github.com/kaggle/docker-python\n",
    "# For example, here's several helpful packages to load\n",
    "\n",
    "import numpy as np # linear algebra\n",
    "import pandas as pd # data processing, CSV file I/O (e.g. pd.read_csv)\n",
    "\n",
    "# Input data files are available in the read-only \"../input/\" directory\n",
    "# For example, running this (by clicking run or pressing Shift+Enter) will list all files under the input directory\n",
    "\n",
    "import os\n",
    "for dirname, _, filenames in os.walk('/kaggle/input'):\n",
    "    for filename in filenames:\n",
    "        pass\n",
    "        print(os.path.join(dirname, filename))\n",
    "        break\n",
    "\n",
    "# You can write up to 20GB to the current directory (/kaggle/working/) that gets preserved as output when you create a version using \"Save & Run All\" \n",
    "# You can also write temporary files to /kaggle/temp/, but they won't be saved outside of the current session"
   ]
  },
  {
   "cell_type": "markdown",
   "id": "3a2d844f",
   "metadata": {
    "papermill": {
     "duration": 0.009324,
     "end_time": "2024-06-01T15:28:53.582404",
     "exception": false,
     "start_time": "2024-06-01T15:28:53.573080",
     "status": "completed"
    },
    "tags": []
   },
   "source": [
    "**importing libraries**"
   ]
  },
  {
   "cell_type": "code",
   "execution_count": 2,
   "id": "a4f53812",
   "metadata": {
    "execution": {
     "iopub.execute_input": "2024-06-01T15:28:53.603345Z",
     "iopub.status.busy": "2024-06-01T15:28:53.602500Z",
     "iopub.status.idle": "2024-06-01T15:29:05.862004Z",
     "shell.execute_reply": "2024-06-01T15:29:05.860980Z"
    },
    "papermill": {
     "duration": 12.272752,
     "end_time": "2024-06-01T15:29:05.864589",
     "exception": false,
     "start_time": "2024-06-01T15:28:53.591837",
     "status": "completed"
    },
    "tags": []
   },
   "outputs": [
    {
     "name": "stderr",
     "output_type": "stream",
     "text": [
      "2024-06-01 15:28:55.409165: E external/local_xla/xla/stream_executor/cuda/cuda_dnn.cc:9261] Unable to register cuDNN factory: Attempting to register factory for plugin cuDNN when one has already been registered\n",
      "2024-06-01 15:28:55.409306: E external/local_xla/xla/stream_executor/cuda/cuda_fft.cc:607] Unable to register cuFFT factory: Attempting to register factory for plugin cuFFT when one has already been registered\n",
      "2024-06-01 15:28:55.545373: E external/local_xla/xla/stream_executor/cuda/cuda_blas.cc:1515] Unable to register cuBLAS factory: Attempting to register factory for plugin cuBLAS when one has already been registered\n"
     ]
    }
   ],
   "source": [
    "import tensorflow\n",
    "from tensorflow import keras\n",
    "# from keras.preprocessing import image"
   ]
  },
  {
   "cell_type": "code",
   "execution_count": 3,
   "id": "efa9c16d",
   "metadata": {
    "execution": {
     "iopub.execute_input": "2024-06-01T15:29:05.883038Z",
     "iopub.status.busy": "2024-06-01T15:29:05.882434Z",
     "iopub.status.idle": "2024-06-01T15:29:06.056333Z",
     "shell.execute_reply": "2024-06-01T15:29:06.055435Z"
    },
    "papermill": {
     "duration": 0.185647,
     "end_time": "2024-06-01T15:29:06.058707",
     "exception": false,
     "start_time": "2024-06-01T15:29:05.873060",
     "status": "completed"
    },
    "tags": []
   },
   "outputs": [],
   "source": [
    "import os\n",
    "import random\n",
    "import numpy as np\n",
    "import cv2\n",
    "# from google.colab.patches import cv2_imshow"
   ]
  },
  {
   "cell_type": "markdown",
   "id": "98b7f43b",
   "metadata": {
    "papermill": {
     "duration": 0.008129,
     "end_time": "2024-06-01T15:29:06.075273",
     "exception": false,
     "start_time": "2024-06-01T15:29:06.067144",
     "status": "completed"
    },
    "tags": []
   },
   "source": [
    "#### **setting up random state**"
   ]
  },
  {
   "cell_type": "code",
   "execution_count": 4,
   "id": "4d14a01f",
   "metadata": {
    "execution": {
     "iopub.execute_input": "2024-06-01T15:29:06.094415Z",
     "iopub.status.busy": "2024-06-01T15:29:06.094049Z",
     "iopub.status.idle": "2024-06-01T15:29:06.098661Z",
     "shell.execute_reply": "2024-06-01T15:29:06.097865Z"
    },
    "papermill": {
     "duration": 0.016881,
     "end_time": "2024-06-01T15:29:06.100515",
     "exception": false,
     "start_time": "2024-06-01T15:29:06.083634",
     "status": "completed"
    },
    "tags": []
   },
   "outputs": [],
   "source": [
    "keras.utils.set_random_seed(7)"
   ]
  },
  {
   "cell_type": "markdown",
   "id": "2a1390b9",
   "metadata": {
    "papermill": {
     "duration": 0.008154,
     "end_time": "2024-06-01T15:29:06.117170",
     "exception": false,
     "start_time": "2024-06-01T15:29:06.109016",
     "status": "completed"
    },
    "tags": []
   },
   "source": [
    "#### **reading data**"
   ]
  },
  {
   "cell_type": "code",
   "execution_count": 5,
   "id": "22c363fb",
   "metadata": {
    "execution": {
     "iopub.execute_input": "2024-06-01T15:29:06.135556Z",
     "iopub.status.busy": "2024-06-01T15:29:06.135195Z",
     "iopub.status.idle": "2024-06-01T15:29:49.230595Z",
     "shell.execute_reply": "2024-06-01T15:29:49.229753Z"
    },
    "papermill": {
     "duration": 43.10778,
     "end_time": "2024-06-01T15:29:49.233152",
     "exception": false,
     "start_time": "2024-06-01T15:29:06.125372",
     "status": "completed"
    },
    "tags": []
   },
   "outputs": [],
   "source": [
    "data=[]\n",
    "categories=['with_mask','without_mask']\n",
    "for category in categories:\n",
    "    path=os.path.join('/kaggle/input/face-mask-dataset/data',category)\n",
    "\n",
    "    if category == 'with_mask':\n",
    "        label=0\n",
    "    else:\n",
    "        label=1\n",
    "\n",
    "    for file in os.listdir(path):\n",
    "        img_path=os.path.join(path,file)\n",
    "        img=cv2.imread(img_path)\n",
    "        # img=cv2.cvtColor(img,cv2.COLOR_BGR2RGB)\n",
    "        img=cv2.resize(img,(128,128))\n",
    "        data.append([img,label])"
   ]
  },
  {
   "cell_type": "markdown",
   "id": "75614668",
   "metadata": {
    "papermill": {
     "duration": 0.008224,
     "end_time": "2024-06-01T15:29:49.250566",
     "exception": false,
     "start_time": "2024-06-01T15:29:49.242342",
     "status": "completed"
    },
    "tags": []
   },
   "source": [
    "#### in order to avoid any bias towards data, we are doing shuffling"
   ]
  },
  {
   "cell_type": "code",
   "execution_count": 6,
   "id": "bcf5b4ae",
   "metadata": {
    "execution": {
     "iopub.execute_input": "2024-06-01T15:29:49.268794Z",
     "iopub.status.busy": "2024-06-01T15:29:49.268084Z",
     "iopub.status.idle": "2024-06-01T15:29:49.278826Z",
     "shell.execute_reply": "2024-06-01T15:29:49.277951Z"
    },
    "papermill": {
     "duration": 0.022122,
     "end_time": "2024-06-01T15:29:49.280805",
     "exception": false,
     "start_time": "2024-06-01T15:29:49.258683",
     "status": "completed"
    },
    "tags": []
   },
   "outputs": [],
   "source": [
    "random.Random(7).shuffle(data)"
   ]
  },
  {
   "cell_type": "code",
   "execution_count": 7,
   "id": "357ffe6d",
   "metadata": {
    "execution": {
     "iopub.execute_input": "2024-06-01T15:29:49.299626Z",
     "iopub.status.busy": "2024-06-01T15:29:49.299048Z",
     "iopub.status.idle": "2024-06-01T15:29:50.350407Z",
     "shell.execute_reply": "2024-06-01T15:29:50.349145Z"
    },
    "papermill": {
     "duration": 1.063655,
     "end_time": "2024-06-01T15:29:50.353503",
     "exception": false,
     "start_time": "2024-06-01T15:29:49.289848",
     "status": "completed"
    },
    "tags": []
   },
   "outputs": [],
   "source": [
    "X=[]\n",
    "y=[]\n",
    "for feature,label in data:\n",
    "    X.append(feature)\n",
    "    y.append(label)\n",
    "X=np.array(X)\n",
    "y=np.array(y)\n",
    "X=X/255\n",
    "data=None"
   ]
  },
  {
   "cell_type": "code",
   "execution_count": 8,
   "id": "aa5a9367",
   "metadata": {
    "execution": {
     "iopub.execute_input": "2024-06-01T15:29:50.378800Z",
     "iopub.status.busy": "2024-06-01T15:29:50.378063Z",
     "iopub.status.idle": "2024-06-01T15:29:50.384879Z",
     "shell.execute_reply": "2024-06-01T15:29:50.383981Z"
    },
    "papermill": {
     "duration": 0.021969,
     "end_time": "2024-06-01T15:29:50.386953",
     "exception": false,
     "start_time": "2024-06-01T15:29:50.364984",
     "status": "completed"
    },
    "tags": []
   },
   "outputs": [
    {
     "data": {
      "text/plain": [
       "((7553, 128, 128, 3), (7553,))"
      ]
     },
     "execution_count": 8,
     "metadata": {},
     "output_type": "execute_result"
    }
   ],
   "source": [
    "X.shape,y.shape"
   ]
  },
  {
   "cell_type": "code",
   "execution_count": 9,
   "id": "6bf72b59",
   "metadata": {
    "execution": {
     "iopub.execute_input": "2024-06-01T15:29:50.406307Z",
     "iopub.status.busy": "2024-06-01T15:29:50.405989Z",
     "iopub.status.idle": "2024-06-01T15:29:51.466291Z",
     "shell.execute_reply": "2024-06-01T15:29:51.465186Z"
    },
    "papermill": {
     "duration": 1.073244,
     "end_time": "2024-06-01T15:29:51.468811",
     "exception": false,
     "start_time": "2024-06-01T15:29:50.395567",
     "status": "completed"
    },
    "tags": []
   },
   "outputs": [],
   "source": [
    "from sklearn.model_selection import train_test_split"
   ]
  },
  {
   "cell_type": "code",
   "execution_count": 10,
   "id": "f9f677a0",
   "metadata": {
    "execution": {
     "iopub.execute_input": "2024-06-01T15:29:51.488515Z",
     "iopub.status.busy": "2024-06-01T15:29:51.487813Z",
     "iopub.status.idle": "2024-06-01T15:29:52.349108Z",
     "shell.execute_reply": "2024-06-01T15:29:52.348137Z"
    },
    "papermill": {
     "duration": 0.873501,
     "end_time": "2024-06-01T15:29:52.351284",
     "exception": false,
     "start_time": "2024-06-01T15:29:51.477783",
     "status": "completed"
    },
    "tags": []
   },
   "outputs": [
    {
     "data": {
      "text/plain": [
       "((6042, 128, 128, 3), (6042,))"
      ]
     },
     "execution_count": 10,
     "metadata": {},
     "output_type": "execute_result"
    }
   ],
   "source": [
    "X_train,X_test,y_train,y_test=train_test_split(X,y,test_size=0.2)\n",
    "X_train.shape,y_train.shape"
   ]
  },
  {
   "cell_type": "markdown",
   "id": "fc99fe57",
   "metadata": {
    "papermill": {
     "duration": 0.008693,
     "end_time": "2024-06-01T15:29:52.368787",
     "exception": false,
     "start_time": "2024-06-01T15:29:52.360094",
     "status": "completed"
    },
    "tags": []
   },
   "source": [
    "### VGG16"
   ]
  },
  {
   "cell_type": "code",
   "execution_count": 11,
   "id": "1f6ee2bf",
   "metadata": {
    "execution": {
     "iopub.execute_input": "2024-06-01T15:29:52.387727Z",
     "iopub.status.busy": "2024-06-01T15:29:52.387361Z",
     "iopub.status.idle": "2024-06-01T15:29:52.391908Z",
     "shell.execute_reply": "2024-06-01T15:29:52.390981Z"
    },
    "papermill": {
     "duration": 0.016327,
     "end_time": "2024-06-01T15:29:52.393797",
     "exception": false,
     "start_time": "2024-06-01T15:29:52.377470",
     "status": "completed"
    },
    "tags": []
   },
   "outputs": [],
   "source": [
    "from keras import Sequential\n",
    "from keras.layers import Dense,Flatten,BatchNormalization,Dropout"
   ]
  },
  {
   "cell_type": "code",
   "execution_count": 12,
   "id": "45904d91",
   "metadata": {
    "execution": {
     "iopub.execute_input": "2024-06-01T15:29:52.413794Z",
     "iopub.status.busy": "2024-06-01T15:29:52.413434Z",
     "iopub.status.idle": "2024-06-01T15:29:52.417779Z",
     "shell.execute_reply": "2024-06-01T15:29:52.416932Z"
    },
    "papermill": {
     "duration": 0.017283,
     "end_time": "2024-06-01T15:29:52.419720",
     "exception": false,
     "start_time": "2024-06-01T15:29:52.402437",
     "status": "completed"
    },
    "tags": []
   },
   "outputs": [],
   "source": [
    "from keras.applications.vgg16 import VGG16"
   ]
  },
  {
   "cell_type": "code",
   "execution_count": 13,
   "id": "4be7d061",
   "metadata": {
    "execution": {
     "iopub.execute_input": "2024-06-01T15:29:52.438488Z",
     "iopub.status.busy": "2024-06-01T15:29:52.438149Z",
     "iopub.status.idle": "2024-06-01T15:29:58.900519Z",
     "shell.execute_reply": "2024-06-01T15:29:58.899718Z"
    },
    "papermill": {
     "duration": 6.474429,
     "end_time": "2024-06-01T15:29:58.902880",
     "exception": false,
     "start_time": "2024-06-01T15:29:52.428451",
     "status": "completed"
    },
    "tags": []
   },
   "outputs": [
    {
     "name": "stdout",
     "output_type": "stream",
     "text": [
      "Downloading data from https://storage.googleapis.com/tensorflow/keras-applications/vgg16/vgg16_weights_tf_dim_ordering_tf_kernels.h5\n",
      "\u001b[1m553467096/553467096\u001b[0m \u001b[32m━━━━━━━━━━━━━━━━━━━━\u001b[0m\u001b[37m\u001b[0m \u001b[1m3s\u001b[0m 0us/step\n"
     ]
    }
   ],
   "source": [
    "vgg=VGG16()\n",
    "fc1_weights=vgg.get_layer('fc1').get_weights()\n",
    "fc2_weights=vgg.get_layer('fc2').get_weights()"
   ]
  },
  {
   "cell_type": "code",
   "execution_count": 14,
   "id": "59a379eb",
   "metadata": {
    "execution": {
     "iopub.execute_input": "2024-06-01T15:29:58.930484Z",
     "iopub.status.busy": "2024-06-01T15:29:58.930136Z",
     "iopub.status.idle": "2024-06-01T15:29:59.544112Z",
     "shell.execute_reply": "2024-06-01T15:29:59.543038Z"
    },
    "papermill": {
     "duration": 0.630465,
     "end_time": "2024-06-01T15:29:59.546573",
     "exception": false,
     "start_time": "2024-06-01T15:29:58.916108",
     "status": "completed"
    },
    "tags": []
   },
   "outputs": [
    {
     "name": "stdout",
     "output_type": "stream",
     "text": [
      "Downloading data from https://storage.googleapis.com/tensorflow/keras-applications/vgg16/vgg16_weights_tf_dim_ordering_tf_kernels_notop.h5\n",
      "\u001b[1m58889256/58889256\u001b[0m \u001b[32m━━━━━━━━━━━━━━━━━━━━\u001b[0m\u001b[37m\u001b[0m \u001b[1m0s\u001b[0m 0us/step\n"
     ]
    }
   ],
   "source": [
    "base=VGG16(include_top=False,input_shape=(128,128,3))\n",
    "base.trainable=False"
   ]
  },
  {
   "cell_type": "code",
   "execution_count": 15,
   "id": "9f91eb77",
   "metadata": {
    "execution": {
     "iopub.execute_input": "2024-06-01T15:29:59.576061Z",
     "iopub.status.busy": "2024-06-01T15:29:59.575305Z",
     "iopub.status.idle": "2024-06-01T15:30:00.515464Z",
     "shell.execute_reply": "2024-06-01T15:30:00.514322Z"
    },
    "papermill": {
     "duration": 0.958083,
     "end_time": "2024-06-01T15:30:00.518537",
     "exception": false,
     "start_time": "2024-06-01T15:29:59.560454",
     "status": "completed"
    },
    "tags": []
   },
   "outputs": [],
   "source": [
    "model=Sequential()\n",
    "\n",
    "for layer in base.layers:\n",
    "    model.add(layer)\n",
    "\n",
    "model.add(Flatten())\n",
    "\n",
    "model.add(Dense(25088, activation='relu', name='adjust_fc1_input'))\n",
    "\n",
    "model.add(Dense(4096, activation='relu', name='fc1'))\n",
    "model.layers[-1].set_weights(fc1_weights)\n",
    "# model.layers[-1].trainable=False\n",
    "\n",
    "model.add(Dense(4096, activation='relu', name='fc2'))\n",
    "model.layers[-1].set_weights(fc2_weights)\n",
    "# model.layers[-1].trainable=False\n",
    "\n",
    "model.add(Dense(1,activation='sigmoid'))"
   ]
  },
  {
   "cell_type": "code",
   "execution_count": 16,
   "id": "3067cdd8",
   "metadata": {
    "execution": {
     "iopub.execute_input": "2024-06-01T15:30:00.553663Z",
     "iopub.status.busy": "2024-06-01T15:30:00.553294Z",
     "iopub.status.idle": "2024-06-01T15:30:00.558008Z",
     "shell.execute_reply": "2024-06-01T15:30:00.556995Z"
    },
    "papermill": {
     "duration": 0.024899,
     "end_time": "2024-06-01T15:30:00.560137",
     "exception": false,
     "start_time": "2024-06-01T15:30:00.535238",
     "status": "completed"
    },
    "tags": []
   },
   "outputs": [],
   "source": [
    "from keras.optimizers import Adam"
   ]
  },
  {
   "cell_type": "code",
   "execution_count": 17,
   "id": "f395b753",
   "metadata": {
    "execution": {
     "iopub.execute_input": "2024-06-01T15:30:00.590807Z",
     "iopub.status.busy": "2024-06-01T15:30:00.590481Z",
     "iopub.status.idle": "2024-06-01T15:30:00.639843Z",
     "shell.execute_reply": "2024-06-01T15:30:00.638982Z"
    },
    "papermill": {
     "duration": 0.066565,
     "end_time": "2024-06-01T15:30:00.641945",
     "exception": false,
     "start_time": "2024-06-01T15:30:00.575380",
     "status": "completed"
    },
    "tags": []
   },
   "outputs": [
    {
     "data": {
      "text/html": [
       "<pre style=\"white-space:pre;overflow-x:auto;line-height:normal;font-family:Menlo,'DejaVu Sans Mono',consolas,'Courier New',monospace\"><span style=\"font-weight: bold\">Model: \"sequential\"</span>\n",
       "</pre>\n"
      ],
      "text/plain": [
       "\u001b[1mModel: \"sequential\"\u001b[0m\n"
      ]
     },
     "metadata": {},
     "output_type": "display_data"
    },
    {
     "data": {
      "text/html": [
       "<pre style=\"white-space:pre;overflow-x:auto;line-height:normal;font-family:Menlo,'DejaVu Sans Mono',consolas,'Courier New',monospace\">┏━━━━━━━━━━━━━━━━━━━━━━━━━━━━━━━━━┳━━━━━━━━━━━━━━━━━━━━━━━━┳━━━━━━━━━━━━━━━┓\n",
       "┃<span style=\"font-weight: bold\"> Layer (type)                    </span>┃<span style=\"font-weight: bold\"> Output Shape           </span>┃<span style=\"font-weight: bold\">       Param # </span>┃\n",
       "┡━━━━━━━━━━━━━━━━━━━━━━━━━━━━━━━━━╇━━━━━━━━━━━━━━━━━━━━━━━━╇━━━━━━━━━━━━━━━┩\n",
       "│ block1_conv1 (<span style=\"color: #0087ff; text-decoration-color: #0087ff\">Conv2D</span>)           │ (<span style=\"color: #00d7ff; text-decoration-color: #00d7ff\">None</span>, <span style=\"color: #00af00; text-decoration-color: #00af00\">128</span>, <span style=\"color: #00af00; text-decoration-color: #00af00\">128</span>, <span style=\"color: #00af00; text-decoration-color: #00af00\">64</span>)   │         <span style=\"color: #00af00; text-decoration-color: #00af00\">1,792</span> │\n",
       "├─────────────────────────────────┼────────────────────────┼───────────────┤\n",
       "│ block1_conv2 (<span style=\"color: #0087ff; text-decoration-color: #0087ff\">Conv2D</span>)           │ (<span style=\"color: #00d7ff; text-decoration-color: #00d7ff\">None</span>, <span style=\"color: #00af00; text-decoration-color: #00af00\">128</span>, <span style=\"color: #00af00; text-decoration-color: #00af00\">128</span>, <span style=\"color: #00af00; text-decoration-color: #00af00\">64</span>)   │        <span style=\"color: #00af00; text-decoration-color: #00af00\">36,928</span> │\n",
       "├─────────────────────────────────┼────────────────────────┼───────────────┤\n",
       "│ block1_pool (<span style=\"color: #0087ff; text-decoration-color: #0087ff\">MaxPooling2D</span>)      │ (<span style=\"color: #00d7ff; text-decoration-color: #00d7ff\">None</span>, <span style=\"color: #00af00; text-decoration-color: #00af00\">64</span>, <span style=\"color: #00af00; text-decoration-color: #00af00\">64</span>, <span style=\"color: #00af00; text-decoration-color: #00af00\">64</span>)     │             <span style=\"color: #00af00; text-decoration-color: #00af00\">0</span> │\n",
       "├─────────────────────────────────┼────────────────────────┼───────────────┤\n",
       "│ block2_conv1 (<span style=\"color: #0087ff; text-decoration-color: #0087ff\">Conv2D</span>)           │ (<span style=\"color: #00d7ff; text-decoration-color: #00d7ff\">None</span>, <span style=\"color: #00af00; text-decoration-color: #00af00\">64</span>, <span style=\"color: #00af00; text-decoration-color: #00af00\">64</span>, <span style=\"color: #00af00; text-decoration-color: #00af00\">128</span>)    │        <span style=\"color: #00af00; text-decoration-color: #00af00\">73,856</span> │\n",
       "├─────────────────────────────────┼────────────────────────┼───────────────┤\n",
       "│ block2_conv2 (<span style=\"color: #0087ff; text-decoration-color: #0087ff\">Conv2D</span>)           │ (<span style=\"color: #00d7ff; text-decoration-color: #00d7ff\">None</span>, <span style=\"color: #00af00; text-decoration-color: #00af00\">64</span>, <span style=\"color: #00af00; text-decoration-color: #00af00\">64</span>, <span style=\"color: #00af00; text-decoration-color: #00af00\">128</span>)    │       <span style=\"color: #00af00; text-decoration-color: #00af00\">147,584</span> │\n",
       "├─────────────────────────────────┼────────────────────────┼───────────────┤\n",
       "│ block2_pool (<span style=\"color: #0087ff; text-decoration-color: #0087ff\">MaxPooling2D</span>)      │ (<span style=\"color: #00d7ff; text-decoration-color: #00d7ff\">None</span>, <span style=\"color: #00af00; text-decoration-color: #00af00\">32</span>, <span style=\"color: #00af00; text-decoration-color: #00af00\">32</span>, <span style=\"color: #00af00; text-decoration-color: #00af00\">128</span>)    │             <span style=\"color: #00af00; text-decoration-color: #00af00\">0</span> │\n",
       "├─────────────────────────────────┼────────────────────────┼───────────────┤\n",
       "│ block3_conv1 (<span style=\"color: #0087ff; text-decoration-color: #0087ff\">Conv2D</span>)           │ (<span style=\"color: #00d7ff; text-decoration-color: #00d7ff\">None</span>, <span style=\"color: #00af00; text-decoration-color: #00af00\">32</span>, <span style=\"color: #00af00; text-decoration-color: #00af00\">32</span>, <span style=\"color: #00af00; text-decoration-color: #00af00\">256</span>)    │       <span style=\"color: #00af00; text-decoration-color: #00af00\">295,168</span> │\n",
       "├─────────────────────────────────┼────────────────────────┼───────────────┤\n",
       "│ block3_conv2 (<span style=\"color: #0087ff; text-decoration-color: #0087ff\">Conv2D</span>)           │ (<span style=\"color: #00d7ff; text-decoration-color: #00d7ff\">None</span>, <span style=\"color: #00af00; text-decoration-color: #00af00\">32</span>, <span style=\"color: #00af00; text-decoration-color: #00af00\">32</span>, <span style=\"color: #00af00; text-decoration-color: #00af00\">256</span>)    │       <span style=\"color: #00af00; text-decoration-color: #00af00\">590,080</span> │\n",
       "├─────────────────────────────────┼────────────────────────┼───────────────┤\n",
       "│ block3_conv3 (<span style=\"color: #0087ff; text-decoration-color: #0087ff\">Conv2D</span>)           │ (<span style=\"color: #00d7ff; text-decoration-color: #00d7ff\">None</span>, <span style=\"color: #00af00; text-decoration-color: #00af00\">32</span>, <span style=\"color: #00af00; text-decoration-color: #00af00\">32</span>, <span style=\"color: #00af00; text-decoration-color: #00af00\">256</span>)    │       <span style=\"color: #00af00; text-decoration-color: #00af00\">590,080</span> │\n",
       "├─────────────────────────────────┼────────────────────────┼───────────────┤\n",
       "│ block3_pool (<span style=\"color: #0087ff; text-decoration-color: #0087ff\">MaxPooling2D</span>)      │ (<span style=\"color: #00d7ff; text-decoration-color: #00d7ff\">None</span>, <span style=\"color: #00af00; text-decoration-color: #00af00\">16</span>, <span style=\"color: #00af00; text-decoration-color: #00af00\">16</span>, <span style=\"color: #00af00; text-decoration-color: #00af00\">256</span>)    │             <span style=\"color: #00af00; text-decoration-color: #00af00\">0</span> │\n",
       "├─────────────────────────────────┼────────────────────────┼───────────────┤\n",
       "│ block4_conv1 (<span style=\"color: #0087ff; text-decoration-color: #0087ff\">Conv2D</span>)           │ (<span style=\"color: #00d7ff; text-decoration-color: #00d7ff\">None</span>, <span style=\"color: #00af00; text-decoration-color: #00af00\">16</span>, <span style=\"color: #00af00; text-decoration-color: #00af00\">16</span>, <span style=\"color: #00af00; text-decoration-color: #00af00\">512</span>)    │     <span style=\"color: #00af00; text-decoration-color: #00af00\">1,180,160</span> │\n",
       "├─────────────────────────────────┼────────────────────────┼───────────────┤\n",
       "│ block4_conv2 (<span style=\"color: #0087ff; text-decoration-color: #0087ff\">Conv2D</span>)           │ (<span style=\"color: #00d7ff; text-decoration-color: #00d7ff\">None</span>, <span style=\"color: #00af00; text-decoration-color: #00af00\">16</span>, <span style=\"color: #00af00; text-decoration-color: #00af00\">16</span>, <span style=\"color: #00af00; text-decoration-color: #00af00\">512</span>)    │     <span style=\"color: #00af00; text-decoration-color: #00af00\">2,359,808</span> │\n",
       "├─────────────────────────────────┼────────────────────────┼───────────────┤\n",
       "│ block4_conv3 (<span style=\"color: #0087ff; text-decoration-color: #0087ff\">Conv2D</span>)           │ (<span style=\"color: #00d7ff; text-decoration-color: #00d7ff\">None</span>, <span style=\"color: #00af00; text-decoration-color: #00af00\">16</span>, <span style=\"color: #00af00; text-decoration-color: #00af00\">16</span>, <span style=\"color: #00af00; text-decoration-color: #00af00\">512</span>)    │     <span style=\"color: #00af00; text-decoration-color: #00af00\">2,359,808</span> │\n",
       "├─────────────────────────────────┼────────────────────────┼───────────────┤\n",
       "│ block4_pool (<span style=\"color: #0087ff; text-decoration-color: #0087ff\">MaxPooling2D</span>)      │ (<span style=\"color: #00d7ff; text-decoration-color: #00d7ff\">None</span>, <span style=\"color: #00af00; text-decoration-color: #00af00\">8</span>, <span style=\"color: #00af00; text-decoration-color: #00af00\">8</span>, <span style=\"color: #00af00; text-decoration-color: #00af00\">512</span>)      │             <span style=\"color: #00af00; text-decoration-color: #00af00\">0</span> │\n",
       "├─────────────────────────────────┼────────────────────────┼───────────────┤\n",
       "│ block5_conv1 (<span style=\"color: #0087ff; text-decoration-color: #0087ff\">Conv2D</span>)           │ (<span style=\"color: #00d7ff; text-decoration-color: #00d7ff\">None</span>, <span style=\"color: #00af00; text-decoration-color: #00af00\">8</span>, <span style=\"color: #00af00; text-decoration-color: #00af00\">8</span>, <span style=\"color: #00af00; text-decoration-color: #00af00\">512</span>)      │     <span style=\"color: #00af00; text-decoration-color: #00af00\">2,359,808</span> │\n",
       "├─────────────────────────────────┼────────────────────────┼───────────────┤\n",
       "│ block5_conv2 (<span style=\"color: #0087ff; text-decoration-color: #0087ff\">Conv2D</span>)           │ (<span style=\"color: #00d7ff; text-decoration-color: #00d7ff\">None</span>, <span style=\"color: #00af00; text-decoration-color: #00af00\">8</span>, <span style=\"color: #00af00; text-decoration-color: #00af00\">8</span>, <span style=\"color: #00af00; text-decoration-color: #00af00\">512</span>)      │     <span style=\"color: #00af00; text-decoration-color: #00af00\">2,359,808</span> │\n",
       "├─────────────────────────────────┼────────────────────────┼───────────────┤\n",
       "│ block5_conv3 (<span style=\"color: #0087ff; text-decoration-color: #0087ff\">Conv2D</span>)           │ (<span style=\"color: #00d7ff; text-decoration-color: #00d7ff\">None</span>, <span style=\"color: #00af00; text-decoration-color: #00af00\">8</span>, <span style=\"color: #00af00; text-decoration-color: #00af00\">8</span>, <span style=\"color: #00af00; text-decoration-color: #00af00\">512</span>)      │     <span style=\"color: #00af00; text-decoration-color: #00af00\">2,359,808</span> │\n",
       "├─────────────────────────────────┼────────────────────────┼───────────────┤\n",
       "│ block5_pool (<span style=\"color: #0087ff; text-decoration-color: #0087ff\">MaxPooling2D</span>)      │ (<span style=\"color: #00d7ff; text-decoration-color: #00d7ff\">None</span>, <span style=\"color: #00af00; text-decoration-color: #00af00\">4</span>, <span style=\"color: #00af00; text-decoration-color: #00af00\">4</span>, <span style=\"color: #00af00; text-decoration-color: #00af00\">512</span>)      │             <span style=\"color: #00af00; text-decoration-color: #00af00\">0</span> │\n",
       "├─────────────────────────────────┼────────────────────────┼───────────────┤\n",
       "│ flatten (<span style=\"color: #0087ff; text-decoration-color: #0087ff\">Flatten</span>)               │ (<span style=\"color: #00d7ff; text-decoration-color: #00d7ff\">None</span>, <span style=\"color: #00af00; text-decoration-color: #00af00\">8192</span>)           │             <span style=\"color: #00af00; text-decoration-color: #00af00\">0</span> │\n",
       "├─────────────────────────────────┼────────────────────────┼───────────────┤\n",
       "│ adjust_fc1_input (<span style=\"color: #0087ff; text-decoration-color: #0087ff\">Dense</span>)        │ (<span style=\"color: #00d7ff; text-decoration-color: #00d7ff\">None</span>, <span style=\"color: #00af00; text-decoration-color: #00af00\">25088</span>)          │   <span style=\"color: #00af00; text-decoration-color: #00af00\">205,545,984</span> │\n",
       "├─────────────────────────────────┼────────────────────────┼───────────────┤\n",
       "│ fc1 (<span style=\"color: #0087ff; text-decoration-color: #0087ff\">Dense</span>)                     │ (<span style=\"color: #00d7ff; text-decoration-color: #00d7ff\">None</span>, <span style=\"color: #00af00; text-decoration-color: #00af00\">4096</span>)           │   <span style=\"color: #00af00; text-decoration-color: #00af00\">102,764,544</span> │\n",
       "├─────────────────────────────────┼────────────────────────┼───────────────┤\n",
       "│ fc2 (<span style=\"color: #0087ff; text-decoration-color: #0087ff\">Dense</span>)                     │ (<span style=\"color: #00d7ff; text-decoration-color: #00d7ff\">None</span>, <span style=\"color: #00af00; text-decoration-color: #00af00\">4096</span>)           │    <span style=\"color: #00af00; text-decoration-color: #00af00\">16,781,312</span> │\n",
       "├─────────────────────────────────┼────────────────────────┼───────────────┤\n",
       "│ dense (<span style=\"color: #0087ff; text-decoration-color: #0087ff\">Dense</span>)                   │ (<span style=\"color: #00d7ff; text-decoration-color: #00d7ff\">None</span>, <span style=\"color: #00af00; text-decoration-color: #00af00\">1</span>)              │         <span style=\"color: #00af00; text-decoration-color: #00af00\">4,097</span> │\n",
       "└─────────────────────────────────┴────────────────────────┴───────────────┘\n",
       "</pre>\n"
      ],
      "text/plain": [
       "┏━━━━━━━━━━━━━━━━━━━━━━━━━━━━━━━━━┳━━━━━━━━━━━━━━━━━━━━━━━━┳━━━━━━━━━━━━━━━┓\n",
       "┃\u001b[1m \u001b[0m\u001b[1mLayer (type)                   \u001b[0m\u001b[1m \u001b[0m┃\u001b[1m \u001b[0m\u001b[1mOutput Shape          \u001b[0m\u001b[1m \u001b[0m┃\u001b[1m \u001b[0m\u001b[1m      Param #\u001b[0m\u001b[1m \u001b[0m┃\n",
       "┡━━━━━━━━━━━━━━━━━━━━━━━━━━━━━━━━━╇━━━━━━━━━━━━━━━━━━━━━━━━╇━━━━━━━━━━━━━━━┩\n",
       "│ block1_conv1 (\u001b[38;5;33mConv2D\u001b[0m)           │ (\u001b[38;5;45mNone\u001b[0m, \u001b[38;5;34m128\u001b[0m, \u001b[38;5;34m128\u001b[0m, \u001b[38;5;34m64\u001b[0m)   │         \u001b[38;5;34m1,792\u001b[0m │\n",
       "├─────────────────────────────────┼────────────────────────┼───────────────┤\n",
       "│ block1_conv2 (\u001b[38;5;33mConv2D\u001b[0m)           │ (\u001b[38;5;45mNone\u001b[0m, \u001b[38;5;34m128\u001b[0m, \u001b[38;5;34m128\u001b[0m, \u001b[38;5;34m64\u001b[0m)   │        \u001b[38;5;34m36,928\u001b[0m │\n",
       "├─────────────────────────────────┼────────────────────────┼───────────────┤\n",
       "│ block1_pool (\u001b[38;5;33mMaxPooling2D\u001b[0m)      │ (\u001b[38;5;45mNone\u001b[0m, \u001b[38;5;34m64\u001b[0m, \u001b[38;5;34m64\u001b[0m, \u001b[38;5;34m64\u001b[0m)     │             \u001b[38;5;34m0\u001b[0m │\n",
       "├─────────────────────────────────┼────────────────────────┼───────────────┤\n",
       "│ block2_conv1 (\u001b[38;5;33mConv2D\u001b[0m)           │ (\u001b[38;5;45mNone\u001b[0m, \u001b[38;5;34m64\u001b[0m, \u001b[38;5;34m64\u001b[0m, \u001b[38;5;34m128\u001b[0m)    │        \u001b[38;5;34m73,856\u001b[0m │\n",
       "├─────────────────────────────────┼────────────────────────┼───────────────┤\n",
       "│ block2_conv2 (\u001b[38;5;33mConv2D\u001b[0m)           │ (\u001b[38;5;45mNone\u001b[0m, \u001b[38;5;34m64\u001b[0m, \u001b[38;5;34m64\u001b[0m, \u001b[38;5;34m128\u001b[0m)    │       \u001b[38;5;34m147,584\u001b[0m │\n",
       "├─────────────────────────────────┼────────────────────────┼───────────────┤\n",
       "│ block2_pool (\u001b[38;5;33mMaxPooling2D\u001b[0m)      │ (\u001b[38;5;45mNone\u001b[0m, \u001b[38;5;34m32\u001b[0m, \u001b[38;5;34m32\u001b[0m, \u001b[38;5;34m128\u001b[0m)    │             \u001b[38;5;34m0\u001b[0m │\n",
       "├─────────────────────────────────┼────────────────────────┼───────────────┤\n",
       "│ block3_conv1 (\u001b[38;5;33mConv2D\u001b[0m)           │ (\u001b[38;5;45mNone\u001b[0m, \u001b[38;5;34m32\u001b[0m, \u001b[38;5;34m32\u001b[0m, \u001b[38;5;34m256\u001b[0m)    │       \u001b[38;5;34m295,168\u001b[0m │\n",
       "├─────────────────────────────────┼────────────────────────┼───────────────┤\n",
       "│ block3_conv2 (\u001b[38;5;33mConv2D\u001b[0m)           │ (\u001b[38;5;45mNone\u001b[0m, \u001b[38;5;34m32\u001b[0m, \u001b[38;5;34m32\u001b[0m, \u001b[38;5;34m256\u001b[0m)    │       \u001b[38;5;34m590,080\u001b[0m │\n",
       "├─────────────────────────────────┼────────────────────────┼───────────────┤\n",
       "│ block3_conv3 (\u001b[38;5;33mConv2D\u001b[0m)           │ (\u001b[38;5;45mNone\u001b[0m, \u001b[38;5;34m32\u001b[0m, \u001b[38;5;34m32\u001b[0m, \u001b[38;5;34m256\u001b[0m)    │       \u001b[38;5;34m590,080\u001b[0m │\n",
       "├─────────────────────────────────┼────────────────────────┼───────────────┤\n",
       "│ block3_pool (\u001b[38;5;33mMaxPooling2D\u001b[0m)      │ (\u001b[38;5;45mNone\u001b[0m, \u001b[38;5;34m16\u001b[0m, \u001b[38;5;34m16\u001b[0m, \u001b[38;5;34m256\u001b[0m)    │             \u001b[38;5;34m0\u001b[0m │\n",
       "├─────────────────────────────────┼────────────────────────┼───────────────┤\n",
       "│ block4_conv1 (\u001b[38;5;33mConv2D\u001b[0m)           │ (\u001b[38;5;45mNone\u001b[0m, \u001b[38;5;34m16\u001b[0m, \u001b[38;5;34m16\u001b[0m, \u001b[38;5;34m512\u001b[0m)    │     \u001b[38;5;34m1,180,160\u001b[0m │\n",
       "├─────────────────────────────────┼────────────────────────┼───────────────┤\n",
       "│ block4_conv2 (\u001b[38;5;33mConv2D\u001b[0m)           │ (\u001b[38;5;45mNone\u001b[0m, \u001b[38;5;34m16\u001b[0m, \u001b[38;5;34m16\u001b[0m, \u001b[38;5;34m512\u001b[0m)    │     \u001b[38;5;34m2,359,808\u001b[0m │\n",
       "├─────────────────────────────────┼────────────────────────┼───────────────┤\n",
       "│ block4_conv3 (\u001b[38;5;33mConv2D\u001b[0m)           │ (\u001b[38;5;45mNone\u001b[0m, \u001b[38;5;34m16\u001b[0m, \u001b[38;5;34m16\u001b[0m, \u001b[38;5;34m512\u001b[0m)    │     \u001b[38;5;34m2,359,808\u001b[0m │\n",
       "├─────────────────────────────────┼────────────────────────┼───────────────┤\n",
       "│ block4_pool (\u001b[38;5;33mMaxPooling2D\u001b[0m)      │ (\u001b[38;5;45mNone\u001b[0m, \u001b[38;5;34m8\u001b[0m, \u001b[38;5;34m8\u001b[0m, \u001b[38;5;34m512\u001b[0m)      │             \u001b[38;5;34m0\u001b[0m │\n",
       "├─────────────────────────────────┼────────────────────────┼───────────────┤\n",
       "│ block5_conv1 (\u001b[38;5;33mConv2D\u001b[0m)           │ (\u001b[38;5;45mNone\u001b[0m, \u001b[38;5;34m8\u001b[0m, \u001b[38;5;34m8\u001b[0m, \u001b[38;5;34m512\u001b[0m)      │     \u001b[38;5;34m2,359,808\u001b[0m │\n",
       "├─────────────────────────────────┼────────────────────────┼───────────────┤\n",
       "│ block5_conv2 (\u001b[38;5;33mConv2D\u001b[0m)           │ (\u001b[38;5;45mNone\u001b[0m, \u001b[38;5;34m8\u001b[0m, \u001b[38;5;34m8\u001b[0m, \u001b[38;5;34m512\u001b[0m)      │     \u001b[38;5;34m2,359,808\u001b[0m │\n",
       "├─────────────────────────────────┼────────────────────────┼───────────────┤\n",
       "│ block5_conv3 (\u001b[38;5;33mConv2D\u001b[0m)           │ (\u001b[38;5;45mNone\u001b[0m, \u001b[38;5;34m8\u001b[0m, \u001b[38;5;34m8\u001b[0m, \u001b[38;5;34m512\u001b[0m)      │     \u001b[38;5;34m2,359,808\u001b[0m │\n",
       "├─────────────────────────────────┼────────────────────────┼───────────────┤\n",
       "│ block5_pool (\u001b[38;5;33mMaxPooling2D\u001b[0m)      │ (\u001b[38;5;45mNone\u001b[0m, \u001b[38;5;34m4\u001b[0m, \u001b[38;5;34m4\u001b[0m, \u001b[38;5;34m512\u001b[0m)      │             \u001b[38;5;34m0\u001b[0m │\n",
       "├─────────────────────────────────┼────────────────────────┼───────────────┤\n",
       "│ flatten (\u001b[38;5;33mFlatten\u001b[0m)               │ (\u001b[38;5;45mNone\u001b[0m, \u001b[38;5;34m8192\u001b[0m)           │             \u001b[38;5;34m0\u001b[0m │\n",
       "├─────────────────────────────────┼────────────────────────┼───────────────┤\n",
       "│ adjust_fc1_input (\u001b[38;5;33mDense\u001b[0m)        │ (\u001b[38;5;45mNone\u001b[0m, \u001b[38;5;34m25088\u001b[0m)          │   \u001b[38;5;34m205,545,984\u001b[0m │\n",
       "├─────────────────────────────────┼────────────────────────┼───────────────┤\n",
       "│ fc1 (\u001b[38;5;33mDense\u001b[0m)                     │ (\u001b[38;5;45mNone\u001b[0m, \u001b[38;5;34m4096\u001b[0m)           │   \u001b[38;5;34m102,764,544\u001b[0m │\n",
       "├─────────────────────────────────┼────────────────────────┼───────────────┤\n",
       "│ fc2 (\u001b[38;5;33mDense\u001b[0m)                     │ (\u001b[38;5;45mNone\u001b[0m, \u001b[38;5;34m4096\u001b[0m)           │    \u001b[38;5;34m16,781,312\u001b[0m │\n",
       "├─────────────────────────────────┼────────────────────────┼───────────────┤\n",
       "│ dense (\u001b[38;5;33mDense\u001b[0m)                   │ (\u001b[38;5;45mNone\u001b[0m, \u001b[38;5;34m1\u001b[0m)              │         \u001b[38;5;34m4,097\u001b[0m │\n",
       "└─────────────────────────────────┴────────────────────────┴───────────────┘\n"
      ]
     },
     "metadata": {},
     "output_type": "display_data"
    },
    {
     "data": {
      "text/html": [
       "<pre style=\"white-space:pre;overflow-x:auto;line-height:normal;font-family:Menlo,'DejaVu Sans Mono',consolas,'Courier New',monospace\"><span style=\"font-weight: bold\"> Total params: </span><span style=\"color: #00af00; text-decoration-color: #00af00\">339,810,625</span> (1.27 GB)\n",
       "</pre>\n"
      ],
      "text/plain": [
       "\u001b[1m Total params: \u001b[0m\u001b[38;5;34m339,810,625\u001b[0m (1.27 GB)\n"
      ]
     },
     "metadata": {},
     "output_type": "display_data"
    },
    {
     "data": {
      "text/html": [
       "<pre style=\"white-space:pre;overflow-x:auto;line-height:normal;font-family:Menlo,'DejaVu Sans Mono',consolas,'Courier New',monospace\"><span style=\"font-weight: bold\"> Trainable params: </span><span style=\"color: #00af00; text-decoration-color: #00af00\">325,095,937</span> (1.21 GB)\n",
       "</pre>\n"
      ],
      "text/plain": [
       "\u001b[1m Trainable params: \u001b[0m\u001b[38;5;34m325,095,937\u001b[0m (1.21 GB)\n"
      ]
     },
     "metadata": {},
     "output_type": "display_data"
    },
    {
     "data": {
      "text/html": [
       "<pre style=\"white-space:pre;overflow-x:auto;line-height:normal;font-family:Menlo,'DejaVu Sans Mono',consolas,'Courier New',monospace\"><span style=\"font-weight: bold\"> Non-trainable params: </span><span style=\"color: #00af00; text-decoration-color: #00af00\">14,714,688</span> (56.13 MB)\n",
       "</pre>\n"
      ],
      "text/plain": [
       "\u001b[1m Non-trainable params: \u001b[0m\u001b[38;5;34m14,714,688\u001b[0m (56.13 MB)\n"
      ]
     },
     "metadata": {},
     "output_type": "display_data"
    }
   ],
   "source": [
    "model.compile(optimizer=Adam(learning_rate=0.0001),\n",
    "              loss='binary_crossentropy',metrics=['accuracy'])\n",
    "model.summary()"
   ]
  },
  {
   "cell_type": "code",
   "execution_count": 18,
   "id": "465eebc9",
   "metadata": {
    "execution": {
     "iopub.execute_input": "2024-06-01T15:30:00.674304Z",
     "iopub.status.busy": "2024-06-01T15:30:00.673456Z",
     "iopub.status.idle": "2024-06-01T15:35:04.234381Z",
     "shell.execute_reply": "2024-06-01T15:35:04.233472Z"
    },
    "papermill": {
     "duration": 303.579626,
     "end_time": "2024-06-01T15:35:04.236844",
     "exception": false,
     "start_time": "2024-06-01T15:30:00.657218",
     "status": "completed"
    },
    "tags": []
   },
   "outputs": [
    {
     "name": "stdout",
     "output_type": "stream",
     "text": [
      "Epoch 1/20\n"
     ]
    },
    {
     "name": "stderr",
     "output_type": "stream",
     "text": [
      "2024-06-01 15:30:08.042230: E external/local_xla/xla/service/gpu/buffer_comparator.cc:1137] Difference at 0: 4.34782, expected 3.51669\n",
      "2024-06-01 15:30:08.042296: E external/local_xla/xla/service/gpu/buffer_comparator.cc:1137] Difference at 1: 6.71977, expected 5.88864\n",
      "2024-06-01 15:30:08.042306: E external/local_xla/xla/service/gpu/buffer_comparator.cc:1137] Difference at 2: 6.95696, expected 6.12583\n",
      "2024-06-01 15:30:08.042314: E external/local_xla/xla/service/gpu/buffer_comparator.cc:1137] Difference at 3: 6.48105, expected 5.64992\n",
      "2024-06-01 15:30:08.042322: E external/local_xla/xla/service/gpu/buffer_comparator.cc:1137] Difference at 4: 5.32797, expected 4.49684\n",
      "2024-06-01 15:30:08.042331: E external/local_xla/xla/service/gpu/buffer_comparator.cc:1137] Difference at 5: 5.7497, expected 4.91857\n",
      "2024-06-01 15:30:08.042339: E external/local_xla/xla/service/gpu/buffer_comparator.cc:1137] Difference at 6: 6.01592, expected 5.18479\n",
      "2024-06-01 15:30:08.042346: E external/local_xla/xla/service/gpu/buffer_comparator.cc:1137] Difference at 7: 5.52526, expected 4.69413\n",
      "2024-06-01 15:30:08.042354: E external/local_xla/xla/service/gpu/buffer_comparator.cc:1137] Difference at 8: 4.51707, expected 3.68594\n",
      "2024-06-01 15:30:08.042362: E external/local_xla/xla/service/gpu/buffer_comparator.cc:1137] Difference at 9: 4.88057, expected 4.04944\n",
      "2024-06-01 15:30:08.057250: E external/local_xla/xla/service/gpu/conv_algorithm_picker.cc:705] Results mismatch between different convolution algorithms. This is likely a bug/unexpected loss of precision in cudnn.\n",
      "(f32[32,64,128,128]{3,2,1,0}, u8[0]{0}) custom-call(f32[32,3,128,128]{3,2,1,0}, f32[64,3,3,3]{3,2,1,0}, f32[64]{0}), window={size=3x3 pad=1_1x1_1}, dim_labels=bf01_oi01->bf01, custom_call_target=\"__cudnn$convBiasActivationForward\", backend_config={\"conv_result_scale\":1,\"activation_mode\":\"kRelu\",\"side_input_scale\":0,\"leakyrelu_alpha\":0} for eng20{k2=1,k4=1,k5=1,k6=0,k7=0} vs eng15{k5=1,k6=0,k7=1,k10=1}\n",
      "2024-06-01 15:30:08.057309: E external/local_xla/xla/service/gpu/conv_algorithm_picker.cc:270] Device: Tesla P100-PCIE-16GB\n",
      "2024-06-01 15:30:08.057318: E external/local_xla/xla/service/gpu/conv_algorithm_picker.cc:271] Platform: Compute Capability 6.0\n",
      "2024-06-01 15:30:08.057325: E external/local_xla/xla/service/gpu/conv_algorithm_picker.cc:272] Driver: 12020 (535.129.3)\n",
      "2024-06-01 15:30:08.057333: E external/local_xla/xla/service/gpu/conv_algorithm_picker.cc:273] Runtime: <undefined>\n",
      "2024-06-01 15:30:08.057350: E external/local_xla/xla/service/gpu/conv_algorithm_picker.cc:280] cudnn version: 8.9.0\n",
      "2024-06-01 15:30:08.577995: E external/local_xla/xla/service/gpu/buffer_comparator.cc:1137] Difference at 0: 4.34782, expected 3.51669\n",
      "2024-06-01 15:30:08.578060: E external/local_xla/xla/service/gpu/buffer_comparator.cc:1137] Difference at 1: 6.71977, expected 5.88864\n",
      "2024-06-01 15:30:08.578075: E external/local_xla/xla/service/gpu/buffer_comparator.cc:1137] Difference at 2: 6.95696, expected 6.12583\n",
      "2024-06-01 15:30:08.578089: E external/local_xla/xla/service/gpu/buffer_comparator.cc:1137] Difference at 3: 6.48105, expected 5.64992\n",
      "2024-06-01 15:30:08.578108: E external/local_xla/xla/service/gpu/buffer_comparator.cc:1137] Difference at 4: 5.32797, expected 4.49684\n",
      "2024-06-01 15:30:08.578120: E external/local_xla/xla/service/gpu/buffer_comparator.cc:1137] Difference at 5: 5.7497, expected 4.91857\n",
      "2024-06-01 15:30:08.578131: E external/local_xla/xla/service/gpu/buffer_comparator.cc:1137] Difference at 6: 6.01592, expected 5.18479\n",
      "2024-06-01 15:30:08.578143: E external/local_xla/xla/service/gpu/buffer_comparator.cc:1137] Difference at 7: 5.52526, expected 4.69413\n",
      "2024-06-01 15:30:08.578154: E external/local_xla/xla/service/gpu/buffer_comparator.cc:1137] Difference at 8: 4.51707, expected 3.68594\n",
      "2024-06-01 15:30:08.578165: E external/local_xla/xla/service/gpu/buffer_comparator.cc:1137] Difference at 9: 4.88057, expected 4.04944\n",
      "2024-06-01 15:30:08.593382: E external/local_xla/xla/service/gpu/conv_algorithm_picker.cc:705] Results mismatch between different convolution algorithms. This is likely a bug/unexpected loss of precision in cudnn.\n",
      "(f32[32,64,128,128]{3,2,1,0}, u8[0]{0}) custom-call(f32[32,3,128,128]{3,2,1,0}, f32[64,3,3,3]{3,2,1,0}, f32[64]{0}), window={size=3x3 pad=1_1x1_1}, dim_labels=bf01_oi01->bf01, custom_call_target=\"__cudnn$convBiasActivationForward\", backend_config={\"conv_result_scale\":1,\"activation_mode\":\"kRelu\",\"side_input_scale\":0,\"leakyrelu_alpha\":0} for eng20{k2=1,k4=1,k5=1,k6=0,k7=0} vs eng15{k5=1,k6=0,k7=1,k10=1}\n",
      "2024-06-01 15:30:08.593440: E external/local_xla/xla/service/gpu/conv_algorithm_picker.cc:270] Device: Tesla P100-PCIE-16GB\n",
      "2024-06-01 15:30:08.593454: E external/local_xla/xla/service/gpu/conv_algorithm_picker.cc:271] Platform: Compute Capability 6.0\n",
      "2024-06-01 15:30:08.593470: E external/local_xla/xla/service/gpu/conv_algorithm_picker.cc:272] Driver: 12020 (535.129.3)\n",
      "2024-06-01 15:30:08.593488: E external/local_xla/xla/service/gpu/conv_algorithm_picker.cc:273] Runtime: <undefined>\n",
      "2024-06-01 15:30:08.593508: E external/local_xla/xla/service/gpu/conv_algorithm_picker.cc:280] cudnn version: 8.9.0\n"
     ]
    },
    {
     "name": "stdout",
     "output_type": "stream",
     "text": [
      "\u001b[1m  2/189\u001b[0m \u001b[37m━━━━━━━━━━━━━━━━━━━━\u001b[0m \u001b[1m12s\u001b[0m 65ms/step - accuracy: 0.3984 - loss: 0.8818 "
     ]
    },
    {
     "name": "stderr",
     "output_type": "stream",
     "text": [
      "WARNING: All log messages before absl::InitializeLog() is called are written to STDERR\n",
      "I0000 00:00:1717255816.011749      67 device_compiler.h:186] Compiled cluster using XLA!  This line is logged at most once for the lifetime of the process.\n",
      "W0000 00:00:1717255816.034186      67 graph_launch.cc:671] Fallback to op-by-op mode because memset node breaks graph update\n"
     ]
    },
    {
     "name": "stdout",
     "output_type": "stream",
     "text": [
      "\u001b[1m188/189\u001b[0m \u001b[32m━━━━━━━━━━━━━━━━━━━\u001b[0m\u001b[37m━\u001b[0m \u001b[1m0s\u001b[0m 62ms/step - accuracy: 0.8600 - loss: 0.2925"
     ]
    },
    {
     "name": "stderr",
     "output_type": "stream",
     "text": [
      "2024-06-01 15:30:28.349398: E external/local_xla/xla/service/gpu/buffer_comparator.cc:1137] Difference at 32768: 3.6987, expected 2.89225\n",
      "2024-06-01 15:30:28.349500: E external/local_xla/xla/service/gpu/buffer_comparator.cc:1137] Difference at 32769: 5.46176, expected 4.65531\n",
      "2024-06-01 15:30:28.349510: E external/local_xla/xla/service/gpu/buffer_comparator.cc:1137] Difference at 32770: 4.83989, expected 4.03344\n",
      "2024-06-01 15:30:28.349519: E external/local_xla/xla/service/gpu/buffer_comparator.cc:1137] Difference at 32771: 5.11659, expected 4.31014\n",
      "2024-06-01 15:30:28.349528: E external/local_xla/xla/service/gpu/buffer_comparator.cc:1137] Difference at 32772: 4.76542, expected 3.95897\n",
      "2024-06-01 15:30:28.349540: E external/local_xla/xla/service/gpu/buffer_comparator.cc:1137] Difference at 32773: 3.75184, expected 2.94538\n",
      "2024-06-01 15:30:28.349548: E external/local_xla/xla/service/gpu/buffer_comparator.cc:1137] Difference at 32774: 3.62376, expected 2.81731\n",
      "2024-06-01 15:30:28.349557: E external/local_xla/xla/service/gpu/buffer_comparator.cc:1137] Difference at 32775: 3.46886, expected 2.66241\n",
      "2024-06-01 15:30:28.349565: E external/local_xla/xla/service/gpu/buffer_comparator.cc:1137] Difference at 32776: 2.94512, expected 2.13866\n",
      "2024-06-01 15:30:28.349574: E external/local_xla/xla/service/gpu/buffer_comparator.cc:1137] Difference at 32777: 3.30812, expected 2.50167\n",
      "2024-06-01 15:30:28.361985: E external/local_xla/xla/service/gpu/conv_algorithm_picker.cc:705] Results mismatch between different convolution algorithms. This is likely a bug/unexpected loss of precision in cudnn.\n",
      "(f32[26,64,128,128]{3,2,1,0}, u8[0]{0}) custom-call(f32[26,3,128,128]{3,2,1,0}, f32[64,3,3,3]{3,2,1,0}, f32[64]{0}), window={size=3x3 pad=1_1x1_1}, dim_labels=bf01_oi01->bf01, custom_call_target=\"__cudnn$convBiasActivationForward\", backend_config={\"conv_result_scale\":1,\"activation_mode\":\"kRelu\",\"side_input_scale\":0,\"leakyrelu_alpha\":0} for eng20{k2=1,k4=1,k5=1,k6=0,k7=0} vs eng15{k5=1,k6=0,k7=1,k10=1}\n",
      "2024-06-01 15:30:28.362035: E external/local_xla/xla/service/gpu/conv_algorithm_picker.cc:270] Device: Tesla P100-PCIE-16GB\n",
      "2024-06-01 15:30:28.362044: E external/local_xla/xla/service/gpu/conv_algorithm_picker.cc:271] Platform: Compute Capability 6.0\n",
      "2024-06-01 15:30:28.362051: E external/local_xla/xla/service/gpu/conv_algorithm_picker.cc:272] Driver: 12020 (535.129.3)\n",
      "2024-06-01 15:30:28.362059: E external/local_xla/xla/service/gpu/conv_algorithm_picker.cc:273] Runtime: <undefined>\n",
      "2024-06-01 15:30:28.362074: E external/local_xla/xla/service/gpu/conv_algorithm_picker.cc:280] cudnn version: 8.9.0\n",
      "2024-06-01 15:30:28.687667: E external/local_xla/xla/service/gpu/buffer_comparator.cc:1137] Difference at 32768: 3.6987, expected 2.89225\n",
      "2024-06-01 15:30:28.687738: E external/local_xla/xla/service/gpu/buffer_comparator.cc:1137] Difference at 32769: 5.46176, expected 4.65531\n",
      "2024-06-01 15:30:28.687747: E external/local_xla/xla/service/gpu/buffer_comparator.cc:1137] Difference at 32770: 4.83989, expected 4.03344\n",
      "2024-06-01 15:30:28.687756: E external/local_xla/xla/service/gpu/buffer_comparator.cc:1137] Difference at 32771: 5.11659, expected 4.31014\n",
      "2024-06-01 15:30:28.687764: E external/local_xla/xla/service/gpu/buffer_comparator.cc:1137] Difference at 32772: 4.76542, expected 3.95897\n",
      "2024-06-01 15:30:28.687772: E external/local_xla/xla/service/gpu/buffer_comparator.cc:1137] Difference at 32773: 3.75184, expected 2.94538\n",
      "2024-06-01 15:30:28.687780: E external/local_xla/xla/service/gpu/buffer_comparator.cc:1137] Difference at 32774: 3.62376, expected 2.81731\n",
      "2024-06-01 15:30:28.687788: E external/local_xla/xla/service/gpu/buffer_comparator.cc:1137] Difference at 32775: 3.46886, expected 2.66241\n",
      "2024-06-01 15:30:28.687796: E external/local_xla/xla/service/gpu/buffer_comparator.cc:1137] Difference at 32776: 2.94512, expected 2.13866\n",
      "2024-06-01 15:30:28.687804: E external/local_xla/xla/service/gpu/buffer_comparator.cc:1137] Difference at 32777: 3.30812, expected 2.50167\n",
      "2024-06-01 15:30:28.699749: E external/local_xla/xla/service/gpu/conv_algorithm_picker.cc:705] Results mismatch between different convolution algorithms. This is likely a bug/unexpected loss of precision in cudnn.\n",
      "(f32[26,64,128,128]{3,2,1,0}, u8[0]{0}) custom-call(f32[26,3,128,128]{3,2,1,0}, f32[64,3,3,3]{3,2,1,0}, f32[64]{0}), window={size=3x3 pad=1_1x1_1}, dim_labels=bf01_oi01->bf01, custom_call_target=\"__cudnn$convBiasActivationForward\", backend_config={\"conv_result_scale\":1,\"activation_mode\":\"kRelu\",\"side_input_scale\":0,\"leakyrelu_alpha\":0} for eng20{k2=1,k4=1,k5=1,k6=0,k7=0} vs eng15{k5=1,k6=0,k7=1,k10=1}\n",
      "2024-06-01 15:30:28.699794: E external/local_xla/xla/service/gpu/conv_algorithm_picker.cc:270] Device: Tesla P100-PCIE-16GB\n",
      "2024-06-01 15:30:28.699803: E external/local_xla/xla/service/gpu/conv_algorithm_picker.cc:271] Platform: Compute Capability 6.0\n",
      "2024-06-01 15:30:28.699810: E external/local_xla/xla/service/gpu/conv_algorithm_picker.cc:272] Driver: 12020 (535.129.3)\n",
      "2024-06-01 15:30:28.699817: E external/local_xla/xla/service/gpu/conv_algorithm_picker.cc:273] Runtime: <undefined>\n",
      "2024-06-01 15:30:28.699832: E external/local_xla/xla/service/gpu/conv_algorithm_picker.cc:280] cudnn version: 8.9.0\n"
     ]
    },
    {
     "name": "stdout",
     "output_type": "stream",
     "text": [
      "\u001b[1m189/189\u001b[0m \u001b[32m━━━━━━━━━━━━━━━━━━━━\u001b[0m\u001b[37m\u001b[0m \u001b[1m0s\u001b[0m 101ms/step - accuracy: 0.8603 - loss: 0.2920"
     ]
    },
    {
     "name": "stderr",
     "output_type": "stream",
     "text": [
      "W0000 00:00:1717255835.110136      69 graph_launch.cc:671] Fallback to op-by-op mode because memset node breaks graph update\n",
      "W0000 00:00:1717255836.848713      69 graph_launch.cc:671] Fallback to op-by-op mode because memset node breaks graph update\n",
      "2024-06-01 15:30:38.228378: E external/local_xla/xla/service/gpu/buffer_comparator.cc:1137] Difference at 16384: 2.87177, expected 2.26216\n",
      "2024-06-01 15:30:38.228443: E external/local_xla/xla/service/gpu/buffer_comparator.cc:1137] Difference at 16385: 4.47821, expected 3.8686\n",
      "2024-06-01 15:30:38.228453: E external/local_xla/xla/service/gpu/buffer_comparator.cc:1137] Difference at 16386: 4.30997, expected 3.70036\n",
      "2024-06-01 15:30:38.228461: E external/local_xla/xla/service/gpu/buffer_comparator.cc:1137] Difference at 16387: 4.353, expected 3.74339\n",
      "2024-06-01 15:30:38.228469: E external/local_xla/xla/service/gpu/buffer_comparator.cc:1137] Difference at 16388: 3.86761, expected 3.258\n",
      "2024-06-01 15:30:38.228477: E external/local_xla/xla/service/gpu/buffer_comparator.cc:1137] Difference at 16389: 3.83856, expected 3.22895\n",
      "2024-06-01 15:30:38.228485: E external/local_xla/xla/service/gpu/buffer_comparator.cc:1137] Difference at 16390: 3.60337, expected 2.99376\n",
      "2024-06-01 15:30:38.228493: E external/local_xla/xla/service/gpu/buffer_comparator.cc:1137] Difference at 16391: 2.9662, expected 2.35659\n",
      "2024-06-01 15:30:38.228501: E external/local_xla/xla/service/gpu/buffer_comparator.cc:1137] Difference at 16392: 2.71966, expected 2.11004\n",
      "2024-06-01 15:30:38.228509: E external/local_xla/xla/service/gpu/buffer_comparator.cc:1137] Difference at 16393: 2.73166, expected 2.12205\n",
      "2024-06-01 15:30:38.228532: E external/local_xla/xla/service/gpu/conv_algorithm_picker.cc:705] Results mismatch between different convolution algorithms. This is likely a bug/unexpected loss of precision in cudnn.\n",
      "(f32[7,64,128,128]{3,2,1,0}, u8[0]{0}) custom-call(f32[7,3,128,128]{3,2,1,0}, f32[64,3,3,3]{3,2,1,0}, f32[64]{0}), window={size=3x3 pad=1_1x1_1}, dim_labels=bf01_oi01->bf01, custom_call_target=\"__cudnn$convBiasActivationForward\", backend_config={\"conv_result_scale\":1,\"activation_mode\":\"kRelu\",\"side_input_scale\":0,\"leakyrelu_alpha\":0} for eng20{k2=1,k4=1,k5=1,k6=0,k7=0} vs eng15{k5=1,k6=0,k7=1,k10=1}\n",
      "2024-06-01 15:30:38.228540: E external/local_xla/xla/service/gpu/conv_algorithm_picker.cc:270] Device: Tesla P100-PCIE-16GB\n",
      "2024-06-01 15:30:38.228547: E external/local_xla/xla/service/gpu/conv_algorithm_picker.cc:271] Platform: Compute Capability 6.0\n",
      "2024-06-01 15:30:38.228554: E external/local_xla/xla/service/gpu/conv_algorithm_picker.cc:272] Driver: 12020 (535.129.3)\n",
      "2024-06-01 15:30:38.228561: E external/local_xla/xla/service/gpu/conv_algorithm_picker.cc:273] Runtime: <undefined>\n",
      "2024-06-01 15:30:38.228574: E external/local_xla/xla/service/gpu/conv_algorithm_picker.cc:280] cudnn version: 8.9.0\n",
      "2024-06-01 15:30:38.287920: E external/local_xla/xla/service/gpu/buffer_comparator.cc:1137] Difference at 16384: 2.87177, expected 2.26216\n",
      "2024-06-01 15:30:38.287993: E external/local_xla/xla/service/gpu/buffer_comparator.cc:1137] Difference at 16385: 4.47821, expected 3.8686\n",
      "2024-06-01 15:30:38.288003: E external/local_xla/xla/service/gpu/buffer_comparator.cc:1137] Difference at 16386: 4.30997, expected 3.70036\n",
      "2024-06-01 15:30:38.288029: E external/local_xla/xla/service/gpu/buffer_comparator.cc:1137] Difference at 16387: 4.353, expected 3.74339\n",
      "2024-06-01 15:30:38.288038: E external/local_xla/xla/service/gpu/buffer_comparator.cc:1137] Difference at 16388: 3.86761, expected 3.258\n",
      "2024-06-01 15:30:38.288046: E external/local_xla/xla/service/gpu/buffer_comparator.cc:1137] Difference at 16389: 3.83856, expected 3.22895\n",
      "2024-06-01 15:30:38.288055: E external/local_xla/xla/service/gpu/buffer_comparator.cc:1137] Difference at 16390: 3.60337, expected 2.99376\n",
      "2024-06-01 15:30:38.288063: E external/local_xla/xla/service/gpu/buffer_comparator.cc:1137] Difference at 16391: 2.9662, expected 2.35659\n",
      "2024-06-01 15:30:38.288072: E external/local_xla/xla/service/gpu/buffer_comparator.cc:1137] Difference at 16392: 2.71966, expected 2.11004\n",
      "2024-06-01 15:30:38.288080: E external/local_xla/xla/service/gpu/buffer_comparator.cc:1137] Difference at 16393: 2.73166, expected 2.12205\n",
      "2024-06-01 15:30:38.288104: E external/local_xla/xla/service/gpu/conv_algorithm_picker.cc:705] Results mismatch between different convolution algorithms. This is likely a bug/unexpected loss of precision in cudnn.\n",
      "(f32[7,64,128,128]{3,2,1,0}, u8[0]{0}) custom-call(f32[7,3,128,128]{3,2,1,0}, f32[64,3,3,3]{3,2,1,0}, f32[64]{0}), window={size=3x3 pad=1_1x1_1}, dim_labels=bf01_oi01->bf01, custom_call_target=\"__cudnn$convBiasActivationForward\", backend_config={\"conv_result_scale\":1,\"activation_mode\":\"kRelu\",\"side_input_scale\":0,\"leakyrelu_alpha\":0} for eng20{k2=1,k4=1,k5=1,k6=0,k7=0} vs eng15{k5=1,k6=0,k7=1,k10=1}\n",
      "2024-06-01 15:30:38.288114: E external/local_xla/xla/service/gpu/conv_algorithm_picker.cc:270] Device: Tesla P100-PCIE-16GB\n",
      "2024-06-01 15:30:38.288121: E external/local_xla/xla/service/gpu/conv_algorithm_picker.cc:271] Platform: Compute Capability 6.0\n",
      "2024-06-01 15:30:38.288128: E external/local_xla/xla/service/gpu/conv_algorithm_picker.cc:272] Driver: 12020 (535.129.3)\n",
      "2024-06-01 15:30:38.288135: E external/local_xla/xla/service/gpu/conv_algorithm_picker.cc:273] Runtime: <undefined>\n",
      "2024-06-01 15:30:38.288150: E external/local_xla/xla/service/gpu/conv_algorithm_picker.cc:280] cudnn version: 8.9.0\n"
     ]
    },
    {
     "name": "stdout",
     "output_type": "stream",
     "text": [
      "\u001b[1m189/189\u001b[0m \u001b[32m━━━━━━━━━━━━━━━━━━━━\u001b[0m\u001b[37m\u001b[0m \u001b[1m37s\u001b[0m 132ms/step - accuracy: 0.8606 - loss: 0.2914 - val_accuracy: 0.9431 - val_loss: 20.7421\n",
      "Epoch 2/20\n",
      "\u001b[1m  2/189\u001b[0m \u001b[37m━━━━━━━━━━━━━━━━━━━━\u001b[0m \u001b[1m11s\u001b[0m 63ms/step - accuracy: 0.9766 - loss: 0.0908"
     ]
    },
    {
     "name": "stderr",
     "output_type": "stream",
     "text": [
      "W0000 00:00:1717255840.933083      69 graph_launch.cc:671] Fallback to op-by-op mode because memset node breaks graph update\n"
     ]
    },
    {
     "name": "stdout",
     "output_type": "stream",
     "text": [
      "\u001b[1m189/189\u001b[0m \u001b[32m━━━━━━━━━━━━━━━━━━━━\u001b[0m\u001b[37m\u001b[0m \u001b[1m13s\u001b[0m 69ms/step - accuracy: 0.9676 - loss: 0.0874 - val_accuracy: 0.9312 - val_loss: 8.0535\n",
      "Epoch 3/20\n",
      "\u001b[1m189/189\u001b[0m \u001b[32m━━━━━━━━━━━━━━━━━━━━\u001b[0m\u001b[37m\u001b[0m \u001b[1m13s\u001b[0m 69ms/step - accuracy: 0.9686 - loss: 0.0767 - val_accuracy: 0.9471 - val_loss: 26.0297\n",
      "Epoch 4/20\n",
      "\u001b[1m189/189\u001b[0m \u001b[32m━━━━━━━━━━━━━━━━━━━━\u001b[0m\u001b[37m\u001b[0m \u001b[1m13s\u001b[0m 69ms/step - accuracy: 0.9857 - loss: 0.0400 - val_accuracy: 0.9530 - val_loss: 56.5405\n",
      "Epoch 5/20\n",
      "\u001b[1m189/189\u001b[0m \u001b[32m━━━━━━━━━━━━━━━━━━━━\u001b[0m\u001b[37m\u001b[0m \u001b[1m13s\u001b[0m 69ms/step - accuracy: 0.9927 - loss: 0.0201 - val_accuracy: 0.9444 - val_loss: 35.0007\n",
      "Epoch 6/20\n",
      "\u001b[1m189/189\u001b[0m \u001b[32m━━━━━━━━━━━━━━━━━━━━\u001b[0m\u001b[37m\u001b[0m \u001b[1m13s\u001b[0m 69ms/step - accuracy: 0.9907 - loss: 0.0241 - val_accuracy: 0.9610 - val_loss: 39.4320\n",
      "Epoch 7/20\n",
      "\u001b[1m189/189\u001b[0m \u001b[32m━━━━━━━━━━━━━━━━━━━━\u001b[0m\u001b[37m\u001b[0m \u001b[1m13s\u001b[0m 69ms/step - accuracy: 0.9945 - loss: 0.0186 - val_accuracy: 0.9543 - val_loss: 94.8940\n",
      "Epoch 8/20\n",
      "\u001b[1m189/189\u001b[0m \u001b[32m━━━━━━━━━━━━━━━━━━━━\u001b[0m\u001b[37m\u001b[0m \u001b[1m20s\u001b[0m 69ms/step - accuracy: 0.9954 - loss: 0.0163 - val_accuracy: 0.9378 - val_loss: 118.4972\n",
      "Epoch 9/20\n",
      "\u001b[1m189/189\u001b[0m \u001b[32m━━━━━━━━━━━━━━━━━━━━\u001b[0m\u001b[37m\u001b[0m \u001b[1m13s\u001b[0m 69ms/step - accuracy: 0.9904 - loss: 0.0310 - val_accuracy: 0.9504 - val_loss: 89.1711\n",
      "Epoch 10/20\n",
      "\u001b[1m189/189\u001b[0m \u001b[32m━━━━━━━━━━━━━━━━━━━━\u001b[0m\u001b[37m\u001b[0m \u001b[1m13s\u001b[0m 69ms/step - accuracy: 0.9959 - loss: 0.0131 - val_accuracy: 0.9464 - val_loss: 103.0398\n",
      "Epoch 11/20\n",
      "\u001b[1m189/189\u001b[0m \u001b[32m━━━━━━━━━━━━━━━━━━━━\u001b[0m\u001b[37m\u001b[0m \u001b[1m13s\u001b[0m 69ms/step - accuracy: 0.9955 - loss: 0.0142 - val_accuracy: 0.9576 - val_loss: 76.2036\n",
      "Epoch 12/20\n",
      "\u001b[1m189/189\u001b[0m \u001b[32m━━━━━━━━━━━━━━━━━━━━\u001b[0m\u001b[37m\u001b[0m \u001b[1m13s\u001b[0m 69ms/step - accuracy: 0.9962 - loss: 0.0123 - val_accuracy: 0.9629 - val_loss: 64.1759\n",
      "Epoch 13/20\n",
      "\u001b[1m189/189\u001b[0m \u001b[32m━━━━━━━━━━━━━━━━━━━━\u001b[0m\u001b[37m\u001b[0m \u001b[1m13s\u001b[0m 69ms/step - accuracy: 0.9984 - loss: 0.0062 - val_accuracy: 0.9570 - val_loss: 67.4907\n",
      "Epoch 14/20\n",
      "\u001b[1m189/189\u001b[0m \u001b[32m━━━━━━━━━━━━━━━━━━━━\u001b[0m\u001b[37m\u001b[0m \u001b[1m13s\u001b[0m 69ms/step - accuracy: 0.9960 - loss: 0.0157 - val_accuracy: 0.9570 - val_loss: 68.1098\n",
      "Epoch 15/20\n",
      "\u001b[1m189/189\u001b[0m \u001b[32m━━━━━━━━━━━━━━━━━━━━\u001b[0m\u001b[37m\u001b[0m \u001b[1m20s\u001b[0m 69ms/step - accuracy: 0.9958 - loss: 0.0115 - val_accuracy: 0.9583 - val_loss: 84.1512\n",
      "Epoch 16/20\n",
      "\u001b[1m189/189\u001b[0m \u001b[32m━━━━━━━━━━━━━━━━━━━━\u001b[0m\u001b[37m\u001b[0m \u001b[1m13s\u001b[0m 69ms/step - accuracy: 0.9976 - loss: 0.0066 - val_accuracy: 0.9411 - val_loss: 66.5106\n",
      "Epoch 17/20\n",
      "\u001b[1m189/189\u001b[0m \u001b[32m━━━━━━━━━━━━━━━━━━━━\u001b[0m\u001b[37m\u001b[0m \u001b[1m13s\u001b[0m 69ms/step - accuracy: 0.9970 - loss: 0.0119 - val_accuracy: 0.9590 - val_loss: 118.6591\n",
      "Epoch 18/20\n",
      "\u001b[1m189/189\u001b[0m \u001b[32m━━━━━━━━━━━━━━━━━━━━\u001b[0m\u001b[37m\u001b[0m \u001b[1m13s\u001b[0m 69ms/step - accuracy: 0.9972 - loss: 0.0098 - val_accuracy: 0.9583 - val_loss: 81.8235\n",
      "Epoch 19/20\n",
      "\u001b[1m189/189\u001b[0m \u001b[32m━━━━━━━━━━━━━━━━━━━━\u001b[0m\u001b[37m\u001b[0m \u001b[1m13s\u001b[0m 69ms/step - accuracy: 0.9966 - loss: 0.0109 - val_accuracy: 0.9563 - val_loss: 54.4995\n",
      "Epoch 20/20\n",
      "\u001b[1m189/189\u001b[0m \u001b[32m━━━━━━━━━━━━━━━━━━━━\u001b[0m\u001b[37m\u001b[0m \u001b[1m13s\u001b[0m 69ms/step - accuracy: 0.9981 - loss: 0.0080 - val_accuracy: 0.9497 - val_loss: 67.2287\n"
     ]
    }
   ],
   "source": [
    "epochs=20\n",
    "history=model.fit(X_train,y_train,epochs=epochs,validation_data=(X_test,y_test),verbose=1)"
   ]
  },
  {
   "cell_type": "code",
   "execution_count": 19,
   "id": "4e0a2044",
   "metadata": {
    "execution": {
     "iopub.execute_input": "2024-06-01T15:35:04.906456Z",
     "iopub.status.busy": "2024-06-01T15:35:04.905615Z",
     "iopub.status.idle": "2024-06-01T15:35:08.255547Z",
     "shell.execute_reply": "2024-06-01T15:35:08.254561Z"
    },
    "papermill": {
     "duration": 3.688604,
     "end_time": "2024-06-01T15:35:08.257898",
     "exception": false,
     "start_time": "2024-06-01T15:35:04.569294",
     "status": "completed"
    },
    "tags": []
   },
   "outputs": [
    {
     "name": "stdout",
     "output_type": "stream",
     "text": [
      "\u001b[1m 7/48\u001b[0m \u001b[32m━━\u001b[0m\u001b[37m━━━━━━━━━━━━━━━━━━\u001b[0m \u001b[1m0s\u001b[0m 22ms/step"
     ]
    },
    {
     "name": "stderr",
     "output_type": "stream",
     "text": [
      "W0000 00:00:1717256106.445599      69 graph_launch.cc:671] Fallback to op-by-op mode because memset node breaks graph update\n"
     ]
    },
    {
     "name": "stdout",
     "output_type": "stream",
     "text": [
      "\u001b[1m48/48\u001b[0m \u001b[32m━━━━━━━━━━━━━━━━━━━━\u001b[0m\u001b[37m\u001b[0m \u001b[1m2s\u001b[0m 37ms/step\n"
     ]
    },
    {
     "name": "stderr",
     "output_type": "stream",
     "text": [
      "W0000 00:00:1717256108.184728      69 graph_launch.cc:671] Fallback to op-by-op mode because memset node breaks graph update\n"
     ]
    }
   ],
   "source": [
    "y_prob=model.predict(X_test)\n",
    "y_pred=np.where(y_prob>0.5,1,0)"
   ]
  },
  {
   "cell_type": "code",
   "execution_count": 20,
   "id": "0c04d4d1",
   "metadata": {
    "execution": {
     "iopub.execute_input": "2024-06-01T15:35:09.042859Z",
     "iopub.status.busy": "2024-06-01T15:35:09.042142Z",
     "iopub.status.idle": "2024-06-01T15:35:09.047083Z",
     "shell.execute_reply": "2024-06-01T15:35:09.046068Z"
    },
    "papermill": {
     "duration": 0.347825,
     "end_time": "2024-06-01T15:35:09.049148",
     "exception": false,
     "start_time": "2024-06-01T15:35:08.701323",
     "status": "completed"
    },
    "tags": []
   },
   "outputs": [],
   "source": [
    "from sklearn.metrics import accuracy_score,recall_score,confusion_matrix"
   ]
  },
  {
   "cell_type": "code",
   "execution_count": 21,
   "id": "06b3c731",
   "metadata": {
    "execution": {
     "iopub.execute_input": "2024-06-01T15:35:09.716200Z",
     "iopub.status.busy": "2024-06-01T15:35:09.715836Z",
     "iopub.status.idle": "2024-06-01T15:35:09.728992Z",
     "shell.execute_reply": "2024-06-01T15:35:09.727967Z"
    },
    "papermill": {
     "duration": 0.346964,
     "end_time": "2024-06-01T15:35:09.731290",
     "exception": false,
     "start_time": "2024-06-01T15:35:09.384326",
     "status": "completed"
    },
    "tags": []
   },
   "outputs": [
    {
     "name": "stdout",
     "output_type": "stream",
     "text": [
      "accuracy is 94.97%\n",
      "recall is 97.64%\n",
      "[[689  58]\n",
      " [ 18 746]]\n"
     ]
    }
   ],
   "source": [
    "acc=accuracy_score(y_test,y_pred)\n",
    "recall=recall_score(y_test,y_pred)\n",
    "cm=confusion_matrix(y_test,y_pred)\n",
    "print(f\"accuracy is {acc*100:.2f}%\")\n",
    "print(f\"recall is {recall*100:.2f}%\")\n",
    "print(cm)"
   ]
  },
  {
   "cell_type": "code",
   "execution_count": 22,
   "id": "186d51cf",
   "metadata": {
    "execution": {
     "iopub.execute_input": "2024-06-01T15:35:10.436472Z",
     "iopub.status.busy": "2024-06-01T15:35:10.435798Z",
     "iopub.status.idle": "2024-06-01T15:35:10.440152Z",
     "shell.execute_reply": "2024-06-01T15:35:10.439264Z"
    },
    "papermill": {
     "duration": 0.361523,
     "end_time": "2024-06-01T15:35:10.442198",
     "exception": false,
     "start_time": "2024-06-01T15:35:10.080675",
     "status": "completed"
    },
    "tags": []
   },
   "outputs": [],
   "source": [
    "import matplotlib.pyplot as plt"
   ]
  },
  {
   "cell_type": "code",
   "execution_count": 23,
   "id": "beb74278",
   "metadata": {
    "execution": {
     "iopub.execute_input": "2024-06-01T15:35:11.111722Z",
     "iopub.status.busy": "2024-06-01T15:35:11.111346Z",
     "iopub.status.idle": "2024-06-01T15:35:11.465144Z",
     "shell.execute_reply": "2024-06-01T15:35:11.464073Z"
    },
    "papermill": {
     "duration": 0.688665,
     "end_time": "2024-06-01T15:35:11.467202",
     "exception": false,
     "start_time": "2024-06-01T15:35:10.778537",
     "status": "completed"
    },
    "tags": []
   },
   "outputs": [
    {
     "data": {
      "image/png": "[encoded data removed]",
      "text/plain": [
       "<Figure size 640x480 with 1 Axes>"
      ]
     },
     "metadata": {},
     "output_type": "display_data"
    }
   ],
   "source": [
    "plt.plot(history.history['loss'],label='train_loss')\n",
    "plt.plot(history.history['val_loss'],label='validation_loss')\n",
    "plt.legend()\n",
    "plt.xticks(np.arange(0, epochs, 1))\n",
    "plt.show()"
   ]
  },
  {
   "cell_type": "code",
   "execution_count": 24,
   "id": "0491da60",
   "metadata": {
    "execution": {
     "iopub.execute_input": "2024-06-01T15:35:12.198113Z",
     "iopub.status.busy": "2024-06-01T15:35:12.197758Z",
     "iopub.status.idle": "2024-06-01T15:35:12.540135Z",
     "shell.execute_reply": "2024-06-01T15:35:12.539185Z"
    },
    "papermill": {
     "duration": 0.683125,
     "end_time": "2024-06-01T15:35:12.542067",
     "exception": false,
     "start_time": "2024-06-01T15:35:11.858942",
     "status": "completed"
    },
    "tags": []
   },
   "outputs": [
    {
     "data": {
      "image/png": "[encoded data removed]",
      "text/plain": [
       "<Figure size 640x480 with 1 Axes>"
      ]
     },
     "metadata": {},
     "output_type": "display_data"
    }
   ],
   "source": [
    "plt.plot(history.history['accuracy'],label='train accuracy')\n",
    "plt.plot(history.history['val_accuracy'],label='validation accuracy')\n",
    "plt.legend()\n",
    "plt.xticks(np.arange(0, epochs, 1))\n",
    "plt.show()"
   ]
  },
  {
   "cell_type": "code",
   "execution_count": null,
   "id": "f3009de1",
   "metadata": {
    "papermill": {
     "duration": 0.333551,
     "end_time": "2024-06-01T15:35:13.206345",
     "exception": false,
     "start_time": "2024-06-01T15:35:12.872794",
     "status": "completed"
    },
    "tags": []
   },
   "outputs": [],
   "source": []
  }
 ],
 "metadata": {
  "kaggle": {
   "accelerator": "gpu",
   "dataSources": [
    {
     "datasetId": 809358,
     "sourceId": 1386555,
     "sourceType": "datasetVersion"
    }
   ],
   "dockerImageVersionId": 30699,
   "isGpuEnabled": true,
   "isInternetEnabled": true,
   "language": "python",
   "sourceType": "notebook"
  },
  "kernelspec": {
   "display_name": "Python 3",
   "language": "python",
   "name": "python3"
  },
  "language_info": {
   "codemirror_mode": {
    "name": "ipython",
    "version": 3
   },
   "file_extension": ".py",
   "mimetype": "text/x-python",
   "name": "python",
   "nbconvert_exporter": "python",
   "pygments_lexer": "ipython3",
   "version": "3.10.13"
  },
  "papermill": {
   "default_parameters": {},
   "duration": 393.537156,
   "end_time": "2024-06-01T15:35:16.538748",
   "environment_variables": {},
   "exception": null,
   "input_path": "__notebook__.ipynb",
   "output_path": "__notebook__.ipynb",
   "parameters": {},
   "start_time": "2024-06-01T15:28:43.001592",
   "version": "2.5.0"
  }
 },
 "nbformat": 4,
 "nbformat_minor": 5
}
